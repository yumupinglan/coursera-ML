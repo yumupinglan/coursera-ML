{
 "cells": [
  {
   "cell_type": "code",
   "execution_count": 1,
   "metadata": {
    "collapsed": true
   },
   "outputs": [],
   "source": [
    "import graphlab"
   ]
  },
  {
   "cell_type": "code",
   "execution_count": 2,
   "metadata": {
    "collapsed": false
   },
   "outputs": [
    {
     "name": "stdout",
     "output_type": "stream",
     "text": [
      "This non-commercial license of GraphLab Create for academic use is assigned to yumupinglan@gmail.com and will expire on March 22, 2020.\n"
     ]
    },
    {
     "name": "stderr",
     "output_type": "stream",
     "text": [
      "[INFO] graphlab.cython.cy_server: GraphLab Create v2.1 started. Logging: /tmp/graphlab_server_1558009650.log\n"
     ]
    }
   ],
   "source": [
    "sales = graphlab.SFrame('kc_house_data.gl/')"
   ]
  },
  {
   "cell_type": "code",
   "execution_count": 3,
   "metadata": {
    "collapsed": false,
    "scrolled": true
   },
   "outputs": [
    {
     "data": {
      "text/html": [
       "<div style=\"max-height:1000px;max-width:1500px;overflow:auto;\"><table frame=\"box\" rules=\"cols\">\n",
       "    <tr>\n",
       "        <th style=\"padding-left: 1em; padding-right: 1em; text-align: center\">id</th>\n",
       "        <th style=\"padding-left: 1em; padding-right: 1em; text-align: center\">date</th>\n",
       "        <th style=\"padding-left: 1em; padding-right: 1em; text-align: center\">price</th>\n",
       "        <th style=\"padding-left: 1em; padding-right: 1em; text-align: center\">bedrooms</th>\n",
       "        <th style=\"padding-left: 1em; padding-right: 1em; text-align: center\">bathrooms</th>\n",
       "        <th style=\"padding-left: 1em; padding-right: 1em; text-align: center\">sqft_living</th>\n",
       "        <th style=\"padding-left: 1em; padding-right: 1em; text-align: center\">sqft_lot</th>\n",
       "        <th style=\"padding-left: 1em; padding-right: 1em; text-align: center\">floors</th>\n",
       "        <th style=\"padding-left: 1em; padding-right: 1em; text-align: center\">waterfront</th>\n",
       "    </tr>\n",
       "    <tr>\n",
       "        <td style=\"padding-left: 1em; padding-right: 1em; text-align: center; vertical-align: top\">7129300520</td>\n",
       "        <td style=\"padding-left: 1em; padding-right: 1em; text-align: center; vertical-align: top\">2014-10-13 00:00:00+00:00</td>\n",
       "        <td style=\"padding-left: 1em; padding-right: 1em; text-align: center; vertical-align: top\">221900.0</td>\n",
       "        <td style=\"padding-left: 1em; padding-right: 1em; text-align: center; vertical-align: top\">3.0</td>\n",
       "        <td style=\"padding-left: 1em; padding-right: 1em; text-align: center; vertical-align: top\">1.0</td>\n",
       "        <td style=\"padding-left: 1em; padding-right: 1em; text-align: center; vertical-align: top\">1180.0</td>\n",
       "        <td style=\"padding-left: 1em; padding-right: 1em; text-align: center; vertical-align: top\">5650</td>\n",
       "        <td style=\"padding-left: 1em; padding-right: 1em; text-align: center; vertical-align: top\">1</td>\n",
       "        <td style=\"padding-left: 1em; padding-right: 1em; text-align: center; vertical-align: top\">0</td>\n",
       "    </tr>\n",
       "    <tr>\n",
       "        <td style=\"padding-left: 1em; padding-right: 1em; text-align: center; vertical-align: top\">6414100192</td>\n",
       "        <td style=\"padding-left: 1em; padding-right: 1em; text-align: center; vertical-align: top\">2014-12-09 00:00:00+00:00</td>\n",
       "        <td style=\"padding-left: 1em; padding-right: 1em; text-align: center; vertical-align: top\">538000.0</td>\n",
       "        <td style=\"padding-left: 1em; padding-right: 1em; text-align: center; vertical-align: top\">3.0</td>\n",
       "        <td style=\"padding-left: 1em; padding-right: 1em; text-align: center; vertical-align: top\">2.25</td>\n",
       "        <td style=\"padding-left: 1em; padding-right: 1em; text-align: center; vertical-align: top\">2570.0</td>\n",
       "        <td style=\"padding-left: 1em; padding-right: 1em; text-align: center; vertical-align: top\">7242</td>\n",
       "        <td style=\"padding-left: 1em; padding-right: 1em; text-align: center; vertical-align: top\">2</td>\n",
       "        <td style=\"padding-left: 1em; padding-right: 1em; text-align: center; vertical-align: top\">0</td>\n",
       "    </tr>\n",
       "    <tr>\n",
       "        <td style=\"padding-left: 1em; padding-right: 1em; text-align: center; vertical-align: top\">5631500400</td>\n",
       "        <td style=\"padding-left: 1em; padding-right: 1em; text-align: center; vertical-align: top\">2015-02-25 00:00:00+00:00</td>\n",
       "        <td style=\"padding-left: 1em; padding-right: 1em; text-align: center; vertical-align: top\">180000.0</td>\n",
       "        <td style=\"padding-left: 1em; padding-right: 1em; text-align: center; vertical-align: top\">2.0</td>\n",
       "        <td style=\"padding-left: 1em; padding-right: 1em; text-align: center; vertical-align: top\">1.0</td>\n",
       "        <td style=\"padding-left: 1em; padding-right: 1em; text-align: center; vertical-align: top\">770.0</td>\n",
       "        <td style=\"padding-left: 1em; padding-right: 1em; text-align: center; vertical-align: top\">10000</td>\n",
       "        <td style=\"padding-left: 1em; padding-right: 1em; text-align: center; vertical-align: top\">1</td>\n",
       "        <td style=\"padding-left: 1em; padding-right: 1em; text-align: center; vertical-align: top\">0</td>\n",
       "    </tr>\n",
       "    <tr>\n",
       "        <td style=\"padding-left: 1em; padding-right: 1em; text-align: center; vertical-align: top\">2487200875</td>\n",
       "        <td style=\"padding-left: 1em; padding-right: 1em; text-align: center; vertical-align: top\">2014-12-09 00:00:00+00:00</td>\n",
       "        <td style=\"padding-left: 1em; padding-right: 1em; text-align: center; vertical-align: top\">604000.0</td>\n",
       "        <td style=\"padding-left: 1em; padding-right: 1em; text-align: center; vertical-align: top\">4.0</td>\n",
       "        <td style=\"padding-left: 1em; padding-right: 1em; text-align: center; vertical-align: top\">3.0</td>\n",
       "        <td style=\"padding-left: 1em; padding-right: 1em; text-align: center; vertical-align: top\">1960.0</td>\n",
       "        <td style=\"padding-left: 1em; padding-right: 1em; text-align: center; vertical-align: top\">5000</td>\n",
       "        <td style=\"padding-left: 1em; padding-right: 1em; text-align: center; vertical-align: top\">1</td>\n",
       "        <td style=\"padding-left: 1em; padding-right: 1em; text-align: center; vertical-align: top\">0</td>\n",
       "    </tr>\n",
       "    <tr>\n",
       "        <td style=\"padding-left: 1em; padding-right: 1em; text-align: center; vertical-align: top\">1954400510</td>\n",
       "        <td style=\"padding-left: 1em; padding-right: 1em; text-align: center; vertical-align: top\">2015-02-18 00:00:00+00:00</td>\n",
       "        <td style=\"padding-left: 1em; padding-right: 1em; text-align: center; vertical-align: top\">510000.0</td>\n",
       "        <td style=\"padding-left: 1em; padding-right: 1em; text-align: center; vertical-align: top\">3.0</td>\n",
       "        <td style=\"padding-left: 1em; padding-right: 1em; text-align: center; vertical-align: top\">2.0</td>\n",
       "        <td style=\"padding-left: 1em; padding-right: 1em; text-align: center; vertical-align: top\">1680.0</td>\n",
       "        <td style=\"padding-left: 1em; padding-right: 1em; text-align: center; vertical-align: top\">8080</td>\n",
       "        <td style=\"padding-left: 1em; padding-right: 1em; text-align: center; vertical-align: top\">1</td>\n",
       "        <td style=\"padding-left: 1em; padding-right: 1em; text-align: center; vertical-align: top\">0</td>\n",
       "    </tr>\n",
       "    <tr>\n",
       "        <td style=\"padding-left: 1em; padding-right: 1em; text-align: center; vertical-align: top\">7237550310</td>\n",
       "        <td style=\"padding-left: 1em; padding-right: 1em; text-align: center; vertical-align: top\">2014-05-12 00:00:00+00:00</td>\n",
       "        <td style=\"padding-left: 1em; padding-right: 1em; text-align: center; vertical-align: top\">1225000.0</td>\n",
       "        <td style=\"padding-left: 1em; padding-right: 1em; text-align: center; vertical-align: top\">4.0</td>\n",
       "        <td style=\"padding-left: 1em; padding-right: 1em; text-align: center; vertical-align: top\">4.5</td>\n",
       "        <td style=\"padding-left: 1em; padding-right: 1em; text-align: center; vertical-align: top\">5420.0</td>\n",
       "        <td style=\"padding-left: 1em; padding-right: 1em; text-align: center; vertical-align: top\">101930</td>\n",
       "        <td style=\"padding-left: 1em; padding-right: 1em; text-align: center; vertical-align: top\">1</td>\n",
       "        <td style=\"padding-left: 1em; padding-right: 1em; text-align: center; vertical-align: top\">0</td>\n",
       "    </tr>\n",
       "    <tr>\n",
       "        <td style=\"padding-left: 1em; padding-right: 1em; text-align: center; vertical-align: top\">1321400060</td>\n",
       "        <td style=\"padding-left: 1em; padding-right: 1em; text-align: center; vertical-align: top\">2014-06-27 00:00:00+00:00</td>\n",
       "        <td style=\"padding-left: 1em; padding-right: 1em; text-align: center; vertical-align: top\">257500.0</td>\n",
       "        <td style=\"padding-left: 1em; padding-right: 1em; text-align: center; vertical-align: top\">3.0</td>\n",
       "        <td style=\"padding-left: 1em; padding-right: 1em; text-align: center; vertical-align: top\">2.25</td>\n",
       "        <td style=\"padding-left: 1em; padding-right: 1em; text-align: center; vertical-align: top\">1715.0</td>\n",
       "        <td style=\"padding-left: 1em; padding-right: 1em; text-align: center; vertical-align: top\">6819</td>\n",
       "        <td style=\"padding-left: 1em; padding-right: 1em; text-align: center; vertical-align: top\">2</td>\n",
       "        <td style=\"padding-left: 1em; padding-right: 1em; text-align: center; vertical-align: top\">0</td>\n",
       "    </tr>\n",
       "    <tr>\n",
       "        <td style=\"padding-left: 1em; padding-right: 1em; text-align: center; vertical-align: top\">2008000270</td>\n",
       "        <td style=\"padding-left: 1em; padding-right: 1em; text-align: center; vertical-align: top\">2015-01-15 00:00:00+00:00</td>\n",
       "        <td style=\"padding-left: 1em; padding-right: 1em; text-align: center; vertical-align: top\">291850.0</td>\n",
       "        <td style=\"padding-left: 1em; padding-right: 1em; text-align: center; vertical-align: top\">3.0</td>\n",
       "        <td style=\"padding-left: 1em; padding-right: 1em; text-align: center; vertical-align: top\">1.5</td>\n",
       "        <td style=\"padding-left: 1em; padding-right: 1em; text-align: center; vertical-align: top\">1060.0</td>\n",
       "        <td style=\"padding-left: 1em; padding-right: 1em; text-align: center; vertical-align: top\">9711</td>\n",
       "        <td style=\"padding-left: 1em; padding-right: 1em; text-align: center; vertical-align: top\">1</td>\n",
       "        <td style=\"padding-left: 1em; padding-right: 1em; text-align: center; vertical-align: top\">0</td>\n",
       "    </tr>\n",
       "    <tr>\n",
       "        <td style=\"padding-left: 1em; padding-right: 1em; text-align: center; vertical-align: top\">2414600126</td>\n",
       "        <td style=\"padding-left: 1em; padding-right: 1em; text-align: center; vertical-align: top\">2015-04-15 00:00:00+00:00</td>\n",
       "        <td style=\"padding-left: 1em; padding-right: 1em; text-align: center; vertical-align: top\">229500.0</td>\n",
       "        <td style=\"padding-left: 1em; padding-right: 1em; text-align: center; vertical-align: top\">3.0</td>\n",
       "        <td style=\"padding-left: 1em; padding-right: 1em; text-align: center; vertical-align: top\">1.0</td>\n",
       "        <td style=\"padding-left: 1em; padding-right: 1em; text-align: center; vertical-align: top\">1780.0</td>\n",
       "        <td style=\"padding-left: 1em; padding-right: 1em; text-align: center; vertical-align: top\">7470</td>\n",
       "        <td style=\"padding-left: 1em; padding-right: 1em; text-align: center; vertical-align: top\">1</td>\n",
       "        <td style=\"padding-left: 1em; padding-right: 1em; text-align: center; vertical-align: top\">0</td>\n",
       "    </tr>\n",
       "    <tr>\n",
       "        <td style=\"padding-left: 1em; padding-right: 1em; text-align: center; vertical-align: top\">3793500160</td>\n",
       "        <td style=\"padding-left: 1em; padding-right: 1em; text-align: center; vertical-align: top\">2015-03-12 00:00:00+00:00</td>\n",
       "        <td style=\"padding-left: 1em; padding-right: 1em; text-align: center; vertical-align: top\">323000.0</td>\n",
       "        <td style=\"padding-left: 1em; padding-right: 1em; text-align: center; vertical-align: top\">3.0</td>\n",
       "        <td style=\"padding-left: 1em; padding-right: 1em; text-align: center; vertical-align: top\">2.5</td>\n",
       "        <td style=\"padding-left: 1em; padding-right: 1em; text-align: center; vertical-align: top\">1890.0</td>\n",
       "        <td style=\"padding-left: 1em; padding-right: 1em; text-align: center; vertical-align: top\">6560</td>\n",
       "        <td style=\"padding-left: 1em; padding-right: 1em; text-align: center; vertical-align: top\">2</td>\n",
       "        <td style=\"padding-left: 1em; padding-right: 1em; text-align: center; vertical-align: top\">0</td>\n",
       "    </tr>\n",
       "</table>\n",
       "<table frame=\"box\" rules=\"cols\">\n",
       "    <tr>\n",
       "        <th style=\"padding-left: 1em; padding-right: 1em; text-align: center\">view</th>\n",
       "        <th style=\"padding-left: 1em; padding-right: 1em; text-align: center\">condition</th>\n",
       "        <th style=\"padding-left: 1em; padding-right: 1em; text-align: center\">grade</th>\n",
       "        <th style=\"padding-left: 1em; padding-right: 1em; text-align: center\">sqft_above</th>\n",
       "        <th style=\"padding-left: 1em; padding-right: 1em; text-align: center\">sqft_basement</th>\n",
       "        <th style=\"padding-left: 1em; padding-right: 1em; text-align: center\">yr_built</th>\n",
       "        <th style=\"padding-left: 1em; padding-right: 1em; text-align: center\">yr_renovated</th>\n",
       "        <th style=\"padding-left: 1em; padding-right: 1em; text-align: center\">zipcode</th>\n",
       "        <th style=\"padding-left: 1em; padding-right: 1em; text-align: center\">lat</th>\n",
       "    </tr>\n",
       "    <tr>\n",
       "        <td style=\"padding-left: 1em; padding-right: 1em; text-align: center; vertical-align: top\">0</td>\n",
       "        <td style=\"padding-left: 1em; padding-right: 1em; text-align: center; vertical-align: top\">3</td>\n",
       "        <td style=\"padding-left: 1em; padding-right: 1em; text-align: center; vertical-align: top\">7</td>\n",
       "        <td style=\"padding-left: 1em; padding-right: 1em; text-align: center; vertical-align: top\">1180</td>\n",
       "        <td style=\"padding-left: 1em; padding-right: 1em; text-align: center; vertical-align: top\">0</td>\n",
       "        <td style=\"padding-left: 1em; padding-right: 1em; text-align: center; vertical-align: top\">1955</td>\n",
       "        <td style=\"padding-left: 1em; padding-right: 1em; text-align: center; vertical-align: top\">0</td>\n",
       "        <td style=\"padding-left: 1em; padding-right: 1em; text-align: center; vertical-align: top\">98178</td>\n",
       "        <td style=\"padding-left: 1em; padding-right: 1em; text-align: center; vertical-align: top\">47.51123398</td>\n",
       "    </tr>\n",
       "    <tr>\n",
       "        <td style=\"padding-left: 1em; padding-right: 1em; text-align: center; vertical-align: top\">0</td>\n",
       "        <td style=\"padding-left: 1em; padding-right: 1em; text-align: center; vertical-align: top\">3</td>\n",
       "        <td style=\"padding-left: 1em; padding-right: 1em; text-align: center; vertical-align: top\">7</td>\n",
       "        <td style=\"padding-left: 1em; padding-right: 1em; text-align: center; vertical-align: top\">2170</td>\n",
       "        <td style=\"padding-left: 1em; padding-right: 1em; text-align: center; vertical-align: top\">400</td>\n",
       "        <td style=\"padding-left: 1em; padding-right: 1em; text-align: center; vertical-align: top\">1951</td>\n",
       "        <td style=\"padding-left: 1em; padding-right: 1em; text-align: center; vertical-align: top\">1991</td>\n",
       "        <td style=\"padding-left: 1em; padding-right: 1em; text-align: center; vertical-align: top\">98125</td>\n",
       "        <td style=\"padding-left: 1em; padding-right: 1em; text-align: center; vertical-align: top\">47.72102274</td>\n",
       "    </tr>\n",
       "    <tr>\n",
       "        <td style=\"padding-left: 1em; padding-right: 1em; text-align: center; vertical-align: top\">0</td>\n",
       "        <td style=\"padding-left: 1em; padding-right: 1em; text-align: center; vertical-align: top\">3</td>\n",
       "        <td style=\"padding-left: 1em; padding-right: 1em; text-align: center; vertical-align: top\">6</td>\n",
       "        <td style=\"padding-left: 1em; padding-right: 1em; text-align: center; vertical-align: top\">770</td>\n",
       "        <td style=\"padding-left: 1em; padding-right: 1em; text-align: center; vertical-align: top\">0</td>\n",
       "        <td style=\"padding-left: 1em; padding-right: 1em; text-align: center; vertical-align: top\">1933</td>\n",
       "        <td style=\"padding-left: 1em; padding-right: 1em; text-align: center; vertical-align: top\">0</td>\n",
       "        <td style=\"padding-left: 1em; padding-right: 1em; text-align: center; vertical-align: top\">98028</td>\n",
       "        <td style=\"padding-left: 1em; padding-right: 1em; text-align: center; vertical-align: top\">47.73792661</td>\n",
       "    </tr>\n",
       "    <tr>\n",
       "        <td style=\"padding-left: 1em; padding-right: 1em; text-align: center; vertical-align: top\">0</td>\n",
       "        <td style=\"padding-left: 1em; padding-right: 1em; text-align: center; vertical-align: top\">5</td>\n",
       "        <td style=\"padding-left: 1em; padding-right: 1em; text-align: center; vertical-align: top\">7</td>\n",
       "        <td style=\"padding-left: 1em; padding-right: 1em; text-align: center; vertical-align: top\">1050</td>\n",
       "        <td style=\"padding-left: 1em; padding-right: 1em; text-align: center; vertical-align: top\">910</td>\n",
       "        <td style=\"padding-left: 1em; padding-right: 1em; text-align: center; vertical-align: top\">1965</td>\n",
       "        <td style=\"padding-left: 1em; padding-right: 1em; text-align: center; vertical-align: top\">0</td>\n",
       "        <td style=\"padding-left: 1em; padding-right: 1em; text-align: center; vertical-align: top\">98136</td>\n",
       "        <td style=\"padding-left: 1em; padding-right: 1em; text-align: center; vertical-align: top\">47.52082</td>\n",
       "    </tr>\n",
       "    <tr>\n",
       "        <td style=\"padding-left: 1em; padding-right: 1em; text-align: center; vertical-align: top\">0</td>\n",
       "        <td style=\"padding-left: 1em; padding-right: 1em; text-align: center; vertical-align: top\">3</td>\n",
       "        <td style=\"padding-left: 1em; padding-right: 1em; text-align: center; vertical-align: top\">8</td>\n",
       "        <td style=\"padding-left: 1em; padding-right: 1em; text-align: center; vertical-align: top\">1680</td>\n",
       "        <td style=\"padding-left: 1em; padding-right: 1em; text-align: center; vertical-align: top\">0</td>\n",
       "        <td style=\"padding-left: 1em; padding-right: 1em; text-align: center; vertical-align: top\">1987</td>\n",
       "        <td style=\"padding-left: 1em; padding-right: 1em; text-align: center; vertical-align: top\">0</td>\n",
       "        <td style=\"padding-left: 1em; padding-right: 1em; text-align: center; vertical-align: top\">98074</td>\n",
       "        <td style=\"padding-left: 1em; padding-right: 1em; text-align: center; vertical-align: top\">47.61681228</td>\n",
       "    </tr>\n",
       "    <tr>\n",
       "        <td style=\"padding-left: 1em; padding-right: 1em; text-align: center; vertical-align: top\">0</td>\n",
       "        <td style=\"padding-left: 1em; padding-right: 1em; text-align: center; vertical-align: top\">3</td>\n",
       "        <td style=\"padding-left: 1em; padding-right: 1em; text-align: center; vertical-align: top\">11</td>\n",
       "        <td style=\"padding-left: 1em; padding-right: 1em; text-align: center; vertical-align: top\">3890</td>\n",
       "        <td style=\"padding-left: 1em; padding-right: 1em; text-align: center; vertical-align: top\">1530</td>\n",
       "        <td style=\"padding-left: 1em; padding-right: 1em; text-align: center; vertical-align: top\">2001</td>\n",
       "        <td style=\"padding-left: 1em; padding-right: 1em; text-align: center; vertical-align: top\">0</td>\n",
       "        <td style=\"padding-left: 1em; padding-right: 1em; text-align: center; vertical-align: top\">98053</td>\n",
       "        <td style=\"padding-left: 1em; padding-right: 1em; text-align: center; vertical-align: top\">47.65611835</td>\n",
       "    </tr>\n",
       "    <tr>\n",
       "        <td style=\"padding-left: 1em; padding-right: 1em; text-align: center; vertical-align: top\">0</td>\n",
       "        <td style=\"padding-left: 1em; padding-right: 1em; text-align: center; vertical-align: top\">3</td>\n",
       "        <td style=\"padding-left: 1em; padding-right: 1em; text-align: center; vertical-align: top\">7</td>\n",
       "        <td style=\"padding-left: 1em; padding-right: 1em; text-align: center; vertical-align: top\">1715</td>\n",
       "        <td style=\"padding-left: 1em; padding-right: 1em; text-align: center; vertical-align: top\">0</td>\n",
       "        <td style=\"padding-left: 1em; padding-right: 1em; text-align: center; vertical-align: top\">1995</td>\n",
       "        <td style=\"padding-left: 1em; padding-right: 1em; text-align: center; vertical-align: top\">0</td>\n",
       "        <td style=\"padding-left: 1em; padding-right: 1em; text-align: center; vertical-align: top\">98003</td>\n",
       "        <td style=\"padding-left: 1em; padding-right: 1em; text-align: center; vertical-align: top\">47.30972002</td>\n",
       "    </tr>\n",
       "    <tr>\n",
       "        <td style=\"padding-left: 1em; padding-right: 1em; text-align: center; vertical-align: top\">0</td>\n",
       "        <td style=\"padding-left: 1em; padding-right: 1em; text-align: center; vertical-align: top\">3</td>\n",
       "        <td style=\"padding-left: 1em; padding-right: 1em; text-align: center; vertical-align: top\">7</td>\n",
       "        <td style=\"padding-left: 1em; padding-right: 1em; text-align: center; vertical-align: top\">1060</td>\n",
       "        <td style=\"padding-left: 1em; padding-right: 1em; text-align: center; vertical-align: top\">0</td>\n",
       "        <td style=\"padding-left: 1em; padding-right: 1em; text-align: center; vertical-align: top\">1963</td>\n",
       "        <td style=\"padding-left: 1em; padding-right: 1em; text-align: center; vertical-align: top\">0</td>\n",
       "        <td style=\"padding-left: 1em; padding-right: 1em; text-align: center; vertical-align: top\">98198</td>\n",
       "        <td style=\"padding-left: 1em; padding-right: 1em; text-align: center; vertical-align: top\">47.40949984</td>\n",
       "    </tr>\n",
       "    <tr>\n",
       "        <td style=\"padding-left: 1em; padding-right: 1em; text-align: center; vertical-align: top\">0</td>\n",
       "        <td style=\"padding-left: 1em; padding-right: 1em; text-align: center; vertical-align: top\">3</td>\n",
       "        <td style=\"padding-left: 1em; padding-right: 1em; text-align: center; vertical-align: top\">7</td>\n",
       "        <td style=\"padding-left: 1em; padding-right: 1em; text-align: center; vertical-align: top\">1050</td>\n",
       "        <td style=\"padding-left: 1em; padding-right: 1em; text-align: center; vertical-align: top\">730</td>\n",
       "        <td style=\"padding-left: 1em; padding-right: 1em; text-align: center; vertical-align: top\">1960</td>\n",
       "        <td style=\"padding-left: 1em; padding-right: 1em; text-align: center; vertical-align: top\">0</td>\n",
       "        <td style=\"padding-left: 1em; padding-right: 1em; text-align: center; vertical-align: top\">98146</td>\n",
       "        <td style=\"padding-left: 1em; padding-right: 1em; text-align: center; vertical-align: top\">47.51229381</td>\n",
       "    </tr>\n",
       "    <tr>\n",
       "        <td style=\"padding-left: 1em; padding-right: 1em; text-align: center; vertical-align: top\">0</td>\n",
       "        <td style=\"padding-left: 1em; padding-right: 1em; text-align: center; vertical-align: top\">3</td>\n",
       "        <td style=\"padding-left: 1em; padding-right: 1em; text-align: center; vertical-align: top\">7</td>\n",
       "        <td style=\"padding-left: 1em; padding-right: 1em; text-align: center; vertical-align: top\">1890</td>\n",
       "        <td style=\"padding-left: 1em; padding-right: 1em; text-align: center; vertical-align: top\">0</td>\n",
       "        <td style=\"padding-left: 1em; padding-right: 1em; text-align: center; vertical-align: top\">2003</td>\n",
       "        <td style=\"padding-left: 1em; padding-right: 1em; text-align: center; vertical-align: top\">0</td>\n",
       "        <td style=\"padding-left: 1em; padding-right: 1em; text-align: center; vertical-align: top\">98038</td>\n",
       "        <td style=\"padding-left: 1em; padding-right: 1em; text-align: center; vertical-align: top\">47.36840673</td>\n",
       "    </tr>\n",
       "</table>\n",
       "<table frame=\"box\" rules=\"cols\">\n",
       "    <tr>\n",
       "        <th style=\"padding-left: 1em; padding-right: 1em; text-align: center\">long</th>\n",
       "        <th style=\"padding-left: 1em; padding-right: 1em; text-align: center\">sqft_living15</th>\n",
       "        <th style=\"padding-left: 1em; padding-right: 1em; text-align: center\">sqft_lot15</th>\n",
       "    </tr>\n",
       "    <tr>\n",
       "        <td style=\"padding-left: 1em; padding-right: 1em; text-align: center; vertical-align: top\">-122.25677536</td>\n",
       "        <td style=\"padding-left: 1em; padding-right: 1em; text-align: center; vertical-align: top\">1340.0</td>\n",
       "        <td style=\"padding-left: 1em; padding-right: 1em; text-align: center; vertical-align: top\">5650.0</td>\n",
       "    </tr>\n",
       "    <tr>\n",
       "        <td style=\"padding-left: 1em; padding-right: 1em; text-align: center; vertical-align: top\">-122.3188624</td>\n",
       "        <td style=\"padding-left: 1em; padding-right: 1em; text-align: center; vertical-align: top\">1690.0</td>\n",
       "        <td style=\"padding-left: 1em; padding-right: 1em; text-align: center; vertical-align: top\">7639.0</td>\n",
       "    </tr>\n",
       "    <tr>\n",
       "        <td style=\"padding-left: 1em; padding-right: 1em; text-align: center; vertical-align: top\">-122.23319601</td>\n",
       "        <td style=\"padding-left: 1em; padding-right: 1em; text-align: center; vertical-align: top\">2720.0</td>\n",
       "        <td style=\"padding-left: 1em; padding-right: 1em; text-align: center; vertical-align: top\">8062.0</td>\n",
       "    </tr>\n",
       "    <tr>\n",
       "        <td style=\"padding-left: 1em; padding-right: 1em; text-align: center; vertical-align: top\">-122.39318505</td>\n",
       "        <td style=\"padding-left: 1em; padding-right: 1em; text-align: center; vertical-align: top\">1360.0</td>\n",
       "        <td style=\"padding-left: 1em; padding-right: 1em; text-align: center; vertical-align: top\">5000.0</td>\n",
       "    </tr>\n",
       "    <tr>\n",
       "        <td style=\"padding-left: 1em; padding-right: 1em; text-align: center; vertical-align: top\">-122.04490059</td>\n",
       "        <td style=\"padding-left: 1em; padding-right: 1em; text-align: center; vertical-align: top\">1800.0</td>\n",
       "        <td style=\"padding-left: 1em; padding-right: 1em; text-align: center; vertical-align: top\">7503.0</td>\n",
       "    </tr>\n",
       "    <tr>\n",
       "        <td style=\"padding-left: 1em; padding-right: 1em; text-align: center; vertical-align: top\">-122.00528655</td>\n",
       "        <td style=\"padding-left: 1em; padding-right: 1em; text-align: center; vertical-align: top\">4760.0</td>\n",
       "        <td style=\"padding-left: 1em; padding-right: 1em; text-align: center; vertical-align: top\">101930.0</td>\n",
       "    </tr>\n",
       "    <tr>\n",
       "        <td style=\"padding-left: 1em; padding-right: 1em; text-align: center; vertical-align: top\">-122.32704857</td>\n",
       "        <td style=\"padding-left: 1em; padding-right: 1em; text-align: center; vertical-align: top\">2238.0</td>\n",
       "        <td style=\"padding-left: 1em; padding-right: 1em; text-align: center; vertical-align: top\">6819.0</td>\n",
       "    </tr>\n",
       "    <tr>\n",
       "        <td style=\"padding-left: 1em; padding-right: 1em; text-align: center; vertical-align: top\">-122.31457273</td>\n",
       "        <td style=\"padding-left: 1em; padding-right: 1em; text-align: center; vertical-align: top\">1650.0</td>\n",
       "        <td style=\"padding-left: 1em; padding-right: 1em; text-align: center; vertical-align: top\">9711.0</td>\n",
       "    </tr>\n",
       "    <tr>\n",
       "        <td style=\"padding-left: 1em; padding-right: 1em; text-align: center; vertical-align: top\">-122.33659507</td>\n",
       "        <td style=\"padding-left: 1em; padding-right: 1em; text-align: center; vertical-align: top\">1780.0</td>\n",
       "        <td style=\"padding-left: 1em; padding-right: 1em; text-align: center; vertical-align: top\">8113.0</td>\n",
       "    </tr>\n",
       "    <tr>\n",
       "        <td style=\"padding-left: 1em; padding-right: 1em; text-align: center; vertical-align: top\">-122.0308176</td>\n",
       "        <td style=\"padding-left: 1em; padding-right: 1em; text-align: center; vertical-align: top\">2390.0</td>\n",
       "        <td style=\"padding-left: 1em; padding-right: 1em; text-align: center; vertical-align: top\">7570.0</td>\n",
       "    </tr>\n",
       "</table>\n",
       "[10 rows x 21 columns]<br/>\n",
       "</div>"
      ],
      "text/plain": [
       "Columns:\n",
       "\tid\tstr\n",
       "\tdate\tdatetime\n",
       "\tprice\tfloat\n",
       "\tbedrooms\tfloat\n",
       "\tbathrooms\tfloat\n",
       "\tsqft_living\tfloat\n",
       "\tsqft_lot\tint\n",
       "\tfloors\tstr\n",
       "\twaterfront\tint\n",
       "\tview\tint\n",
       "\tcondition\tint\n",
       "\tgrade\tint\n",
       "\tsqft_above\tint\n",
       "\tsqft_basement\tint\n",
       "\tyr_built\tint\n",
       "\tyr_renovated\tint\n",
       "\tzipcode\tstr\n",
       "\tlat\tfloat\n",
       "\tlong\tfloat\n",
       "\tsqft_living15\tfloat\n",
       "\tsqft_lot15\tfloat\n",
       "\n",
       "Rows: 10\n",
       "\n",
       "Data:\n",
       "+------------+---------------------------+-----------+----------+-----------+\n",
       "|     id     |            date           |   price   | bedrooms | bathrooms |\n",
       "+------------+---------------------------+-----------+----------+-----------+\n",
       "| 7129300520 | 2014-10-13 00:00:00+00:00 |  221900.0 |   3.0    |    1.0    |\n",
       "| 6414100192 | 2014-12-09 00:00:00+00:00 |  538000.0 |   3.0    |    2.25   |\n",
       "| 5631500400 | 2015-02-25 00:00:00+00:00 |  180000.0 |   2.0    |    1.0    |\n",
       "| 2487200875 | 2014-12-09 00:00:00+00:00 |  604000.0 |   4.0    |    3.0    |\n",
       "| 1954400510 | 2015-02-18 00:00:00+00:00 |  510000.0 |   3.0    |    2.0    |\n",
       "| 7237550310 | 2014-05-12 00:00:00+00:00 | 1225000.0 |   4.0    |    4.5    |\n",
       "| 1321400060 | 2014-06-27 00:00:00+00:00 |  257500.0 |   3.0    |    2.25   |\n",
       "| 2008000270 | 2015-01-15 00:00:00+00:00 |  291850.0 |   3.0    |    1.5    |\n",
       "| 2414600126 | 2015-04-15 00:00:00+00:00 |  229500.0 |   3.0    |    1.0    |\n",
       "| 3793500160 | 2015-03-12 00:00:00+00:00 |  323000.0 |   3.0    |    2.5    |\n",
       "+------------+---------------------------+-----------+----------+-----------+\n",
       "+-------------+----------+--------+------------+------+-----------+-------+------------+\n",
       "| sqft_living | sqft_lot | floors | waterfront | view | condition | grade | sqft_above |\n",
       "+-------------+----------+--------+------------+------+-----------+-------+------------+\n",
       "|    1180.0   |   5650   |   1    |     0      |  0   |     3     |   7   |    1180    |\n",
       "|    2570.0   |   7242   |   2    |     0      |  0   |     3     |   7   |    2170    |\n",
       "|    770.0    |  10000   |   1    |     0      |  0   |     3     |   6   |    770     |\n",
       "|    1960.0   |   5000   |   1    |     0      |  0   |     5     |   7   |    1050    |\n",
       "|    1680.0   |   8080   |   1    |     0      |  0   |     3     |   8   |    1680    |\n",
       "|    5420.0   |  101930  |   1    |     0      |  0   |     3     |   11  |    3890    |\n",
       "|    1715.0   |   6819   |   2    |     0      |  0   |     3     |   7   |    1715    |\n",
       "|    1060.0   |   9711   |   1    |     0      |  0   |     3     |   7   |    1060    |\n",
       "|    1780.0   |   7470   |   1    |     0      |  0   |     3     |   7   |    1050    |\n",
       "|    1890.0   |   6560   |   2    |     0      |  0   |     3     |   7   |    1890    |\n",
       "+-------------+----------+--------+------------+------+-----------+-------+------------+\n",
       "+---------------+----------+--------------+---------+-------------+\n",
       "| sqft_basement | yr_built | yr_renovated | zipcode |     lat     |\n",
       "+---------------+----------+--------------+---------+-------------+\n",
       "|       0       |   1955   |      0       |  98178  | 47.51123398 |\n",
       "|      400      |   1951   |     1991     |  98125  | 47.72102274 |\n",
       "|       0       |   1933   |      0       |  98028  | 47.73792661 |\n",
       "|      910      |   1965   |      0       |  98136  |   47.52082  |\n",
       "|       0       |   1987   |      0       |  98074  | 47.61681228 |\n",
       "|      1530     |   2001   |      0       |  98053  | 47.65611835 |\n",
       "|       0       |   1995   |      0       |  98003  | 47.30972002 |\n",
       "|       0       |   1963   |      0       |  98198  | 47.40949984 |\n",
       "|      730      |   1960   |      0       |  98146  | 47.51229381 |\n",
       "|       0       |   2003   |      0       |  98038  | 47.36840673 |\n",
       "+---------------+----------+--------------+---------+-------------+\n",
       "+---------------+---------------+-----+\n",
       "|      long     | sqft_living15 | ... |\n",
       "+---------------+---------------+-----+\n",
       "| -122.25677536 |     1340.0    | ... |\n",
       "|  -122.3188624 |     1690.0    | ... |\n",
       "| -122.23319601 |     2720.0    | ... |\n",
       "| -122.39318505 |     1360.0    | ... |\n",
       "| -122.04490059 |     1800.0    | ... |\n",
       "| -122.00528655 |     4760.0    | ... |\n",
       "| -122.32704857 |     2238.0    | ... |\n",
       "| -122.31457273 |     1650.0    | ... |\n",
       "| -122.33659507 |     1780.0    | ... |\n",
       "|  -122.0308176 |     2390.0    | ... |\n",
       "+---------------+---------------+-----+\n",
       "[10 rows x 21 columns]"
      ]
     },
     "execution_count": 3,
     "metadata": {},
     "output_type": "execute_result"
    }
   ],
   "source": [
    "sales.head()"
   ]
  },
  {
   "cell_type": "code",
   "execution_count": 4,
   "metadata": {
    "collapsed": true
   },
   "outputs": [],
   "source": [
    "train_data,test_data = sales.random_split(.8,seed=0)"
   ]
  },
  {
   "cell_type": "code",
   "execution_count": 5,
   "metadata": {
    "collapsed": false
   },
   "outputs": [
    {
     "name": "stdout",
     "output_type": "stream",
     "text": [
      "average price via method 1: 540088.141905\n",
      "average price via method 2: 540088.141905\n"
     ]
    }
   ],
   "source": [
    "# Let's compute the mean of the House Prices in King County in 2 different ways.\n",
    "prices = sales['price'] # extract the price column of the sales SFrame -- this is now an SArray\n",
    "\n",
    "# recall that the arithmetic average (the mean) is the sum of the prices divided by the total number of houses:\n",
    "sum_prices = prices.sum()\n",
    "num_houses = prices.size() # when prices is an SArray .size() returns its length\n",
    "avg_price_1 = sum_prices/num_houses\n",
    "avg_price_2 = prices.mean() # if you just want the average, the .mean() function\n",
    "print \"average price via method 1: \" + str(avg_price_1)\n",
    "print \"average price via method 2: \" + str(avg_price_2)"
   ]
  },
  {
   "cell_type": "code",
   "execution_count": 6,
   "metadata": {
    "collapsed": true
   },
   "outputs": [],
   "source": [
    "bedrooms = sales['bedrooms']"
   ]
  },
  {
   "cell_type": "code",
   "execution_count": 7,
   "metadata": {
    "collapsed": true
   },
   "outputs": [],
   "source": [
    "bedrooms_prices_product = bedrooms * prices"
   ]
  },
  {
   "cell_type": "code",
   "execution_count": 8,
   "metadata": {
    "collapsed": false
   },
   "outputs": [
    {
     "data": {
      "text/plain": [
       "dtype: float\n",
       "Rows: 21613\n",
       "[665700.0, 1614000.0, 360000.0, 2416000.0, 1530000.0, 4900000.0, 772500.0, 875550.0, 688500.0, 969000.0, 1987500.0, 936000.0, 930000.0, 1200000.0, 2650000.0, 2600000.0, 1185000.0, 1940000.0, 378000.0, 690000.0, 1540000.0, 6000000.0, 1425000.0, 505400.0, 987000.0, 699000.0, 2811000.0, 2001000.0, 1314000.0, 2876000.0, 1741500.0, 560000.0, 2750000.0, 1605000.0, 1290000.0, 2088000.0, 2200000.0, 2560000.0, 960000.0, 2420000.0, 2500000.0, 3100000.0, 4309950.0, 2055000.0, 927000.0, 1464000.0, 631470.0, 3140000.0, 1350000.0, 4050000.0, 684000.0, 1725000.0, 1800000.0, 1170000.0, 4600000.0, 3540000.0, 1170000.0, 903000.0, 4755000.0, 1720000.0, 1950000.0, 867000.0, 1515000.0, 1647000.0, 1275000.0, 952875.0, 3900000.0, 1148000.0, 612000.0, 6625000.0, 5200000.0, 975000.0, 2284000.0, 1440000.0, 1047000.0, 3330000.0, 1520000.0, 1440000.0, 1230000.0, 2880000.0, 1170000.0, 1440000.0, 710000.0, 1068000.0, 945000.0, 2820000.0, 1525000.0, 1383000.0, 430000.0, 670000.0, 974000.0, 5499400.0, 459000.0, 1290000.0, 2100000.0, 3620000.0, 742500.0, 796000.0, 942000.0, 1312500.0, ... ]"
      ]
     },
     "execution_count": 8,
     "metadata": {},
     "output_type": "execute_result"
    }
   ],
   "source": [
    "bedrooms_prices_product"
   ]
  },
  {
   "cell_type": "code",
   "execution_count": null,
   "metadata": {
    "collapsed": true
   },
   "outputs": [],
   "source": []
  },
  {
   "cell_type": "code",
   "execution_count": 9,
   "metadata": {
    "collapsed": true
   },
   "outputs": [],
   "source": [
    "def simple_linear_regression(xs, ys):\n",
    "#     xs = sales[input_feature]\n",
    "    sum_xs=xs.sum()\n",
    "#     ys = sales[output]\n",
    "    sum_ys = ys.sum()\n",
    "    xy_product = xs*ys\n",
    "    sum_xy_product = xy_product.sum()\n",
    "    print \"sum_xy_product value: \"+str(sum_xy_product)\n",
    "    xs_squared = xs*xs\n",
    "    print \"xs_squared value: \"+str(xs_squared)\n",
    "    ys_squared = ys*ys\n",
    "    sum_xs_squared = xs_squared.sum()\n",
    "    sum_ys_squared = ys_squared.sum()\n",
    "    print \"sum_ys_squared value: \"+str(sum_ys_squared)\n",
    "    N = xs.size()\n",
    "    slop1 = sum_xy_product - ((sum_ys*sum_xs)/N)\n",
    "    slop2 = sum_xs_squared - ((sum_xs*sum_xs)/N)\n",
    "    slop = slop1/slop2\n",
    "    print \"slop1 value: \"+str(slop1)\n",
    "    print \"slop2 value: \"+str(slop2)\n",
    "    print \"slop value: \"+str(slop)\n",
    "    intercept = sum_ys/N - slop * sum_xs/N\n",
    "    print \"intercept value: \"+str(intercept)\n",
    "    return (intercept, slop)"
   ]
  },
  {
   "cell_type": "code",
   "execution_count": 10,
   "metadata": {
    "collapsed": false
   },
   "outputs": [
    {
     "name": "stdout",
     "output_type": "stream",
     "text": [
      "sum_xy_product value: 40\n",
      "xs_squared value: [0, 1, 4, 9, 16]\n",
      "sum_ys_squared value: 55\n",
      "slop1 value: 10\n",
      "slop2 value: 10\n",
      "slop value: 1\n",
      "intercept value: 1\n",
      "Intercept: 1\n",
      "Slope: 1\n"
     ]
    }
   ],
   "source": [
    "test_feature = graphlab.SArray(range(5))\n",
    "test_output = graphlab.SArray(1 + 1*test_feature)\n",
    "(test_intercept, test_slope) =  simple_linear_regression(test_feature, test_output)\n",
    "print \"Intercept: \" + str(test_intercept)\n",
    "print \"Slope: \" + str(test_slope)"
   ]
  },
  {
   "cell_type": "code",
   "execution_count": 13,
   "metadata": {
    "collapsed": false
   },
   "outputs": [],
   "source": [
    "input_feature = train_data['sqft_living']\n",
    "output = train_data['price']"
   ]
  },
  {
   "cell_type": "code",
   "execution_count": 14,
   "metadata": {
    "collapsed": false
   },
   "outputs": [
    {
     "name": "stdout",
     "output_type": "stream",
     "text": [
      "sum_xy_product value: 2.36662568479e+13\n",
      "xs_squared value: [1392400.0, 6604900.0, 592900.0, 3841600.0, 2822400.0, 29376400.0, 2941225.0, 1123600.0, 3168400.0, 3572100.0, 12673600.0, 1345600.0, 1876900.0, 3276100.0, 3572100.0, 2560000.0, 1440000.0, 1562500.0, 2624400.0, 9302500.0, 5152900.0, 1144900.0, 6002500.0, 6002500.0, 1960000.0, 2310400.0, 6604900.0, 1416100.0, 5428900.0, 4243600.0, 5290000.0, 2755600.0, 5569600.0, 1488400.0, 6604900.0, 12924025.0, 2464900.0, 1638400.0, 9985600.0, 980100.0, 5244100.0, 1562500.0, 7579009.0, 1416100.0, 9922500.0, 1988100.0, 3920400.0, 7452900.0, 8008900.0, 5856400.0, 10562500.0, 3422500.0, 4622500.0, 6345361.0, 2371600.0, 2755600.0, 7672900.0, 7398400.0, 5017600.0, 1000000.0, 10240000.0, 22752900.0, 1587600.0, 5664400.0, 11764900.0, 3097600.0, 1081600.0, 1988100.0, 11902500.0, 5522500.0, 4080400.0, 2822400.0, 921600.0, 4579600.0, 7075600.0, 7672900.0, 2592100.0, 1060900.0, 12390400.0, 1440000.0, 2496400.0, 2496400.0, 10890000.0, 1345600.0, 3276100.0, 5382400.0, 4284900.0, 3920400.0, 4796100.0, 8526400.0, 1464100.0, 5475600.0, 2788900.0, 1537600.0, 9859600.0, 5336100.0, 1587600.0, 2371600.0, 4326400.0, 19184400.0, ... ]\n",
      "sum_ys_squared value: 7.43305185103e+15\n",
      "slop1 value: 4.16317326566e+12\n",
      "slop2 value: 14765180927.9\n",
      "slop value: 281.958838568\n",
      "intercept value: -47116.0765749\n"
     ]
    }
   ],
   "source": [
    "(squarefeet_intercept, squarfeet_slope) = simple_linear_regression(input_feature, output)"
   ]
  },
  {
   "cell_type": "code",
   "execution_count": 16,
   "metadata": {
    "collapsed": false
   },
   "outputs": [
    {
     "data": {
      "text/plain": [
       "-47116.07657494"
      ]
     },
     "execution_count": 16,
     "metadata": {},
     "output_type": "execute_result"
    }
   ],
   "source": [
    "squarefeet_intercept"
   ]
  },
  {
   "cell_type": "code",
   "execution_count": 17,
   "metadata": {
    "collapsed": false
   },
   "outputs": [
    {
     "data": {
      "text/plain": [
       "281.9588385676974"
      ]
     },
     "execution_count": 17,
     "metadata": {},
     "output_type": "execute_result"
    }
   ],
   "source": [
    "squarfeet_slope"
   ]
  },
  {
   "cell_type": "code",
   "execution_count": 19,
   "metadata": {
    "collapsed": false
   },
   "outputs": [],
   "source": [
    "def get_regression_predictions(input_feature, intercept, slope):\n",
    "    predicted_output = slope * input_feature + intercept\n",
    "    return predicted_output"
   ]
  },
  {
   "cell_type": "code",
   "execution_count": 20,
   "metadata": {
    "collapsed": true
   },
   "outputs": [],
   "source": [
    " predicted_price_2650 = get_regression_predictions(2650,squarefeet_intercept, squarfeet_slope)"
   ]
  },
  {
   "cell_type": "code",
   "execution_count": 21,
   "metadata": {
    "collapsed": false
   },
   "outputs": [
    {
     "data": {
      "text/plain": [
       "700074.8456294581"
      ]
     },
     "execution_count": 21,
     "metadata": {},
     "output_type": "execute_result"
    }
   ],
   "source": [
    "predicted_price_2650"
   ]
  },
  {
   "cell_type": "code",
   "execution_count": 23,
   "metadata": {
    "collapsed": false
   },
   "outputs": [],
   "source": [
    "def get_residual_sum_of_squares(input_feature, output , intercept,slope):\n",
    "    predicted_output = get_regression_predictions(input_feature, intercept, slope)\n",
    "    residuals  = output - predicted_output\n",
    "    rss = (residuals * residuals).sum()\n",
    "    return rss"
   ]
  },
  {
   "cell_type": "code",
   "execution_count": 24,
   "metadata": {
    "collapsed": true
   },
   "outputs": [],
   "source": [
    "rss = get_residual_sum_of_squares(input_feature, output, squarefeet_intercept, squarfeet_slope)"
   ]
  },
  {
   "cell_type": "code",
   "execution_count": 25,
   "metadata": {
    "collapsed": false
   },
   "outputs": [
    {
     "data": {
      "text/plain": [
       "1201918356321968.0"
      ]
     },
     "execution_count": 25,
     "metadata": {},
     "output_type": "execute_result"
    }
   ],
   "source": [
    "rss"
   ]
  },
  {
   "cell_type": "code",
   "execution_count": 26,
   "metadata": {
    "collapsed": true
   },
   "outputs": [],
   "source": [
    "def inverse_regression_predictions(output, intercept, slope):\n",
    "    estimated_input = (output - intercept)/slope\n",
    "    return(estimated_input)"
   ]
  },
  {
   "cell_type": "code",
   "execution_count": 27,
   "metadata": {
    "collapsed": true
   },
   "outputs": [],
   "source": [
    "square_feet_8000 =  inverse_regression_predictions(800000, squarefeet_intercept, squarfeet_slope)"
   ]
  },
  {
   "cell_type": "code",
   "execution_count": 28,
   "metadata": {
    "collapsed": false
   },
   "outputs": [
    {
     "data": {
      "text/plain": [
       "3004.396247615945"
      ]
     },
     "execution_count": 28,
     "metadata": {},
     "output_type": "execute_result"
    }
   ],
   "source": [
    "square_feet_8000"
   ]
  },
  {
   "cell_type": "code",
   "execution_count": 34,
   "metadata": {
    "collapsed": true
   },
   "outputs": [],
   "source": [
    "bedrooms = train_data['bedrooms']\n",
    "prices = train_data['price']"
   ]
  },
  {
   "cell_type": "code",
   "execution_count": 35,
   "metadata": {
    "collapsed": false
   },
   "outputs": [
    {
     "data": {
      "text/plain": [
       "dtype: float\n",
       "Rows: 10\n",
       "[3.0, 3.0, 2.0, 4.0, 3.0, 4.0, 3.0, 3.0, 3.0, 3.0]"
      ]
     },
     "execution_count": 35,
     "metadata": {},
     "output_type": "execute_result"
    }
   ],
   "source": [
    "bedrooms.head()\n"
   ]
  },
  {
   "cell_type": "code",
   "execution_count": 36,
   "metadata": {
    "collapsed": false
   },
   "outputs": [
    {
     "name": "stdout",
     "output_type": "stream",
     "text": [
      "sum_xy_product value: 33414715671.0\n",
      "xs_squared value: [9.0, 9.0, 4.0, 16.0, 9.0, 16.0, 9.0, 9.0, 9.0, 9.0, 9.0, 4.0, 9.0, 25.0, 9.0, 16.0, 4.0, 9.0, 16.0, 9.0, 25.0, 4.0, 9.0, 9.0, 9.0, 9.0, 16.0, 4.0, 16.0, 16.0, 9.0, 16.0, 16.0, 16.0, 16.0, 25.0, 9.0, 9.0, 9.0, 9.0, 16.0, 9.0, 9.0, 9.0, 25.0, 9.0, 4.0, 25.0, 16.0, 9.0, 25.0, 16.0, 9.0, 9.0, 9.0, 9.0, 9.0, 16.0, 16.0, 9.0, 25.0, 25.0, 9.0, 16.0, 16.0, 16.0, 9.0, 9.0, 16.0, 9.0, 4.0, 9.0, 9.0, 9.0, 25.0, 9.0, 4.0, 4.0, 25.0, 9.0, 9.0, 9.0, 16.0, 16.0, 9.0, 9.0, 9.0, 9.0, 9.0, 9.0, 9.0, 9.0, 9.0, 4.0, 16.0, 16.0, 9.0, 9.0, 9.0, 9.0, ... ]\n",
      "sum_ys_squared value: 7.43305185103e+15\n",
      "slop1 value: 1822394156.19\n",
      "slop2 value: 14283.322538\n",
      "slop value: 127588.952175\n",
      "intercept value: 109473.180469\n"
     ]
    }
   ],
   "source": [
    "(bedroom_intercept, bedroom_slope) = simple_linear_regression(bedrooms, prices)"
   ]
  },
  {
   "cell_type": "code",
   "execution_count": 37,
   "metadata": {
    "collapsed": true
   },
   "outputs": [],
   "source": [
    "bedroom_test_data = test_data['bedrooms']\n",
    "price_test_data = test_data['price']\n",
    "square_test_data = test_data['sqft_living']"
   ]
  },
  {
   "cell_type": "code",
   "execution_count": 38,
   "metadata": {
    "collapsed": true
   },
   "outputs": [],
   "source": [
    "square_rss = get_residual_sum_of_squares(square_test_data, price_test_data, squarefeet_intercept, squarfeet_slope)"
   ]
  },
  {
   "cell_type": "code",
   "execution_count": 39,
   "metadata": {
    "collapsed": true
   },
   "outputs": [],
   "source": [
    "bedroom_rss = get_residual_sum_of_squares(bedroom_test_data, price_test_data, bedroom_intercept, bedroom_slope)"
   ]
  },
  {
   "cell_type": "code",
   "execution_count": 40,
   "metadata": {
    "collapsed": false
   },
   "outputs": [
    {
     "data": {
      "text/plain": [
       "275402936247141.3"
      ]
     },
     "execution_count": 40,
     "metadata": {},
     "output_type": "execute_result"
    }
   ],
   "source": [
    "square_rss"
   ]
  },
  {
   "cell_type": "code",
   "execution_count": 41,
   "metadata": {
    "collapsed": false
   },
   "outputs": [
    {
     "data": {
      "text/plain": [
       "493364582868287.75"
      ]
     },
     "execution_count": 41,
     "metadata": {},
     "output_type": "execute_result"
    }
   ],
   "source": [
    "bedroom_rss"
   ]
  },
  {
   "cell_type": "code",
   "execution_count": 43,
   "metadata": {
    "collapsed": false
   },
   "outputs": [],
   "source": [
    "graphlab.canvas.set_target('ipynb')\n",
    "import matplotlib.pyplot as plt\n",
    "%matplotlib inline"
   ]
  },
  {
   "cell_type": "code",
   "execution_count": 44,
   "metadata": {
    "collapsed": false
   },
   "outputs": [
    {
     "data": {
      "application/javascript": [
       "$(\"head\").append($(\"<link/>\").attr({\n",
       "  rel:  \"stylesheet\",\n",
       "  type: \"text/css\",\n",
       "  href: \"//cdnjs.cloudflare.com/ajax/libs/font-awesome/4.1.0/css/font-awesome.min.css\"\n",
       "}));\n",
       "$(\"head\").append($(\"<link/>\").attr({\n",
       "  rel:  \"stylesheet\",\n",
       "  type: \"text/css\",\n",
       "  href: \"https://static.turi.com/products/graphlab-create/2.1/canvas/css/canvas.css\"\n",
       "}));\n",
       "\n",
       "            (function(){\n",
       "\n",
       "                var e = null;\n",
       "                if (typeof element == 'undefined') {\n",
       "                    var scripts = document.getElementsByTagName('script');\n",
       "                    var thisScriptTag = scripts[scripts.length-1];\n",
       "                    var parentDiv = thisScriptTag.parentNode;\n",
       "                    e = document.createElement('div');\n",
       "                    parentDiv.appendChild(e);\n",
       "                } else {\n",
       "                    e = element[0];\n",
       "                }\n",
       "\n",
       "                if (typeof requirejs !== 'undefined') {\n",
       "                    // disable load timeout; ipython_app.js is large and can take a while to load.\n",
       "                    requirejs.config({waitSeconds: 0});\n",
       "                }\n",
       "\n",
       "                require(['https://static.turi.com/products/graphlab-create/2.1/canvas/js/ipython_app.js'], function(IPythonApp){\n",
       "                    var app = new IPythonApp();\n",
       "                    app.attachView('sframe','Plots', {\"selected_variable\": {\"name\": [\"sales\"], \"descriptives\": {\"rows\": 21613, \"columns\": 21}, \"view_component\": \"Plots\", \"view_file\": \"sframe\", \"view_params\": {\"y\": \"price\", \"x\": \"sqft_living\", \"columns\": [\"id\", \"date\", \"price\", \"bedrooms\", \"bathrooms\", \"sqft_living\", \"sqft_lot\", \"floors\", \"waterfront\", \"view\", \"condition\", \"grade\", \"sqft_above\", \"sqft_basement\", \"yr_built\", \"yr_renovated\", \"zipcode\", \"lat\", \"long\", \"sqft_living15\", \"sqft_lot15\"], \"view\": \"Scatter Plot\"}, \"view_components\": [\"Summary\", \"Table\", \"Bar Chart\", \"BoxWhisker Plot\", \"Line Chart\", \"Scatter Plot\", \"Heat Map\", \"Plots\"], \"type\": \"SFrame\", \"columns\": [{\"dtype\": \"str\", \"name\": \"id\"}, {\"dtype\": \"datetime\", \"name\": \"date\"}, {\"dtype\": \"float\", \"name\": \"price\"}, {\"dtype\": \"float\", \"name\": \"bedrooms\"}, {\"dtype\": \"float\", \"name\": \"bathrooms\"}, {\"dtype\": \"float\", \"name\": \"sqft_living\"}, {\"dtype\": \"int\", \"name\": \"sqft_lot\"}, {\"dtype\": \"str\", \"name\": \"floors\"}, {\"dtype\": \"int\", \"name\": \"waterfront\"}, {\"dtype\": \"int\", \"name\": \"view\"}, {\"dtype\": \"int\", \"name\": \"condition\"}, {\"dtype\": \"int\", \"name\": \"grade\"}, {\"dtype\": \"int\", \"name\": \"sqft_above\"}, {\"dtype\": \"int\", \"name\": \"sqft_basement\"}, {\"dtype\": \"int\", \"name\": \"yr_built\"}, {\"dtype\": \"int\", \"name\": \"yr_renovated\"}, {\"dtype\": \"str\", \"name\": \"zipcode\"}, {\"dtype\": \"float\", \"name\": \"lat\"}, {\"dtype\": \"float\", \"name\": \"long\"}, {\"dtype\": \"float\", \"name\": \"sqft_living15\"}, {\"dtype\": \"float\", \"name\": \"sqft_lot15\"}], \"column_identifiers\": [\"bathrooms\", \"sqft_living15\", \"sqft_above\", \"grade\", \"yr_built\", \"price\", \"bedrooms\", \"zipcode\", \"long\", \"id\", \"sqft_lot15\", \"sqft_living\", \"floors\", \"sqft_lot\", \"date\", \"waterfront\", \"sqft_basement\", \"yr_renovated\", \"lat\", \"condition\", \"view\"]}, \"complete\": 1, \"ipython\": true, \"progress\": 1.0, \"data\": [[4540.0, 1150000.0], [4350.0, 2538000.0], [1880.0, 595000.0], [2880.0, 1125000.0], [2390.0, 800000.0], [2270.0, 735000.0], [1480.0, 560000.0], [2060.0, 543000.0], [2755.0, 625250.0], [2920.0, 850000.0], [1870.0, 299950.0], [1780.0, 442573.0], [3650.0, 824000.0], [1950.0, 447500.0], [2390.0, 645500.0], [1140.0, 549000.0], [1910.0, 630100.0], [1850.0, 445000.0], [1190.0, 230000.0], [2320.0, 475000.0], [980.0, 375000.0], [1740.0, 339999.0], [1840.0, 778000.0], [1210.0, 320000.0], [2880.0, 419900.0], [1570.0, 295000.0], [3845.0, 1750000.0], [1700.0, 559000.0], [1600.0, 405000.0], [1590.0, 314950.0], [2840.0, 500000.0], [1850.0, 290000.0], [1320.0, 225000.0], [3870.0, 589900.0], [2290.0, 440000.0], [2820.0, 461500.0], [1400.0, 507250.0], [1770.0, 289950.0], [1210.0, 375000.0], [1880.0, 616500.0], [3220.0, 640000.0], [3490.0, 830000.0], [3110.0, 588000.0], [2020.0, 552500.0], [1020.0, 335000.0], [1830.0, 336500.0], [1030.0, 301000.0], [1880.0, 445500.0], [1780.0, 442900.0], [1260.0, 305000.0], [2150.0, 762000.0], [980.0, 352500.0], [2410.0, 625000.0], [1970.0, 323000.0], [1590.0, 670500.0], [2160.0, 453000.0], [2250.0, 292500.0], [1730.0, 569000.0], [3430.0, 473000.0], [2260.0, 864000.0], [2320.0, 429950.0], [2040.0, 499000.0], [1020.0, 219950.0], [1620.0, 265000.0], [1270.0, 292000.0], [2270.0, 575000.0], [1800.0, 436000.0], [2910.0, 718500.0], [1000.0, 204000.0], [2230.0, 590000.0], [1880.0, 310000.0], [1350.0, 400000.0], [1170.0, 275000.0], [1280.0, 405000.0], [1810.0, 326500.0], [1730.0, 216000.0], [1850.0, 540000.0], [1980.0, 279000.0], [1450.0, 282510.0], [1470.0, 244000.0], [4400.0, 1120000.0], [2110.0, 490000.0], [2020.0, 355000.0], [2320.0, 260000.0], [1270.0, 260000.0], [1460.0, 499922.0], [1540.0, 519500.0], [2410.0, 550000.0], [1860.0, 385000.0], [1760.0, 500000.0], [1570.0, 274950.0], [2320.0, 350000.0], [2750.0, 625000.0], [2370.0, 366000.0], [1500.0, 513000.0], [3030.0, 819995.0], [1310.0, 229999.0], [3370.0, 900000.0], [1930.0, 825000.0], [2370.0, 597000.0], [1510.0, 485000.0], [3660.0, 730000.0], [4050.0, 1288000.0], [1430.0, 427500.0], [1090.0, 292000.0], [990.0, 250000.0], [900.0, 290000.0], [3110.0, 635000.0], [3270.0, 750000.0], [720.0, 405000.0], [1400.0, 340000.0], [2120.0, 397950.0], [3640.0, 925000.0], [1820.0, 500007.0], [1840.0, 467000.0], [1550.0, 725000.0], [1740.0, 340000.0], [1840.0, 325000.0], [1860.0, 528000.0], [2040.0, 272000.0], [2600.0, 250000.0], [2510.0, 410000.0], [4010.0, 1325000.0], [1960.0, 320000.0], [1010.0, 345000.0], [2750.0, 1450000.0], [1640.0, 275000.0], [3170.0, 777000.0], [850.0, 170000.0], [2270.0, 513000.0], [1250.0, 338000.0], [2240.0, 635000.0], [1730.0, 292000.0], [2420.0, 369000.0], [1490.0, 425000.0], [960.0, 232000.0], [1370.0, 238000.0], [1770.0, 500000.0], [1270.0, 360000.0], [1840.0, 334000.0], [1580.0, 195000.0], [1080.0, 350000.0], [3480.0, 878000.0], [1340.0, 360000.0], [2530.0, 435000.0], [2280.0, 383000.0], [2900.0, 650000.0], [1490.0, 310000.0], [1960.0, 372000.0], [3630.0, 1085000.0], [1360.0, 450000.0], [2390.0, 570000.0], [2630.0, 852500.0], [2340.0, 360000.0], [2770.0, 750000.0], [3250.0, 353500.0], [1160.0, 450000.0], [1080.0, 132500.0], [1780.0, 312000.0], [2540.0, 750000.0], [1040.0, 600000.0], [3400.0, 585000.0], [2140.0, 675000.0], [1910.0, 441000.0], [1620.0, 395000.0], [3350.0, 1010000.0], [1490.0, 256400.0], [2680.0, 807100.0], [1800.0, 680000.0], [1840.0, 499000.0], [893.0, 359950.0], [2490.0, 1705000.0], [2140.0, 330000.0], [2420.0, 725000.0], [1970.0, 262000.0], [1840.0, 525000.0], [1820.0, 655000.0], [720.0, 150000.0], [2220.0, 260000.0], [1240.0, 361810.0], [1540.0, 565000.0], [1580.0, 549800.0], [4160.0, 1150000.0], [3370.0, 1135000.0], [2200.0, 396800.0], [2130.0, 1300000.0], [1530.0, 450000.0], [2800.0, 550000.0], [3320.0, 950000.0], [1360.0, 630000.0], [1650.0, 305000.0], [2120.0, 1000000.0], [3650.0, 1210000.0], [2200.0, 1100000.0], [3940.0, 1695000.0], [1850.0, 295000.0], [1714.0, 305000.0], [1220.0, 286308.0], [1700.0, 315000.0], [930.0, 395000.0], [1390.0, 267000.0], [1870.0, 433000.0], [1230.0, 275000.0], [1110.0, 452000.0], [910.0, 274250.0], [3110.0, 730000.0], [1620.0, 600000.0], [1790.0, 401500.0], [1100.0, 450000.0], [2300.0, 464000.0], [1790.0, 603000.0], [1270.0, 625504.0], [980.0, 134000.0], [2714.0, 465000.0], [2290.0, 670000.0], [1760.0, 387000.0], [1880.0, 550000.0], [1930.0, 530000.0], [1340.0, 357000.0], [1700.0, 269500.0], [3210.0, 565000.0], [1340.0, 265000.0], [4060.0, 1795000.0], [860.0, 370000.0], [1870.0, 554000.0], [1140.0, 517000.0], [2150.0, 500000.0], [2360.0, 1087500.0], [1970.0, 780000.0], [1430.0, 510000.0], [2130.0, 586000.0], [1820.0, 489950.0], [3140.0, 760000.0], [1620.0, 425000.0], [1780.0, 370000.0], [5610.0, 995000.0], [1300.0, 439888.0], [1840.0, 730001.0], [2720.0, 840000.0], [950.0, 287000.0], [1730.0, 257000.0], [1280.0, 215000.0], [2430.0, 409950.0], [1090.0, 219500.0], [1020.0, 380000.0], [2580.0, 937750.0], [2130.0, 515000.0], [2260.0, 540000.0], [2770.0, 650000.0], [2050.0, 645000.0], [1550.0, 330000.0], [1100.0, 306500.0], [1510.0, 415000.0], [3220.0, 768000.0], [1370.0, 460000.0], [2930.0, 420000.0], [1130.0, 411000.0], [4610.0, 1200000.0], [1170.0, 282500.0], [2850.0, 907500.0], [3360.0, 465000.0], [1540.0, 302000.0], [2190.0, 353000.0], [2800.0, 439000.0], [830.0, 329445.0], [3400.0, 970000.0], [1800.0, 286000.0], [3310.0, 803100.0], [1894.0, 280000.0], [2060.0, 457000.0], [1800.0, 400000.0], [1040.0, 436000.0], [830.0, 150000.0], [3680.0, 700000.0], [2870.0, 765000.0], [1640.0, 265000.0], [1240.0, 529950.0], [3390.0, 780000.0], [850.0, 440000.0], [1390.0, 267500.0], [1230.0, 220000.0], [4340.0, 2945000.0], [1300.0, 675000.0], [3420.0, 908800.0], [1720.0, 620000.0], [1850.0, 245000.0], [2020.0, 370000.0], [1630.0, 249900.0], [2910.0, 1035000.0], [6530.0, 1600000.0], [1870.0, 375000.0], [2930.0, 749000.0], [2540.0, 355000.0], [1480.0, 250000.0], [2210.0, 950000.0], [970.0, 204995.0], [2310.0, 646000.0], [1310.0, 365000.0], [1460.0, 239950.0], [1460.0, 324950.0], [2280.0, 622100.0], [1870.0, 490000.0], [1660.0, 570000.0], [2406.0, 270500.0], [1740.0, 267000.0], [2598.0, 428900.0], [1800.0, 550000.0], [1750.0, 300000.0], [1280.0, 389000.0], [2750.0, 795000.0], [2510.0, 400000.0], [4640.0, 1267500.0], [2140.0, 621500.0], [1160.0, 210000.0], [1190.0, 210000.0], [1910.0, 496600.0], [3440.0, 560000.0], [1010.0, 145000.0], [1810.0, 827500.0], [4230.0, 879000.0], [1180.0, 390000.0], [1250.0, 450000.0], [2015.0, 988500.0], [2570.0, 710000.0], [4500.0, 1830000.0], [3150.0, 1256500.0], [2330.0, 471000.0], [3180.0, 850000.0], [1020.0, 625000.0], [1450.0, 265000.0], [1760.0, 287500.0], [1040.0, 217450.0], [970.0, 261000.0], [1360.0, 397000.0], [990.0, 384000.0], [870.0, 357000.0], [2620.0, 678500.0], [1250.0, 333000.0], [1320.0, 327000.0], [2140.0, 577500.0], [2440.0, 689000.0], [1340.0, 324950.0], [1670.0, 554000.0], [1980.0, 900000.0], [2930.0, 650880.0], [2020.0, 465000.0], [1460.0, 580000.0], [7850.0, 2700000.0], [1360.0, 431200.0], [1010.0, 250000.0], [1600.0, 390000.0], [3010.0, 848000.0], [3480.0, 780000.0], [1480.0, 291000.0], [1650.0, 485000.0], [2200.0, 375000.0], [1360.0, 450000.0], [1750.0, 420000.0], [2575.0, 359000.0], [1020.0, 303000.0], [2440.0, 631625.0], [2310.0, 400000.0], [2500.0, 799000.0], [1170.0, 387000.0], [2390.0, 425000.0], [2960.0, 1161000.0], [2570.0, 621500.0], [1270.0, 400000.0], [1090.0, 300000.0], [1490.0, 185000.0], [3210.0, 770000.0], [1340.0, 252000.0], [1760.0, 544000.0], [3290.0, 716500.0], [2230.0, 490000.0], [2000.0, 427000.0], [1420.0, 147200.0], [2760.0, 760000.0], [1220.0, 249900.0], [2890.0, 910000.0], [2500.0, 397900.0], [2100.0, 277950.0], [1510.0, 470000.0], [5370.0, 1350000.0], [3510.0, 540000.0], [2510.0, 799000.0], [2910.0, 749950.0], [3490.0, 1264000.0], [2060.0, 815000.0], [1120.0, 524000.0], [820.0, 324000.0], [1810.0, 327000.0], [1600.0, 330000.0], [2680.0, 375000.0], [3840.0, 1118000.0], [1510.0, 320000.0], [2640.0, 489950.0], [1740.0, 299950.0], [4260.0, 994000.0], [3100.0, 460000.0], [4390.0, 1880000.0], [1320.0, 292000.0], [1340.0, 385000.0], [1020.0, 385000.0], [1780.0, 265000.0], [3640.0, 780000.0], [3590.0, 879000.0], [1270.0, 555000.0], [1980.0, 796000.0], [2020.0, 385000.0], [1920.0, 433000.0], [1370.0, 479000.0], [3880.0, 1060000.0], [890.0, 150000.0], [1610.0, 262500.0], [1570.0, 281700.0], [2350.0, 449000.0], [1930.0, 425000.0], [1840.0, 275000.0], [1810.0, 485000.0], [950.0, 482000.0], [2665.0, 340000.0], [2100.0, 335000.0], [1400.0, 419500.0], [2440.0, 480000.0], [1250.0, 253000.0], [1590.0, 518000.0], [2350.0, 1300000.0], [3520.0, 1662000.0], [1020.0, 210000.0], [1210.0, 450000.0], [1150.0, 324950.0], [2220.0, 299000.0], [1490.0, 237000.0], [2390.0, 790000.0], [3190.0, 790000.0], [1470.0, 410000.0], [2980.0, 622500.0], [2980.0, 600000.0], [2160.0, 629000.0], [770.0, 290000.0], [3220.0, 590000.0], [2300.0, 500000.0], [3420.0, 692500.0], [2420.0, 725000.0], [1660.0, 560000.0], [1010.0, 255000.0], [1900.0, 645000.0], [1390.0, 190500.0], [1310.0, 370000.0], [1560.0, 399950.0], [1730.0, 299000.0], [1400.0, 232000.0], [1750.0, 232603.0], [2110.0, 385000.0], [1600.0, 510000.0], [2690.0, 279000.0], [1300.0, 536000.0], [1830.0, 825000.0], [2242.0, 490000.0], [1300.0, 427000.0], [1420.0, 349950.0], [1440.0, 656000.0], [1290.0, 441000.0], [2720.0, 940000.0], [1480.0, 520000.0], [1760.0, 310000.0], [1160.0, 210000.0], [2620.0, 738000.0], [1970.0, 425000.0], [3420.0, 975000.0], [2510.0, 363000.0], [1700.0, 467500.0], [4190.0, 1150000.0], [4060.0, 630000.0], [5110.0, 2140000.0], [830.0, 393000.0], [3410.0, 1575000.0], [3920.0, 1165000.0], [1790.0, 410000.0], [2080.0, 467000.0], [2340.0, 485000.0], [2810.0, 368500.0], [420.0, 229050.0], [3160.0, 860000.0], [700.0, 254950.0], [3390.0, 303500.0], [1960.0, 300000.0], [1470.0, 865000.0], [1680.0, 282000.0], [1850.0, 303000.0], [910.0, 182500.0], [2100.0, 375000.0], [1910.0, 230000.0], [2690.0, 805000.0], [3290.0, 801000.0], [1720.0, 285000.0], [2660.0, 886000.0], [3500.0, 350000.0], [2120.0, 437500.0], [2330.0, 530000.0], [2150.0, 420000.0], [1040.0, 411100.0], [1220.0, 500000.0], [2690.0, 445000.0], [1540.0, 520000.0], [960.0, 175000.0], [1060.0, 111300.0], [1610.0, 425000.0], [3220.0, 710000.0], [2930.0, 890000.0], [1440.0, 427000.0], [1320.0, 260000.0], [2790.0, 535365.0], [2370.0, 540000.0], [1200.0, 231500.0], [2700.0, 837500.0], [3210.0, 725000.0], [2270.0, 527500.0], [2410.0, 635000.0], [1490.0, 415000.0], [3430.0, 780000.0], [1390.0, 365000.0], [1300.0, 397500.0], [2100.0, 429000.0], [830.0, 455000.0], [1710.0, 630000.0], [2140.0, 339950.0], [4520.0, 1250000.0], [1340.0, 290000.0], [1520.0, 279950.0], [1410.0, 220000.0], [2580.0, 355000.0], [2990.0, 600000.0], [1480.0, 335000.0], [1610.0, 358000.0], [3240.0, 719950.0], [1430.0, 350000.0], [1510.0, 455000.0], [910.0, 422500.0], [5403.0, 2125000.0], [1570.0, 335000.0], [1660.0, 315000.0], [2120.0, 530000.0], [1000.0, 424950.0], [3040.0, 725000.0], [3370.0, 785000.0], [2350.0, 1620000.0], [1850.0, 495000.0], [8000.0, 5350000.0], [2780.0, 700000.0], [1750.0, 445000.0], [2130.0, 392000.0], [750.0, 261000.0], [1150.0, 305000.0], [3490.0, 449950.0], [2020.0, 459000.0], [1880.0, 735000.0], [2750.0, 750000.0], [2180.0, 435000.0], [2310.0, 815000.0], [2430.0, 445000.0], [1640.0, 570000.0], [1370.0, 296000.0], [1460.0, 245000.0], [1040.0, 245990.0], [3300.0, 360500.0], [1070.0, 312500.0], [1310.0, 600000.0], [2720.0, 645000.0], [2510.0, 660000.0], [1410.0, 418000.0], [1200.0, 320000.0], [2550.0, 650000.0], [4740.0, 1049000.0], [5610.0, 1583000.0], [1570.0, 500000.0], [940.0, 347000.0], [2920.0, 1050000.0], [2390.0, 535000.0], [1300.0, 570000.0], [710.0, 257500.0], [1630.0, 490000.0], [810.0, 238950.0], [1960.0, 415000.0], [3780.0, 1400000.0], [2880.0, 1989000.0], [710.0, 216500.0], [1970.0, 438000.0], [1870.0, 248000.0], [2270.0, 656000.0], [3060.0, 753000.0], [3290.0, 715000.0], [2560.0, 535000.0], [4370.0, 858000.0], [2740.0, 370000.0], [2300.0, 353000.0], [2910.0, 605000.0], [1310.0, 600000.0], [1690.0, 535000.0], [940.0, 265000.0], [1340.0, 287000.0], [2540.0, 717000.0], [4270.0, 1532500.0], [2200.0, 460000.0], [1580.0, 214000.0], [1850.0, 535000.0], [1770.0, 502550.0], [790.0, 135000.0], [1950.0, 430000.0], [2680.0, 1320000.0], [1870.0, 650000.0], [1810.0, 300000.0], [4065.0, 1950000.0], [3100.0, 1001000.0], [2620.0, 1030000.0], [1590.0, 356000.0], [1580.0, 520000.0], [1500.0, 405000.0], [2890.0, 570000.0], [2100.0, 370000.0], [1440.0, 490000.0], [1820.0, 268500.0], [2070.0, 781000.0], [2640.0, 632500.0], [1120.0, 311000.0], [2330.0, 299900.0], [1700.0, 800000.0], [1270.0, 543500.0], [1770.0, 353500.0], [2630.0, 665000.0], [1150.0, 425000.0], [6640.0, 4500000.0], [1050.0, 169100.0], [1880.0, 300000.0], [1160.0, 490000.0], [1000.0, 265000.0], [2180.0, 570000.0], [1140.0, 399995.0], [2020.0, 629500.0], [2770.0, 575000.0], [1910.0, 545000.0], [3230.0, 572115.0], [1560.0, 525000.0], [2360.0, 430000.0], [1540.0, 491234.0], [1740.0, 450000.0], [1410.0, 335000.0], [4140.0, 950000.0], [1260.0, 425000.0], [2150.0, 580000.0], [1680.0, 450000.0], [1920.0, 325000.0], [1900.0, 343500.0], [2520.0, 496000.0], [1730.0, 187000.0], [2080.0, 460000.0], [1690.0, 515000.0], [2850.0, 540000.0], [1810.0, 600000.0], [3500.0, 905000.0], [1810.0, 449000.0], [1640.0, 475000.0], [1255.0, 312000.0], [2400.0, 300000.0], [4130.0, 900000.0], [2410.0, 485000.0], [720.0, 248500.0], [1250.0, 235000.0], [1720.0, 432500.0], [2410.0, 711800.0], [1060.0, 326250.0], [2370.0, 640000.0], [850.0, 354000.0], [2440.0, 575000.0], [1660.0, 675000.0], [1190.0, 455000.0], [1410.0, 442000.0], [1180.0, 390000.0], [2010.0, 350000.0], [790.0, 350000.0], [1480.0, 425000.0], [1500.0, 270000.0], [1640.0, 250000.0], [1440.0, 420000.0], [1460.0, 580000.0], [2710.0, 951250.0], [1860.0, 570000.0], [2500.0, 455000.0], [1790.0, 509900.0], [1260.0, 320000.0], [2130.0, 220000.0], [2910.0, 600000.0], [2030.0, 597500.0], [1660.0, 658000.0], [2240.0, 1350000.0], [4060.0, 404000.0], [1920.0, 517000.0], [3680.0, 1475000.0], [1560.0, 545500.0], [2250.0, 375000.0], [2490.0, 414000.0], [1140.0, 399950.0], [1300.0, 440000.0], [1220.0, 215500.0], [2190.0, 437000.0], [2280.0, 718000.0], [940.0, 259250.0], [1100.0, 250000.0], [2530.0, 657000.0], [1220.0, 287500.0], [1150.0, 213400.0], [1170.0, 562500.0], [2100.0, 679000.0], [1860.0, 291000.0], [1710.0, 250000.0], [1260.0, 280000.0], [2480.0, 495000.0], [2760.0, 369950.0], [1080.0, 411000.0], [1770.0, 270000.0], [2150.0, 587000.0], [1890.0, 322968.0], [850.0, 389000.0], [3080.0, 475000.0], [1580.0, 265000.0], [3410.0, 675000.0], [2849.0, 798000.0], [2740.0, 315000.0], [1952.0, 270500.0], [1970.0, 501000.0], [1730.0, 357500.0], [1170.0, 470000.0], [2380.0, 550000.0], [2240.0, 580379.0], [1880.0, 680000.0], [1440.0, 287450.0], [2500.0, 635000.0], [1180.0, 209950.0], [1140.0, 455000.0], [1600.0, 285000.0], [1420.0, 335000.0], [1470.0, 169000.0], [970.0, 205950.0], [1680.0, 340000.0], [1840.0, 433000.0], [2010.0, 650000.0], [4780.0, 2575000.0], [1320.0, 359000.0], [1820.0, 359950.0], [1720.0, 575000.0], [2140.0, 365000.0], [2350.0, 700000.0], [1390.0, 510000.0], [1530.0, 350000.0], [2100.0, 356000.0], [1280.0, 370000.0], [1150.0, 252000.0], [1740.0, 330000.0], [1570.0, 555000.0], [2040.0, 872500.0], [2830.0, 865000.0], [1250.0, 267100.0], [3160.0, 555000.0], [2820.0, 615000.0], [1460.0, 399000.0], [860.0, 122000.0], [1870.0, 285000.0], [720.0, 195000.0], [3170.0, 405000.0], [2840.0, 450000.0], [1600.0, 332500.0], [1940.0, 465250.0], [1430.0, 580000.0], [2330.0, 825000.0], [1970.0, 379950.0], [2520.0, 770000.0], [3120.0, 341500.0], [1550.0, 299000.0], [1410.0, 274950.0], [1800.0, 408474.0], [1300.0, 625000.0], [3140.0, 532500.0], [1530.0, 570000.0], [1100.0, 210000.0], [2280.0, 449500.0], [4590.0, 1720000.0], [2290.0, 278000.0], [1020.0, 300000.0], [1460.0, 295000.0], [1540.0, 492450.0], [4270.0, 1300000.0], [1830.0, 339000.0], [3030.0, 557865.0], [1490.0, 255000.0], [2690.0, 390000.0], [1700.0, 400000.0], [2010.0, 279000.0], [1240.0, 357823.0], [2160.0, 385000.0], [680.0, 365000.0], [1800.0, 285000.0], [2010.0, 380000.0], [800.0, 269500.0], [1960.0, 575000.0], [1979.0, 339000.0], [3300.0, 849990.0], [2080.0, 368000.0], [2220.0, 540000.0], [940.0, 239000.0], [1660.0, 432000.0], [1880.0, 475000.0], [2570.0, 655000.0], [1650.0, 705000.0], [1040.0, 440000.0], [2660.0, 379000.0], [2120.0, 650000.0], [2260.0, 679000.0], [2060.0, 257500.0], [2970.0, 775950.0], [1330.0, 455000.0], [3130.0, 1389000.0], [2970.0, 549995.0], [3210.0, 825000.0], [1810.0, 431000.0], [5774.0, 740000.0], [2010.0, 825000.0], [1800.0, 305000.0], [1010.0, 241000.0], [2030.0, 643000.0], [1410.0, 267800.0], [2680.0, 359999.0], [2850.0, 545400.0], [2643.0, 376950.0], [1180.0, 215000.0], [3160.0, 942000.0], [2270.0, 287000.0], [1940.0, 520000.0], [1960.0, 204250.0], [2010.0, 218000.0], [2340.0, 850000.0], [3320.0, 679990.0], [2910.0, 805000.0], [1840.0, 521000.0], [1280.0, 230000.0], [1510.0, 313000.0], [2020.0, 490000.0], [4000.0, 628000.0], [1990.0, 560200.0], [2700.0, 710000.0], [1680.0, 515000.0], [2100.0, 342500.0], [2110.0, 535000.0], [1820.0, 438000.0], [1690.0, 212000.0], [1790.0, 370500.0], [1440.0, 475000.0], [1370.0, 232500.0], [1420.0, 260000.0], [1930.0, 268000.0], [1350.0, 270000.0], [1970.0, 289000.0], [3840.0, 875000.0], [3110.0, 386500.0], [930.0, 358000.0], [800.0, 402500.0], [4280.0, 1928000.0], [1320.0, 499950.0], [880.0, 105000.0], [1320.0, 159000.0], [1580.0, 159075.0], [1510.0, 185000.0], [1890.0, 450000.0], [1350.0, 455000.0], [2160.0, 665000.0], [2040.0, 471000.0], [1220.0, 199000.0], [1740.0, 239999.0], [1560.0, 519000.0], [2580.0, 383000.0], [2940.0, 435000.0], [1370.0, 420550.0], [2502.0, 453000.0], [1660.0, 420000.0], [2160.0, 499950.0], [1660.0, 410000.0], [1890.0, 597500.0], [2930.0, 442515.0], [2420.0, 697000.0], [1730.0, 350000.0], [2100.0, 283500.0], [1890.0, 506500.0], [3240.0, 625000.0], [1650.0, 233703.0], [1996.0, 285000.0], [3840.0, 840000.0], [970.0, 219000.0], [1350.0, 170000.0], [2130.0, 700000.0], [1070.0, 245000.0], [3470.0, 730000.0], [3140.0, 915000.0], [930.0, 275000.0], [4230.0, 2075000.0], [1090.0, 152500.0], [1910.0, 746000.0], [980.0, 575000.0], [920.0, 650000.0], [1741.0, 479000.0], [1120.0, 435000.0], [1690.0, 390000.0], [4360.0, 1789950.0], [3290.0, 728000.0], [1260.0, 280000.0], [1970.0, 274900.0], [1400.0, 322000.0], [2628.0, 499160.0], [1100.0, 192500.0], [1000.0, 270000.0], [1590.0, 295000.0], [1430.0, 466500.0], [2070.0, 469000.0], [3670.0, 820000.0], [1380.0, 185000.0], [1360.0, 370000.0], [3460.0, 971971.0], [2380.0, 545000.0], [1450.0, 585000.0], [3830.0, 852500.0], [2080.0, 448500.0], [2655.0, 409950.0], [1580.0, 299980.0], [2750.0, 418000.0], [1790.0, 251100.0], [1470.0, 380000.0], [1630.0, 215000.0], [860.0, 330000.0], [1570.0, 458000.0], [1350.0, 200000.0], [1940.0, 335000.0], [780.0, 289000.0], [970.0, 315000.0], [2120.0, 369160.0], [2360.0, 499900.0], [2240.0, 1265000.0], [3720.0, 1275000.0], [760.0, 380000.0], [670.0, 240000.0], [3750.0, 725000.0], [1350.0, 585000.0], [2760.0, 550000.0], [1210.0, 299900.0], [1920.0, 345000.0], [1700.0, 389950.0], [2305.0, 705000.0], [1220.0, 320600.0], [1480.0, 402300.0], [2860.0, 289275.0], [1290.0, 305000.0], [1370.0, 600000.0], [900.0, 465000.0], [2250.0, 615000.0], [2440.0, 425000.0], [2720.0, 599950.0], [2620.0, 539000.0], [4700.0, 1175000.0], [2270.0, 420000.0], [1520.0, 672600.0], [3160.0, 795000.0], [2660.0, 1100000.0], [1470.0, 419000.0], [1610.0, 270000.0], [3780.0, 1175000.0], [1010.0, 300000.0], [1320.0, 380000.0], [4720.0, 875000.0], [1820.0, 700000.0], [980.0, 430000.0], [2440.0, 519950.0], [1650.0, 429500.0], [3360.0, 769995.0], [2280.0, 395000.0], [1760.0, 690000.0], [1670.0, 325000.0], [1720.0, 350000.0], [800.0, 422500.0], [2130.0, 283000.0], [720.0, 217000.0], [3040.0, 840000.0], [1200.0, 450000.0], [3260.0, 820000.0], [2040.0, 379950.0], [2770.0, 653000.0], [1490.0, 253000.0], [2050.0, 439500.0], [970.0, 360500.0], [1030.0, 525000.0], [1910.0, 663000.0], [1030.0, 189950.0], [1100.0, 174900.0]], \"columns\": [{\"dtype\": \"str\", \"name\": \"id\"}, {\"dtype\": \"datetime\", \"name\": \"date\"}, {\"dtype\": \"float\", \"name\": \"price\"}, {\"dtype\": \"float\", \"name\": \"bedrooms\"}, {\"dtype\": \"float\", \"name\": \"bathrooms\"}, {\"dtype\": \"float\", \"name\": \"sqft_living\"}, {\"dtype\": \"int\", \"name\": \"sqft_lot\"}, {\"dtype\": \"str\", \"name\": \"floors\"}, {\"dtype\": \"int\", \"name\": \"waterfront\"}, {\"dtype\": \"int\", \"name\": \"view\"}, {\"dtype\": \"int\", \"name\": \"condition\"}, {\"dtype\": \"int\", \"name\": \"grade\"}, {\"dtype\": \"int\", \"name\": \"sqft_above\"}, {\"dtype\": \"int\", \"name\": \"sqft_basement\"}, {\"dtype\": \"int\", \"name\": \"yr_built\"}, {\"dtype\": \"int\", \"name\": \"yr_renovated\"}, {\"dtype\": \"str\", \"name\": \"zipcode\"}, {\"dtype\": \"float\", \"name\": \"lat\"}, {\"dtype\": \"float\", \"name\": \"long\"}, {\"dtype\": \"float\", \"name\": \"sqft_living15\"}, {\"dtype\": \"float\", \"name\": \"sqft_lot15\"}]}, e);\n",
       "                });\n",
       "            })();\n",
       "        "
      ]
     },
     "metadata": {},
     "output_type": "display_data"
    }
   ],
   "source": [
    "sales.show(view=\"Scatter Plot\", x=\"sqft_living\", y=\"price\")"
   ]
  },
  {
   "cell_type": "code",
   "execution_count": 45,
   "metadata": {
    "collapsed": false
   },
   "outputs": [
    {
     "data": {
      "application/javascript": [
       "$(\"head\").append($(\"<link/>\").attr({\n",
       "  rel:  \"stylesheet\",\n",
       "  type: \"text/css\",\n",
       "  href: \"//cdnjs.cloudflare.com/ajax/libs/font-awesome/4.1.0/css/font-awesome.min.css\"\n",
       "}));\n",
       "$(\"head\").append($(\"<link/>\").attr({\n",
       "  rel:  \"stylesheet\",\n",
       "  type: \"text/css\",\n",
       "  href: \"https://static.turi.com/products/graphlab-create/2.1/canvas/css/canvas.css\"\n",
       "}));\n",
       "\n",
       "            (function(){\n",
       "\n",
       "                var e = null;\n",
       "                if (typeof element == 'undefined') {\n",
       "                    var scripts = document.getElementsByTagName('script');\n",
       "                    var thisScriptTag = scripts[scripts.length-1];\n",
       "                    var parentDiv = thisScriptTag.parentNode;\n",
       "                    e = document.createElement('div');\n",
       "                    parentDiv.appendChild(e);\n",
       "                } else {\n",
       "                    e = element[0];\n",
       "                }\n",
       "\n",
       "                if (typeof requirejs !== 'undefined') {\n",
       "                    // disable load timeout; ipython_app.js is large and can take a while to load.\n",
       "                    requirejs.config({waitSeconds: 0});\n",
       "                }\n",
       "\n",
       "                require(['https://static.turi.com/products/graphlab-create/2.1/canvas/js/ipython_app.js'], function(IPythonApp){\n",
       "                    var app = new IPythonApp();\n",
       "                    app.attachView('sframe','Plots', {\"selected_variable\": {\"name\": [\"sales\"], \"descriptives\": {\"rows\": 21613, \"columns\": 21}, \"view_component\": \"Plots\", \"view_file\": \"sframe\", \"view_params\": {\"y\": \"price\", \"x\": \"bedrooms\", \"columns\": [\"id\", \"date\", \"price\", \"bedrooms\", \"bathrooms\", \"sqft_living\", \"sqft_lot\", \"floors\", \"waterfront\", \"view\", \"condition\", \"grade\", \"sqft_above\", \"sqft_basement\", \"yr_built\", \"yr_renovated\", \"zipcode\", \"lat\", \"long\", \"sqft_living15\", \"sqft_lot15\"], \"view\": \"Scatter Plot\"}, \"view_components\": [\"Summary\", \"Table\", \"Bar Chart\", \"BoxWhisker Plot\", \"Line Chart\", \"Scatter Plot\", \"Heat Map\", \"Plots\"], \"type\": \"SFrame\", \"columns\": [{\"dtype\": \"str\", \"name\": \"id\"}, {\"dtype\": \"datetime\", \"name\": \"date\"}, {\"dtype\": \"float\", \"name\": \"price\"}, {\"dtype\": \"float\", \"name\": \"bedrooms\"}, {\"dtype\": \"float\", \"name\": \"bathrooms\"}, {\"dtype\": \"float\", \"name\": \"sqft_living\"}, {\"dtype\": \"int\", \"name\": \"sqft_lot\"}, {\"dtype\": \"str\", \"name\": \"floors\"}, {\"dtype\": \"int\", \"name\": \"waterfront\"}, {\"dtype\": \"int\", \"name\": \"view\"}, {\"dtype\": \"int\", \"name\": \"condition\"}, {\"dtype\": \"int\", \"name\": \"grade\"}, {\"dtype\": \"int\", \"name\": \"sqft_above\"}, {\"dtype\": \"int\", \"name\": \"sqft_basement\"}, {\"dtype\": \"int\", \"name\": \"yr_built\"}, {\"dtype\": \"int\", \"name\": \"yr_renovated\"}, {\"dtype\": \"str\", \"name\": \"zipcode\"}, {\"dtype\": \"float\", \"name\": \"lat\"}, {\"dtype\": \"float\", \"name\": \"long\"}, {\"dtype\": \"float\", \"name\": \"sqft_living15\"}, {\"dtype\": \"float\", \"name\": \"sqft_lot15\"}], \"column_identifiers\": [\"bathrooms\", \"sqft_living15\", \"sqft_above\", \"grade\", \"yr_built\", \"price\", \"bedrooms\", \"zipcode\", \"long\", \"id\", \"sqft_lot15\", \"sqft_living\", \"floors\", \"sqft_lot\", \"date\", \"waterfront\", \"sqft_basement\", \"yr_renovated\", \"lat\", \"condition\", \"view\"]}, \"complete\": 1, \"ipython\": true, \"progress\": 1.0, \"data\": [[3.0, 554000.0], [3.0, 475000.0], [4.0, 565000.0], [3.0, 695000.0], [3.0, 294000.0], [4.0, 980000.0], [3.0, 478000.0], [3.0, 161500.0], [4.0, 824500.0], [4.0, 395000.0], [3.0, 255000.0], [3.0, 302000.0], [4.0, 671300.0], [4.0, 2300000.0], [6.0, 705000.0], [4.0, 294450.0], [4.0, 360000.0], [4.0, 320000.0], [4.0, 795000.0], [4.0, 795000.0], [4.0, 595000.0], [4.0, 714000.0], [3.0, 429000.0], [3.0, 210000.0], [3.0, 287000.0], [5.0, 539950.0], [3.0, 190000.0], [3.0, 415000.0], [3.0, 250000.0], [2.0, 471000.0], [4.0, 950000.0], [5.0, 465000.0], [4.0, 700000.0], [4.0, 1100000.0], [4.0, 2187730.0], [4.0, 194000.0], [3.0, 304000.0], [4.0, 600000.0], [4.0, 1850000.0], [4.0, 760000.0], [3.0, 277140.0], [3.0, 370000.0], [4.0, 297000.0], [4.0, 569950.0], [3.0, 272000.0], [2.0, 529100.0], [2.0, 699000.0], [3.0, 450000.0], [4.0, 374000.0], [3.0, 475000.0], [3.0, 349000.0], [3.0, 370000.0], [3.0, 259000.0], [3.0, 388598.0], [3.0, 865000.0], [3.0, 235000.0], [4.0, 775000.0], [3.0, 330000.0], [4.0, 814000.0], [3.0, 392000.0], [4.0, 327000.0], [2.0, 600000.0], [4.0, 608000.0], [4.0, 878000.0], [4.0, 302000.0], [4.0, 912000.0], [3.0, 400000.0], [4.0, 287000.0], [3.0, 530000.0], [2.0, 84000.0], [4.0, 320000.0], [4.0, 2200000.0], [4.0, 706000.0], [4.0, 572650.0], [4.0, 672800.0], [4.0, 813500.0], [3.0, 569000.0], [4.0, 339100.0], [2.0, 527000.0], [3.0, 515000.0], [2.0, 715000.0], [6.0, 375000.0], [2.0, 355000.0], [3.0, 491500.0], [4.0, 1300000.0], [3.0, 400000.0], [4.0, 749950.0], [3.0, 266200.0], [3.0, 650000.0], [4.0, 1500000.0], [3.0, 315000.0], [5.0, 1099880.0], [4.0, 287000.0], [4.0, 967000.0], [3.0, 302000.0], [3.0, 296500.0], [2.0, 219950.0], [2.0, 183000.0], [3.0, 539000.0], [5.0, 1250000.0], [4.0, 460000.0], [3.0, 365000.0], [3.0, 321000.0], [4.0, 665000.0], [2.0, 150000.0], [3.0, 294000.0], [2.0, 524950.0], [4.0, 690000.0], [4.0, 284000.0], [3.0, 333000.0], [4.0, 385000.0], [1.0, 570000.0], [3.0, 530000.0], [3.0, 154000.0], [3.0, 242500.0], [3.0, 638000.0], [3.0, 210000.0], [3.0, 490000.0], [3.0, 428000.0], [3.0, 300000.0], [4.0, 252750.0], [3.0, 370000.0], [2.0, 476000.0], [2.0, 575000.0], [4.0, 255000.0], [2.0, 269000.0], [3.0, 766950.0], [3.0, 306000.0], [3.0, 359500.0], [4.0, 430000.0], [3.0, 212000.0], [6.0, 516250.0], [3.0, 475000.0], [3.0, 410000.0], [4.0, 670000.0], [5.0, 456000.0], [3.0, 515000.0], [3.0, 300000.0], [2.0, 229950.0], [3.0, 598500.0], [4.0, 390000.0], [3.0, 415000.0], [3.0, 599000.0], [3.0, 420000.0], [3.0, 297000.0], [3.0, 545000.0], [4.0, 775000.0], [3.0, 700000.0], [3.0, 442250.0], [3.0, 290000.0], [3.0, 385000.0], [3.0, 650000.0], [6.0, 865000.0], [2.0, 425000.0], [4.0, 425000.0], [3.0, 333500.0], [5.0, 650000.0], [3.0, 650000.0], [4.0, 377500.0], [2.0, 399950.0], [1.0, 248000.0], [4.0, 792000.0], [2.0, 155000.0], [3.0, 226000.0], [3.0, 207000.0], [4.0, 242000.0], [4.0, 440000.0], [4.0, 225000.0], [4.0, 850000.0], [3.0, 210000.0], [4.0, 812000.0], [3.0, 817500.0], [5.0, 726000.0], [4.0, 857500.0], [3.0, 870000.0], [4.0, 425000.0], [4.0, 449950.0], [4.0, 501000.0], [3.0, 1075000.0], [3.0, 456000.0], [3.0, 370900.0], [3.0, 450000.0], [4.0, 620000.0], [3.0, 415000.0], [2.0, 363000.0], [4.0, 530000.0], [2.0, 340000.0], [4.0, 688100.0], [3.0, 370000.0], [5.0, 320000.0], [4.0, 502700.0], [2.0, 650000.0], [3.0, 490000.0], [2.0, 601150.0], [3.0, 1190000.0], [3.0, 224000.0], [4.0, 1242500.0], [3.0, 359000.0], [4.0, 1025000.0], [3.0, 358000.0], [3.0, 526000.0], [3.0, 320000.0], [4.0, 514500.0], [5.0, 427000.0], [2.0, 580000.0], [3.0, 539950.0], [4.0, 358000.0], [4.0, 599000.0], [4.0, 1200000.0], [5.0, 495000.0], [3.0, 229000.0], [4.0, 550000.0], [7.0, 800000.0], [4.0, 338500.0], [3.0, 1031000.0], [3.0, 450500.0], [4.0, 352800.0], [4.0, 520000.0], [2.0, 197500.0], [1.0, 285000.0], [4.0, 430000.0], [3.0, 279950.0], [3.0, 295000.0], [3.0, 241000.0], [4.0, 585000.0], [3.0, 469000.0], [3.0, 277000.0], [3.0, 732000.0], [2.0, 850000.0], [4.0, 588000.0], [2.0, 655000.0], [3.0, 560000.0], [5.0, 1800000.0], [4.0, 426000.0], [2.0, 329350.0], [3.0, 399950.0], [3.0, 650000.0], [3.0, 533000.0], [5.0, 985000.0], [3.0, 550000.0], [2.0, 664000.0], [8.0, 430000.0], [5.0, 960000.0], [3.0, 275000.0], [4.0, 445000.0], [3.0, 300000.0], [4.0, 906000.0], [3.0, 275000.0], [3.0, 609000.0], [3.0, 481000.0], [4.0, 810000.0], [4.0, 305000.0], [4.0, 259900.0], [3.0, 365000.0], [4.0, 425000.0], [3.0, 402000.0], [4.0, 385000.0], [3.0, 475000.0], [2.0, 462370.0], [3.0, 217000.0], [4.0, 400000.0], [3.0, 237000.0], [3.0, 386100.0], [3.0, 462000.0], [4.0, 879950.0], [5.0, 1240000.0], [2.0, 365000.0], [3.0, 303700.0], [4.0, 860000.0], [3.0, 2225000.0], [3.0, 230000.0], [3.0, 405000.0], [3.0, 483000.0], [2.0, 212000.0], [3.0, 429500.0], [4.0, 311000.0], [3.0, 529500.0], [4.0, 1229000.0], [4.0, 455000.0], [4.0, 2150000.0], [2.0, 330000.0], [2.0, 170000.0], [3.0, 295000.0], [3.0, 475000.0], [4.0, 550000.0], [2.0, 435000.0], [5.0, 925000.0], [2.0, 212000.0], [4.0, 211000.0], [4.0, 764000.0], [4.0, 368500.0], [4.0, 762500.0], [3.0, 358000.0], [3.0, 450000.0], [4.0, 426250.0], [5.0, 827500.0], [2.0, 220000.0], [3.0, 446500.0], [5.0, 507000.0], [4.0, 383000.0], [5.0, 425000.0], [3.0, 315000.0], [3.0, 340000.0], [4.0, 869950.0], [3.0, 823000.0], [4.0, 148900.0], [3.0, 700000.0], [3.0, 534640.0], [3.0, 270000.0], [4.0, 420000.0], [3.0, 565000.0], [4.0, 752000.0], [4.0, 1387000.0], [4.0, 560000.0], [2.0, 380950.0], [4.0, 305000.0], [3.0, 275000.0], [2.0, 546000.0], [3.0, 1465000.0], [2.0, 275000.0], [5.0, 909950.0], [3.0, 515000.0], [4.0, 175409.0], [4.0, 440000.0], [5.0, 390000.0], [2.0, 240500.0], [3.0, 319900.0], [3.0, 499000.0], [3.0, 212500.0], [3.0, 325000.0], [4.0, 630000.0], [3.0, 678500.0], [3.0, 320000.0], [4.0, 905000.0], [3.0, 700000.0], [2.0, 585000.0], [3.0, 731100.0], [3.0, 469000.0], [3.0, 289950.0], [3.0, 176500.0], [1.0, 252000.0], [4.0, 506000.0], [4.0, 695000.0], [3.0, 631750.0], [4.0, 485000.0], [4.0, 385000.0], [4.0, 440000.0], [2.0, 700000.0], [3.0, 770000.0], [4.0, 435000.0], [2.0, 198900.0], [2.0, 320000.0], [6.0, 335000.0], [2.0, 335000.0], [4.0, 252000.0], [2.0, 95000.0], [4.0, 407500.0], [3.0, 260000.0], [2.0, 256000.0], [4.0, 285000.0], [3.0, 252000.0], [4.0, 440000.0], [3.0, 253500.0], [3.0, 490000.0], [5.0, 795000.0], [5.0, 270000.0], [3.0, 205000.0], [4.0, 1565000.0], [3.0, 475000.0], [3.0, 224097.0], [5.0, 590000.0], [2.0, 285000.0], [4.0, 650000.0], [5.0, 549000.0], [3.0, 498000.0], [5.0, 365000.0], [3.0, 280000.0], [3.0, 143000.0], [3.0, 484000.0], [3.0, 210000.0], [4.0, 235000.0], [3.0, 875000.0], [4.0, 760000.0], [3.0, 615000.0], [4.0, 374950.0], [4.0, 433495.0], [3.0, 409000.0], [4.0, 639000.0], [4.0, 485000.0], [3.0, 239000.0], [3.0, 446000.0], [4.0, 1035292.0], [4.0, 576925.0], [4.0, 365000.0], [4.0, 205000.0], [4.0, 463000.0], [3.0, 425000.0], [5.0, 3065000.0], [5.0, 341500.0], [4.0, 399440.0], [3.0, 256000.0], [5.0, 2466350.0], [4.0, 495000.0], [2.0, 305000.0], [3.0, 375000.0], [3.0, 650000.0], [4.0, 960000.0], [4.0, 660000.0], [4.0, 430000.0], [2.0, 488000.0], [4.0, 539500.0], [5.0, 688000.0], [3.0, 158800.0], [3.0, 439000.0], [2.0, 700000.0], [3.0, 525000.0], [3.0, 475000.0], [3.0, 755000.0], [5.0, 200000.0], [4.0, 455000.0], [3.0, 359950.0], [4.0, 569500.0], [3.0, 219950.0], [2.0, 720000.0], [2.0, 499000.0], [2.0, 898000.0], [4.0, 538200.0], [3.0, 680000.0], [5.0, 549900.0], [4.0, 460000.0], [2.0, 209000.0], [2.0, 300000.0], [7.0, 770000.0], [3.0, 435000.0], [3.0, 298500.0], [3.0, 685000.0], [4.0, 835100.0], [3.0, 460000.0], [3.0, 348000.0], [5.0, 1575000.0], [3.0, 285000.0], [2.0, 238000.0], [3.0, 280000.0], [3.0, 340000.0], [4.0, 756000.0], [3.0, 590000.0], [3.0, 650000.0], [3.0, 507250.0], [3.0, 763000.0], [3.0, 827500.0], [4.0, 245000.0], [4.0, 602000.0], [4.0, 1146800.0], [2.0, 345000.0], [5.0, 744500.0], [3.0, 650000.0], [3.0, 280000.0], [5.0, 760000.0], [4.0, 734000.0], [3.0, 900000.0], [3.0, 439000.0], [3.0, 348000.0], [3.0, 583500.0], [3.0, 357500.0], [3.0, 459000.0], [4.0, 475000.0], [3.0, 465000.0], [3.0, 290000.0], [2.0, 285000.0], [4.0, 695000.0], [3.0, 402000.0], [3.0, 305000.0], [4.0, 1980000.0], [4.0, 1150000.0], [4.0, 452500.0], [1.0, 264000.0], [3.0, 625000.0], [4.0, 920000.0], [2.0, 460000.0], [2.0, 577000.0], [2.0, 159995.0], [5.0, 338000.0], [3.0, 495000.0], [3.0, 570000.0], [2.0, 250275.0], [4.0, 890000.0], [3.0, 265000.0], [4.0, 900000.0], [3.0, 390000.0], [5.0, 525000.0], [5.0, 615000.0], [3.0, 184000.0], [3.0, 232000.0], [4.0, 449950.0], [4.0, 760000.0], [2.0, 225000.0], [4.0, 700000.0], [2.0, 210000.0], [3.0, 415000.0], [3.0, 509900.0], [3.0, 434000.0], [2.0, 475000.0], [3.0, 342000.0], [4.0, 440000.0], [4.0, 380000.0], [4.0, 1020000.0], [5.0, 339950.0], [3.0, 608000.0], [2.0, 290000.0], [3.0, 334999.0], [3.0, 680000.0], [4.0, 364000.0], [4.0, 235000.0], [5.0, 1900000.0], [3.0, 261000.0], [3.0, 175000.0], [3.0, 308000.0], [4.0, 610000.0], [4.0, 605000.0], [4.0, 575000.0], [5.0, 1250000.0], [3.0, 385000.0], [2.0, 250000.0], [3.0, 322000.0], [2.0, 302282.0], [5.0, 739375.0], [4.0, 656500.0], [4.0, 435000.0], [3.0, 930000.0], [4.0, 399500.0], [2.0, 160000.0], [3.0, 233000.0], [4.0, 286000.0], [4.0, 446000.0], [4.0, 430000.0], [4.0, 549950.0], [5.0, 220000.0], [3.0, 675000.0], [3.0, 155000.0], [3.0, 490000.0], [3.0, 423800.0], [4.0, 812500.0], [3.0, 456000.0], [4.0, 947500.0], [3.0, 253905.0], [3.0, 398000.0], [4.0, 580000.0], [2.0, 350000.0], [4.0, 730000.0], [5.0, 620000.0], [3.0, 705000.0], [3.0, 330000.0], [5.0, 1895000.0], [2.0, 400000.0], [3.0, 396000.0], [3.0, 315000.0], [4.0, 319000.0], [3.0, 479990.0], [3.0, 998500.0], [3.0, 345000.0], [4.0, 1315000.0], [4.0, 404950.0], [3.0, 476000.0], [4.0, 476500.0], [2.0, 650100.0], [3.0, 319000.0], [2.0, 562100.0], [3.0, 410000.0], [3.0, 372500.0], [3.0, 900000.0], [5.0, 352000.0], [2.0, 261000.0], [3.0, 280005.0], [3.0, 475000.0], [4.0, 950000.0], [3.0, 219000.0], [4.0, 965000.0], [4.0, 440000.0], [4.0, 590000.0], [3.0, 275000.0], [5.0, 277554.0], [5.0, 495000.0], [3.0, 615500.0], [4.0, 439000.0], [3.0, 242000.0], [4.0, 234000.0], [3.0, 354000.0], [5.0, 1289000.0], [2.0, 440150.0], [3.0, 450000.0], [3.0, 505000.0], [2.0, 820000.0], [0.0, 142000.0], [2.0, 250000.0], [3.0, 318000.0], [3.0, 260656.0], [4.0, 375000.0], [3.0, 660000.0], [3.0, 479000.0], [3.0, 399000.0], [2.0, 535000.0], [4.0, 410000.0], [3.0, 330000.0], [3.0, 680000.0], [4.0, 608500.0], [4.0, 458000.0], [3.0, 333000.0], [4.0, 459000.0], [3.0, 408000.0], [3.0, 310000.0], [4.0, 720000.0], [4.0, 806000.0], [4.0, 465000.0], [3.0, 539900.0], [3.0, 242000.0], [4.0, 815000.0], [4.0, 330000.0], [4.0, 403900.0], [4.0, 603000.0], [5.0, 750000.0], [3.0, 599950.0], [4.0, 325000.0], [3.0, 580000.0], [2.0, 259000.0], [4.0, 770000.0], [2.0, 550000.0], [3.0, 299000.0], [3.0, 272950.0], [3.0, 606000.0], [3.0, 240000.0], [3.0, 218000.0], [2.0, 405000.0], [3.0, 213400.0], [3.0, 300523.0], [3.0, 807000.0], [3.0, 305000.0], [3.0, 214000.0], [3.0, 276900.0], [3.0, 396900.0], [3.0, 250000.0], [3.0, 625000.0], [1.0, 135000.0], [2.0, 410500.0], [4.0, 403500.0], [2.0, 400000.0], [4.0, 680000.0], [4.0, 580000.0], [3.0, 469000.0], [4.0, 720000.0], [2.0, 200000.0], [3.0, 220000.0], [2.0, 325000.0], [5.0, 1170000.0], [4.0, 970000.0], [2.0, 191950.0], [3.0, 325000.0], [4.0, 500000.0], [4.0, 571500.0], [2.0, 319900.0], [5.0, 343000.0], [5.0, 1550000.0], [3.0, 215000.0], [2.0, 315000.0], [4.0, 783000.0], [3.0, 369000.0], [3.0, 260000.0], [3.0, 441000.0], [4.0, 339900.0], [3.0, 366000.0], [3.0, 257000.0], [2.0, 421000.0], [3.0, 600000.0], [2.0, 425000.0], [4.0, 1350000.0], [5.0, 1870000.0], [4.0, 1600000.0], [3.0, 370000.0], [4.0, 551000.0], [4.0, 305000.0], [3.0, 1260000.0], [4.0, 650000.0], [3.0, 585000.0], [4.0, 1184000.0], [3.0, 195000.0], [3.0, 207500.0], [4.0, 750000.0], [3.0, 652000.0], [3.0, 850000.0], [3.0, 382000.0], [5.0, 488000.0], [3.0, 505000.0], [4.0, 850000.0], [3.0, 268000.0], [5.0, 650000.0], [3.0, 675000.0], [4.0, 1650000.0], [4.0, 324950.0], [4.0, 475000.0], [4.0, 293000.0], [6.0, 975000.0], [3.0, 475000.0], [3.0, 432500.0], [3.0, 559000.0], [4.0, 685000.0], [4.0, 1310000.0], [3.0, 280000.0], [3.0, 359950.0], [3.0, 629000.0], [3.0, 437500.0], [2.0, 228000.0], [3.0, 335000.0], [4.0, 435000.0], [4.0, 298000.0], [3.0, 702500.0], [4.0, 282000.0], [4.0, 537250.0], [3.0, 350000.0], [4.0, 405000.0], [3.0, 550000.0], [3.0, 440000.0], [4.0, 585000.0], [3.0, 185000.0], [4.0, 760000.0], [4.0, 303500.0], [3.0, 367500.0], [5.0, 265000.0], [5.0, 530000.0], [3.0, 249000.0], [3.0, 402000.0], [3.0, 400000.0], [2.0, 300000.0], [3.0, 458000.0], [4.0, 1250000.0], [3.0, 200000.0], [4.0, 370000.0], [4.0, 475000.0], [3.0, 225000.0], [3.0, 616950.0], [4.0, 388000.0], [3.0, 375000.0], [3.0, 400000.0], [3.0, 325000.0], [4.0, 521000.0], [2.0, 375000.0], [3.0, 330000.0], [3.0, 610000.0], [3.0, 595000.0], [4.0, 608000.0], [4.0, 529888.0], [4.0, 255000.0], [3.0, 528000.0], [4.0, 775000.0], [5.0, 660000.0], [4.0, 595000.0], [3.0, 850000.0], [4.0, 594491.0], [4.0, 401000.0], [3.0, 187000.0], [5.0, 1610000.0], [2.0, 379900.0], [3.0, 540000.0], [7.0, 597157.0], [3.0, 750000.0], [3.0, 389950.0], [4.0, 530000.0], [3.0, 567035.0], [3.0, 105000.0], [6.0, 510000.0], [4.0, 399900.0], [3.0, 405000.0], [3.0, 550000.0], [4.0, 1151250.0], [3.0, 305000.0], [4.0, 800000.0], [3.0, 306500.0], [4.0, 326000.0], [3.0, 675900.0], [3.0, 300000.0], [2.0, 439950.0], [3.0, 353000.0], [3.0, 855000.0], [4.0, 535000.0], [3.0, 445000.0], [6.0, 315000.0], [2.0, 442000.0], [3.0, 433500.0], [5.0, 562000.0], [4.0, 1085000.0], [6.0, 430000.0], [4.0, 600000.0], [3.0, 415000.0], [2.0, 580000.0], [4.0, 248000.0], [2.0, 1234568.0], [3.0, 1100000.0], [1.0, 310000.0], [3.0, 305000.0], [4.0, 385000.0], [2.0, 355000.0], [4.0, 753000.0], [5.0, 837219.0], [3.0, 829000.0], [4.0, 363000.0], [4.0, 400000.0], [4.0, 379400.0], [3.0, 389950.0], [3.0, 1000000.0], [4.0, 470000.0], [3.0, 652450.0], [3.0, 465000.0], [3.0, 518000.0], [3.0, 470000.0], [3.0, 399950.0], [4.0, 625000.0], [2.0, 292500.0], [3.0, 578550.0], [4.0, 365500.0], [2.0, 195000.0], [3.0, 246900.0], [5.0, 759000.0], [3.0, 325000.0], [3.0, 184500.0], [4.0, 875000.0], [4.0, 515000.0], [3.0, 419000.0], [3.0, 201000.0], [4.0, 746000.0], [2.0, 394950.0], [3.0, 429000.0], [5.0, 450000.0], [6.0, 380000.0], [5.0, 530000.0], [2.0, 479000.0], [5.0, 975000.0], [2.0, 579000.0], [3.0, 936000.0], [5.0, 480000.0], [3.0, 655000.0], [4.0, 386000.0], [4.0, 626100.0], [3.0, 272000.0], [4.0, 310000.0], [3.0, 270000.0], [2.0, 700180.0], [3.0, 265000.0], [3.0, 421000.0], [3.0, 599950.0], [3.0, 262500.0], [4.0, 640000.0], [4.0, 1227500.0], [2.0, 186950.0], [4.0, 301000.0], [4.0, 2700000.0], [3.0, 424305.0], [3.0, 653000.0], [4.0, 970000.0], [4.0, 264950.0], [3.0, 375000.0], [2.0, 310000.0], [3.0, 235000.0], [2.0, 475000.0], [4.0, 350000.0], [4.0, 400000.0], [3.0, 292500.0], [3.0, 805000.0], [2.0, 114975.0], [4.0, 556300.0], [3.0, 196000.0], [4.0, 339000.0], [3.0, 248000.0], [4.0, 625000.0], [3.0, 469950.0], [4.0, 1415000.0], [4.0, 575000.0], [4.0, 980000.0], [3.0, 210000.0], [3.0, 530000.0], [3.0, 421000.0], [2.0, 307300.0], [4.0, 729000.0], [4.0, 386500.0], [4.0, 379000.0], [3.0, 361000.0], [5.0, 695000.0], [4.0, 341780.0], [4.0, 580000.0], [3.0, 590000.0], [4.0, 273500.0], [3.0, 625000.0], [6.0, 869900.0], [3.0, 360000.0], [3.0, 260000.0], [3.0, 732500.0], [3.0, 374000.0], [5.0, 372000.0], [5.0, 431650.0], [5.0, 980000.0], [3.0, 360000.0], [4.0, 492000.0], [3.0, 1300000.0], [2.0, 445000.0], [3.0, 515000.0], [3.0, 219900.0], [3.0, 650000.0], [4.0, 568000.0], [3.0, 203000.0], [4.0, 730000.0], [3.0, 416000.0], [3.0, 259950.0], [4.0, 330000.0], [2.0, 195000.0], [4.0, 736000.0], [3.0, 205000.0], [4.0, 1054712.0], [3.0, 685000.0], [5.0, 464000.0], [3.0, 570000.0], [3.0, 324000.0], [3.0, 540000.0], [3.0, 412500.0], [2.0, 460000.0], [3.0, 410000.0], [3.0, 325000.0], [1.0, 250000.0], [4.0, 343000.0], [3.0, 317000.0], [2.0, 210000.0], [4.0, 503000.0], [4.0, 315000.0], [4.0, 590000.0], [3.0, 294000.0], [3.0, 570000.0], [4.0, 724950.0], [2.0, 459500.0], [2.0, 350000.0], [4.0, 850000.0], [4.0, 1775000.0], [2.0, 448000.0], [2.0, 354000.0], [4.0, 425000.0], [4.0, 689000.0], [4.0, 600000.0], [4.0, 295000.0], [4.0, 525000.0], [4.0, 455000.0], [3.0, 313950.0], [3.0, 1085000.0], [3.0, 380000.0], [4.0, 545000.0], [1.0, 713000.0], [3.0, 634000.0], [4.0, 2950000.0], [3.0, 438000.0], [5.0, 810000.0], [4.0, 851000.0], [4.0, 550000.0], [4.0, 700000.0], [2.0, 411000.0], [2.0, 625500.0], [3.0, 450000.0], [4.0, 300000.0], [2.0, 469000.0], [4.0, 720000.0], [3.0, 620000.0], [2.0, 225000.0], [5.0, 1065000.0], [3.0, 196500.0], [3.0, 567000.0], [5.0, 679950.0], [2.0, 355000.0], [3.0, 310000.0], [5.0, 1425000.0], [3.0, 415000.0], [3.0, 250000.0], [4.0, 518500.0], [3.0, 284000.0], [4.0, 530000.0], [4.0, 972000.0], [4.0, 463000.0], [2.0, 310000.0], [2.0, 305000.0], [4.0, 319000.0], [1.0, 360000.0], [4.0, 564500.0], [3.0, 621000.0], [3.0, 224000.0], [3.0, 672000.0], [3.0, 279950.0], [4.0, 908990.0], [4.0, 605000.0], [3.0, 435000.0], [3.0, 480000.0], [4.0, 502000.0], [3.0, 289000.0], [4.0, 1339000.0], [2.0, 500000.0], [3.0, 737000.0], [3.0, 329000.0], [2.0, 269500.0], [4.0, 308130.0]], \"columns\": [{\"dtype\": \"str\", \"name\": \"id\"}, {\"dtype\": \"datetime\", \"name\": \"date\"}, {\"dtype\": \"float\", \"name\": \"price\"}, {\"dtype\": \"float\", \"name\": \"bedrooms\"}, {\"dtype\": \"float\", \"name\": \"bathrooms\"}, {\"dtype\": \"float\", \"name\": \"sqft_living\"}, {\"dtype\": \"int\", \"name\": \"sqft_lot\"}, {\"dtype\": \"str\", \"name\": \"floors\"}, {\"dtype\": \"int\", \"name\": \"waterfront\"}, {\"dtype\": \"int\", \"name\": \"view\"}, {\"dtype\": \"int\", \"name\": \"condition\"}, {\"dtype\": \"int\", \"name\": \"grade\"}, {\"dtype\": \"int\", \"name\": \"sqft_above\"}, {\"dtype\": \"int\", \"name\": \"sqft_basement\"}, {\"dtype\": \"int\", \"name\": \"yr_built\"}, {\"dtype\": \"int\", \"name\": \"yr_renovated\"}, {\"dtype\": \"str\", \"name\": \"zipcode\"}, {\"dtype\": \"float\", \"name\": \"lat\"}, {\"dtype\": \"float\", \"name\": \"long\"}, {\"dtype\": \"float\", \"name\": \"sqft_living15\"}, {\"dtype\": \"float\", \"name\": \"sqft_lot15\"}]}, e);\n",
       "                });\n",
       "            })();\n",
       "        "
      ]
     },
     "metadata": {},
     "output_type": "display_data"
    }
   ],
   "source": [
    "sales.show(view=\"Scatter Plot\", x=\"bedrooms\", y=\"price\")"
   ]
  },
  {
   "cell_type": "code",
   "execution_count": 55,
   "metadata": {
    "collapsed": false
   },
   "outputs": [
    {
     "data": {
      "text/plain": [
       "<matplotlib.figure.Figure at 0x7fdcccfbc090>"
      ]
     },
     "metadata": {},
     "output_type": "display_data"
    }
   ],
   "source": [
    "fig = plt.figure()"
   ]
  },
  {
   "cell_type": "code",
   "execution_count": 56,
   "metadata": {
    "collapsed": true
   },
   "outputs": [],
   "source": [
    "ax1 = fig.add_subplot(1,1, 1)"
   ]
  },
  {
   "cell_type": "code",
   "execution_count": 57,
   "metadata": {
    "collapsed": false
   },
   "outputs": [
    {
     "data": {
      "text/plain": [
       "<matplotlib.text.Text at 0x7fdccd0010d0>"
      ]
     },
     "execution_count": 57,
     "metadata": {},
     "output_type": "execute_result"
    }
   ],
   "source": [
    "ax1.set_title(\"sqft_living\")"
   ]
  },
  {
   "cell_type": "code",
   "execution_count": 58,
   "metadata": {
    "collapsed": true
   },
   "outputs": [],
   "source": [
    "import numpy  as np"
   ]
  },
  {
   "cell_type": "code",
   "execution_count": 59,
   "metadata": {
    "collapsed": true
   },
   "outputs": [],
   "source": [
    "X = np.linspace(0, 10000, 10)"
   ]
  },
  {
   "cell_type": "code",
   "execution_count": 60,
   "metadata": {
    "collapsed": false
   },
   "outputs": [
    {
     "data": {
      "text/plain": [
       "<matplotlib.collections.PathCollection at 0x7fdccd5e6410>"
      ]
     },
     "execution_count": 60,
     "metadata": {},
     "output_type": "execute_result"
    }
   ],
   "source": [
    "ax1.scatter(sales['sqft_living'], sales['price'])"
   ]
  },
  {
   "cell_type": "code",
   "execution_count": 61,
   "metadata": {
    "collapsed": false
   },
   "outputs": [
    {
     "data": {
      "text/plain": [
       "<matplotlib.text.Text at 0x7fdccd08e6d0>"
      ]
     },
     "execution_count": 61,
     "metadata": {},
     "output_type": "execute_result"
    }
   ],
   "source": [
    "ax1.set_xlabel(\"sqft_living\")\n",
    "ax1.set_ylabel(\"price\")"
   ]
  },
  {
   "cell_type": "code",
   "execution_count": 62,
   "metadata": {
    "collapsed": true
   },
   "outputs": [],
   "source": [
    "ax1.plot(X, (squarefeet_intercept+X*squarfeet_slope))\n",
    "plt.show()"
   ]
  },
  {
   "cell_type": "code",
   "execution_count": null,
   "metadata": {
    "collapsed": true
   },
   "outputs": [],
   "source": []
  }
 ],
 "metadata": {
  "kernelspec": {
   "display_name": "Python 2",
   "language": "python",
   "name": "python2"
  },
  "language_info": {
   "codemirror_mode": {
    "name": "ipython",
    "version": 2
   },
   "file_extension": ".py",
   "mimetype": "text/x-python",
   "name": "python",
   "nbconvert_exporter": "python",
   "pygments_lexer": "ipython2",
   "version": "2.7.11"
  }
 },
 "nbformat": 4,
 "nbformat_minor": 0
}
