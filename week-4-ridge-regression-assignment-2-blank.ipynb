{
 "cells": [
  {
   "cell_type": "markdown",
   "metadata": {},
   "source": [
    "# Regression Week 4: Ridge Regression (gradient descent)"
   ]
  },
  {
   "cell_type": "markdown",
   "metadata": {},
   "source": [
    "In this notebook, you will implement ridge regression via gradient descent. You will:\n",
    "* Convert an SFrame into a Numpy array\n",
    "* Write a Numpy function to compute the derivative of the regression weights with respect to a single feature\n",
    "* Write gradient descent function to compute the regression weights given an initial weight vector, step size, tolerance, and L2 penalty"
   ]
  },
  {
   "cell_type": "markdown",
   "metadata": {},
   "source": [
    "# Fire up graphlab create"
   ]
  },
  {
   "cell_type": "markdown",
   "metadata": {},
   "source": [
    "Make sure you have the latest version of GraphLab Create (>= 1.7)"
   ]
  },
  {
   "cell_type": "code",
   "execution_count": 1,
   "metadata": {
    "collapsed": false
   },
   "outputs": [],
   "source": [
    "import graphlab"
   ]
  },
  {
   "cell_type": "markdown",
   "metadata": {},
   "source": [
    "# Load in house sales data\n",
    "\n",
    "Dataset is from house sales in King County, the region where the city of Seattle, WA is located."
   ]
  },
  {
   "cell_type": "code",
   "execution_count": 2,
   "metadata": {
    "collapsed": false
   },
   "outputs": [
    {
     "name": "stdout",
     "output_type": "stream",
     "text": [
      "This non-commercial license of GraphLab Create for academic use is assigned to yumupinglan@gmail.com and will expire on March 22, 2020.\n"
     ]
    },
    {
     "name": "stderr",
     "output_type": "stream",
     "text": [
      "[INFO] graphlab.cython.cy_server: GraphLab Create v2.1 started. Logging: /tmp/graphlab_server_1559735597.log\n"
     ]
    }
   ],
   "source": [
    "sales = graphlab.SFrame('kc_house_data.gl/')"
   ]
  },
  {
   "cell_type": "markdown",
   "metadata": {},
   "source": [
    "If we want to do any \"feature engineering\" like creating new features or adjusting existing ones we should do this directly using the SFrames as seen in the first notebook of Week 2. For this notebook, however, we will work with the existing features."
   ]
  },
  {
   "cell_type": "markdown",
   "metadata": {},
   "source": [
    "# Import useful functions from previous notebook"
   ]
  },
  {
   "cell_type": "markdown",
   "metadata": {},
   "source": [
    "As in Week 2, we convert the SFrame into a 2D Numpy array. Copy and paste `get_numpy_data()` from the second notebook of Week 2."
   ]
  },
  {
   "cell_type": "code",
   "execution_count": 3,
   "metadata": {
    "collapsed": true
   },
   "outputs": [],
   "source": [
    "import numpy as np # note this allows us to refer to numpy as np instead "
   ]
  },
  {
   "cell_type": "code",
   "execution_count": 4,
   "metadata": {
    "collapsed": true
   },
   "outputs": [],
   "source": [
    "def get_numpy_data(data_sframe, features, output):\n",
    "    data_sframe['constant'] = 1 # this is how you add a constant column to an SFrame\n",
    "    # add the column 'constant' to the front of the features list so that we can extract it along with the others:\n",
    "    features = ['constant'] + features # this is how you combine two lists\n",
    "    # select the columns of data_SFrame given by the features list into the SFrame features_sframe (now including constant):\n",
    "    features_sframe = data_sframe[features]\n",
    "    # the following line will convert the features_SFrame into a numpy matrix:\n",
    "    feature_matrix = features_sframe.to_numpy()\n",
    "    # assign the column of data_sframe associated with the output to the SArray output_sarray\n",
    "    output_sarray =  data_sframe[output]\n",
    "    # the following will convert the SArray into a numpy array by first converting it to a list\n",
    "    output_array = output_sarray.to_numpy()\n",
    "    return(feature_matrix, output_array)"
   ]
  },
  {
   "cell_type": "markdown",
   "metadata": {},
   "source": [
    "Also, copy and paste the `predict_output()` function to compute the predictions for an entire matrix of features given the matrix and the weights:"
   ]
  },
  {
   "cell_type": "code",
   "execution_count": 5,
   "metadata": {
    "collapsed": true
   },
   "outputs": [],
   "source": [
    "def predict_output(feature_matrix, weights):\n",
    "    # assume feature_matrix is a numpy matrix containing the features as columns and weights is a corresponding numpy array\n",
    "    # create the predictions vector by using np.dot()\n",
    "    predictions = np.dot(feature_matrix, weights)\n",
    "    return(predictions)"
   ]
  },
  {
   "cell_type": "markdown",
   "metadata": {},
   "source": [
    "# Computing the Derivative"
   ]
  },
  {
   "cell_type": "markdown",
   "metadata": {},
   "source": [
    "We are now going to move to computing the derivative of the regression cost function. Recall that the cost function is the sum over the data points of the squared difference between an observed output and a predicted output, plus the L2 penalty term.\n",
    "```\n",
    "Cost(w)\n",
    "= SUM[ (prediction - output)^2 ]\n",
    "+ l2_penalty*(w[0]^2 + w[1]^2 + ... + w[k]^2).\n",
    "```\n",
    "\n",
    "Since the derivative of a sum is the sum of the derivatives, we can take the derivative of the first part (the RSS) as we did in the notebook for the unregularized case in Week 2 and add the derivative of the regularization part.  As we saw, the derivative of the RSS with respect to `w[i]` can be written as: \n",
    "```\n",
    "2*SUM[ error*[feature_i] ].\n",
    "```\n",
    "The derivative of the regularization term with respect to `w[i]` is:\n",
    "```\n",
    "2*l2_penalty*w[i].\n",
    "```\n",
    "Summing both, we get\n",
    "```\n",
    "2*SUM[ error*[feature_i] ] + 2*l2_penalty*w[i].\n",
    "```\n",
    "That is, the derivative for the weight for feature i is the sum (over data points) of 2 times the product of the error and the feature itself, plus `2*l2_penalty*w[i]`. \n",
    "\n",
    "**We will not regularize the constant.**  Thus, in the case of the constant, the derivative is just twice the sum of the errors (without the `2*l2_penalty*w[0]` term).\n",
    "\n",
    "Recall that twice the sum of the product of two vectors is just twice the dot product of the two vectors. Therefore the derivative for the weight for feature_i is just two times the dot product between the values of feature_i and the current errors, plus `2*l2_penalty*w[i]`.\n",
    "\n",
    "With this in mind complete the following derivative function which computes the derivative of the weight given the value of the feature (over all data points) and the errors (over all data points).  To decide when to we are dealing with the constant (so we don't regularize it) we added the extra parameter to the call `feature_is_constant` which you should set to `True` when computing the derivative of the constant and `False` otherwise."
   ]
  },
  {
   "cell_type": "code",
   "execution_count": 6,
   "metadata": {
    "collapsed": true
   },
   "outputs": [],
   "source": [
    "def feature_derivative_ridge(errors, feature, weight, l2_penalty, feature_is_constant):\n",
    "    # If feature_is_constant is True, derivative is twice the dot product of errors and feature\n",
    "    if feature_is_constant:\n",
    "        derivative = 2 * np.dot(errors, feature)\n",
    "    # Otherwise, derivative is twice the dot product plus 2*l2_penalty*weight\n",
    "    else:\n",
    "        derivative = 2 * np.dot(errors, feature) + 2*l2_penalty*weight\n",
    "    return derivative"
   ]
  },
  {
   "cell_type": "markdown",
   "metadata": {},
   "source": [
    "To test your feature derivartive run the following:"
   ]
  },
  {
   "cell_type": "code",
   "execution_count": 7,
   "metadata": {
    "collapsed": false
   },
   "outputs": [
    {
     "name": "stdout",
     "output_type": "stream",
     "text": [
      "-5.65541667824e+13\n",
      "-5.65541667824e+13\n",
      "\n",
      "-22446749336.0\n",
      "-22446749336.0\n"
     ]
    }
   ],
   "source": [
    "(example_features, example_output) = get_numpy_data(sales, ['sqft_living'], 'price') \n",
    "my_weights = np.array([1., 10.])\n",
    "test_predictions = predict_output(example_features, my_weights) \n",
    "errors = test_predictions - example_output # prediction errors\n",
    "\n",
    "# next two lines should print the same values\n",
    "print feature_derivative_ridge(errors, example_features[:,1], my_weights[1], 1, False)\n",
    "print np.sum(errors*example_features[:,1])*2+20.\n",
    "print ''\n",
    "\n",
    "# next two lines should print the same values\n",
    "print feature_derivative_ridge(errors, example_features[:,0], my_weights[0], 1, True)\n",
    "print np.sum(errors)*2."
   ]
  },
  {
   "cell_type": "markdown",
   "metadata": {},
   "source": [
    "# Gradient Descent"
   ]
  },
  {
   "cell_type": "markdown",
   "metadata": {},
   "source": [
    "Now we will write a function that performs a gradient descent. The basic premise is simple. Given a starting point we update the current weights by moving in the negative gradient direction. Recall that the gradient is the direction of *increase* and therefore the negative gradient is the direction of *decrease* and we're trying to *minimize* a cost function. \n",
    "\n",
    "The amount by which we move in the negative gradient *direction*  is called the 'step size'. We stop when we are 'sufficiently close' to the optimum. Unlike in Week 2, this time we will set a **maximum number of iterations** and take gradient steps until we reach this maximum number. If no maximum number is supplied, the maximum should be set 100 by default. (Use default parameter values in Python.)\n",
    "\n",
    "With this in mind, complete the following gradient descent function below using your derivative function above. For each step in the gradient descent, we update the weight for each feature before computing our stopping criteria."
   ]
  },
  {
   "cell_type": "code",
   "execution_count": 8,
   "metadata": {
    "collapsed": false
   },
   "outputs": [],
   "source": [
    "def ridge_regression_gradient_descent(feature_matrix, output, initial_weights, step_size, l2_penalty, max_iterations=100):\n",
    "    print 'Starting gradient descent with l2_penalty = ' + str(l2_penalty)\n",
    "    \n",
    "    weights = np.array(initial_weights) # make sure it's a numpy array\n",
    "    iteration = 0 # iteration counter\n",
    "    print_frequency = 1  # for adjusting frequency of debugging output\n",
    "    while iteration < max_iterations:\n",
    "    #while not reached maximum number of iterations:\n",
    "        iteration  += 1  # increment iteration counter\n",
    "        ### === code section for adjusting frequency of debugging output. ===\n",
    "        if iteration == 10:\n",
    "            print_frequency = 10\n",
    "        if iteration == 100:\n",
    "            print_frequency = 100\n",
    "        if iteration%print_frequency==0:\n",
    "            print('Iteration = ' + str(iteration))\n",
    "        ### === end code section ===\n",
    "        \n",
    "        # compute the predictions based on feature_matrix and weights using your predict_output() function\n",
    "        predictions = predict_output(feature_matrix, weights) \n",
    "        # compute the errors as predictions - output\n",
    "        errors = predictions - output\n",
    "        # from time to time, print the value of the cost function\n",
    "        if iteration%print_frequency==0:\n",
    "            print 'Cost function = ', str(np.dot(errors,errors) + l2_penalty*(np.dot(weights,weights) - weights[0]**2))\n",
    "        \n",
    "        for i in xrange(len(weights)): # loop over each weight\n",
    "            # Recall that feature_matrix[:,i] is the feature column associated with weights[i]\n",
    "            # compute the derivative for weight[i].\n",
    "            #(Remember: when i=0, you are computing the derivative of the constant!)\n",
    "            derivative = feature_derivative_ridge(errors, feature_matrix[:,1], weights[i], l2_penalty, i==0)\n",
    "            # subtract the step size times the derivative from the current weight\n",
    "            weights[i] = weights[i] - step_size * derivative\n",
    "    print 'Done with gradient descent at iteration ', iteration\n",
    "    print 'Learned weights = ', str(weights)\n",
    "    return weights"
   ]
  },
  {
   "cell_type": "markdown",
   "metadata": {},
   "source": [
    "# Visualizing effect of L2 penalty"
   ]
  },
  {
   "cell_type": "markdown",
   "metadata": {},
   "source": [
    "The L2 penalty gets its name because it causes weights to have small L2 norms than otherwise. Let's see how large weights get penalized. Let us consider a simple model with 1 feature:"
   ]
  },
  {
   "cell_type": "code",
   "execution_count": 9,
   "metadata": {
    "collapsed": true
   },
   "outputs": [],
   "source": [
    "simple_features = ['sqft_living']\n",
    "my_output = 'price'"
   ]
  },
  {
   "cell_type": "markdown",
   "metadata": {},
   "source": [
    "Let us split the dataset into training set and test set. Make sure to use `seed=0`:"
   ]
  },
  {
   "cell_type": "code",
   "execution_count": 10,
   "metadata": {
    "collapsed": true
   },
   "outputs": [],
   "source": [
    "train_data,test_data = sales.random_split(.8,seed=0)"
   ]
  },
  {
   "cell_type": "markdown",
   "metadata": {},
   "source": [
    "In this part, we will only use `'sqft_living'` to predict `'price'`. Use the `get_numpy_data` function to get a Numpy versions of your data with only this feature, for both the `train_data` and the `test_data`. "
   ]
  },
  {
   "cell_type": "code",
   "execution_count": 11,
   "metadata": {
    "collapsed": true
   },
   "outputs": [],
   "source": [
    "(simple_feature_matrix, output) = get_numpy_data(train_data, simple_features, my_output)\n",
    "(simple_test_feature_matrix, test_output) = get_numpy_data(test_data, simple_features, my_output)"
   ]
  },
  {
   "cell_type": "markdown",
   "metadata": {},
   "source": [
    "Let's set the parameters for our optimization:"
   ]
  },
  {
   "cell_type": "code",
   "execution_count": 12,
   "metadata": {
    "collapsed": true
   },
   "outputs": [],
   "source": [
    "initial_weights = np.array([0., 0.])\n",
    "step_size = 1e-12\n",
    "max_iterations=1000"
   ]
  },
  {
   "cell_type": "markdown",
   "metadata": {},
   "source": [
    "First, let's consider no regularization.  Set the `l2_penalty` to `0.0` and run your ridge regression algorithm to learn the weights of your model.  Call your weights:\n",
    "\n",
    "`simple_weights_0_penalty`\n",
    "\n",
    "we'll use them later."
   ]
  },
  {
   "cell_type": "code",
   "execution_count": 13,
   "metadata": {
    "collapsed": false
   },
   "outputs": [
    {
     "name": "stdout",
     "output_type": "stream",
     "text": [
      "Starting gradient descent with l2_penalty = 0.0\n",
      "Iteration = 1\n",
      "Cost function =  7.43305185103e+15\n",
      "Iteration = 2\n",
      "Cost function =  5.39354194707e+15\n",
      "Iteration = 3\n",
      "Cost function =  4.02226843263e+15\n",
      "Iteration = 4\n",
      "Cost function =  3.1002868923e+15\n",
      "Iteration = 5\n",
      "Cost function =  2.48038893739e+15\n",
      "Iteration = 6\n",
      "Cost function =  2.06359826985e+15\n",
      "Iteration = 7\n",
      "Cost function =  1.7833676869e+15\n",
      "Iteration = 8\n",
      "Cost function =  1.59495385426e+15\n",
      "Iteration = 9\n",
      "Cost function =  1.46827337921e+15\n",
      "Iteration = 10\n",
      "Cost function =  1.3830995543e+15\n",
      "Iteration = 20\n",
      "Cost function =  1.21162027779e+15\n",
      "Iteration = 30\n",
      "Cost function =  1.20838406589e+15\n",
      "Iteration = 40\n",
      "Cost function =  1.20832313539e+15\n",
      "Iteration = 50\n",
      "Cost function =  1.20832200804e+15\n",
      "Iteration = 60\n",
      "Cost function =  1.20832198991e+15\n",
      "Iteration = 70\n",
      "Cost function =  1.20832199001e+15\n",
      "Iteration = 80\n",
      "Cost function =  1.20832199007e+15\n",
      "Iteration = 90\n",
      "Cost function =  1.20832199008e+15\n",
      "Iteration = 100\n",
      "Cost function =  1.20832199008e+15\n",
      "Iteration = 200\n",
      "Cost function =  1.20832199008e+15\n",
      "Iteration = 300\n",
      "Cost function =  1.20832199008e+15\n",
      "Iteration = 400\n",
      "Cost function =  1.20832199008e+15\n",
      "Iteration = 500\n",
      "Cost function =  1.20832199008e+15\n",
      "Iteration = 600\n",
      "Cost function =  1.20832199008e+15\n",
      "Iteration = 700\n",
      "Cost function =  1.20832199008e+15\n",
      "Iteration = 800\n",
      "Cost function =  1.20832199008e+15\n",
      "Iteration = 900\n",
      "Cost function =  1.20832199008e+15\n",
      "Iteration = 1000\n",
      "Cost function =  1.20832199008e+15\n",
      "Done with gradient descent at iteration  1000\n",
      "Learned weights =  [ 262.91864486  262.91864486]\n"
     ]
    }
   ],
   "source": [
    "simple_weights_0_penalty = ridge_regression_gradient_descent(simple_feature_matrix, output, initial_weights, step_size, 0.0, max_iterations)"
   ]
  },
  {
   "cell_type": "markdown",
   "metadata": {},
   "source": [
    "Next, let's consider high regularization.  Set the `l2_penalty` to `1e11` and run your ridge regression algorithm to learn the weights of your model.  Call your weights:\n",
    "\n",
    "`simple_weights_high_penalty`\n",
    "\n",
    "we'll use them later."
   ]
  },
  {
   "cell_type": "code",
   "execution_count": 14,
   "metadata": {
    "collapsed": false
   },
   "outputs": [
    {
     "name": "stdout",
     "output_type": "stream",
     "text": [
      "Starting gradient descent with l2_penalty = 1e+11\n",
      "Iteration = 1\n",
      "Cost function =  7.43305185103e+15\n",
      "Iteration = 2\n",
      "Cost function =  5.61757863235e+15\n",
      "Iteration = 3\n",
      "Cost function =  4.91953837822e+15\n",
      "Iteration = 4\n",
      "Cost function =  4.65105384912e+15\n",
      "Iteration = 5\n",
      "Cost function =  4.5476959932e+15\n",
      "Iteration = 6\n",
      "Cost function =  4.50781485585e+15\n",
      "Iteration = 7\n",
      "Cost function =  4.49233490709e+15\n",
      "Iteration = 8\n",
      "Cost function =  4.48623503694e+15\n",
      "Iteration = 9\n",
      "Cost function =  4.48374095918e+15\n",
      "Iteration = 10\n",
      "Cost function =  4.4826329794e+15\n",
      "Iteration = 20\n",
      "Cost function =  4.47966888087e+15\n",
      "Iteration = 30\n",
      "Cost function =  4.47724726157e+15\n",
      "Iteration = 40\n",
      "Cost function =  4.47482790037e+15\n",
      "Iteration = 50\n",
      "Cost function =  4.47241075914e+15\n",
      "Iteration = 60\n",
      "Cost function =  4.46999583605e+15\n",
      "Iteration = 70\n",
      "Cost function =  4.46758312928e+15\n",
      "Iteration = 80\n",
      "Cost function =  4.46517263698e+15\n",
      "Iteration = 90\n",
      "Cost function =  4.46276435734e+15\n",
      "Iteration = 100\n",
      "Cost function =  4.46035828853e+15\n",
      "Iteration = 200\n",
      "Cost function =  4.43641879464e+15\n",
      "Iteration = 300\n",
      "Cost function =  4.41269838338e+15\n",
      "Iteration = 400\n",
      "Cost function =  4.38919525067e+15\n",
      "Iteration = 500\n",
      "Cost function =  4.36590760663e+15\n",
      "Iteration = 600\n",
      "Cost function =  4.34283367555e+15\n",
      "Iteration = 700\n",
      "Cost function =  4.31997169566e+15\n",
      "Iteration = 800\n",
      "Cost function =  4.29731991915e+15\n",
      "Iteration = 900\n",
      "Cost function =  4.27487661194e+15\n",
      "Iteration = 1000\n",
      "Cost function =  4.25264005368e+15\n",
      "Done with gradient descent at iteration  1000\n",
      "Learned weights =  [ 24501.65003043    119.92253814]\n"
     ]
    }
   ],
   "source": [
    "simple_weights_high_penalty = ridge_regression_gradient_descent(simple_feature_matrix, output, initial_weights, step_size, 1e11, max_iterations)"
   ]
  },
  {
   "cell_type": "markdown",
   "metadata": {},
   "source": [
    "This code will plot the two learned models.  (The blue line is for the model with no regularization and the red line is for the one with high regularization.)"
   ]
  },
  {
   "cell_type": "code",
   "execution_count": 15,
   "metadata": {
    "collapsed": false
   },
   "outputs": [
    {
     "data": {
      "text/plain": [
       "[<matplotlib.lines.Line2D at 0x7f1255cf9c50>,\n",
       " <matplotlib.lines.Line2D at 0x7f1264077a10>,\n",
       " <matplotlib.lines.Line2D at 0x7f1255cf9f10>,\n",
       " <matplotlib.lines.Line2D at 0x7f1255d09b10>,\n",
       " <matplotlib.lines.Line2D at 0x7f1255d09c50>,\n",
       " <matplotlib.lines.Line2D at 0x7f1255c977d0>]"
      ]
     },
     "execution_count": 15,
     "metadata": {},
     "output_type": "execute_result"
    },
    {
     "data": {
      "image/png": "[encoded data removed]",
      "text/plain": [
       "<matplotlib.figure.Figure at 0x7f1265df18d0>"
      ]
     },
     "metadata": {},
     "output_type": "display_data"
    }
   ],
   "source": [
    "import matplotlib.pyplot as plt\n",
    "%matplotlib inline\n",
    "plt.plot(simple_feature_matrix,output,'k.',\n",
    "         simple_feature_matrix,predict_output(simple_feature_matrix, simple_weights_0_penalty),'b-',\n",
    "        simple_feature_matrix,predict_output(simple_feature_matrix, simple_weights_high_penalty),'r-')"
   ]
  },
  {
   "cell_type": "markdown",
   "metadata": {},
   "source": [
    "Compute the RSS on the TEST data for the following three sets of weights:\n",
    "1. The initial weights (all zeros)\n",
    "2. The weights learned with no regularization\n",
    "3. The weights learned with high regularization\n",
    "\n",
    "Which weights perform best?"
   ]
  },
  {
   "cell_type": "code",
   "execution_count": 16,
   "metadata": {
    "collapsed": false
   },
   "outputs": [
    {
     "name": "stdout",
     "output_type": "stream",
     "text": [
      "1.78427328252e+15\n"
     ]
    }
   ],
   "source": [
    "test_predictions_0w  = predict_output(simple_test_feature_matrix, initial_weights)\n",
    "tmp = test_predictions_0w - test_output\n",
    "print np.dot(tmp,tmp)"
   ]
  },
  {
   "cell_type": "code",
   "execution_count": 17,
   "metadata": {
    "collapsed": false
   },
   "outputs": [
    {
     "name": "stdout",
     "output_type": "stream",
     "text": [
      "2.75733825001e+14\n"
     ]
    }
   ],
   "source": [
    "test_predictions_lw  = predict_output(simple_test_feature_matrix, simple_weights_0_penalty)\n",
    "tmp = test_predictions_lw - test_output\n",
    "print np.dot(tmp,tmp)"
   ]
  },
  {
   "cell_type": "code",
   "execution_count": 18,
   "metadata": {
    "collapsed": false
   },
   "outputs": [
    {
     "name": "stdout",
     "output_type": "stream",
     "text": [
      "6.64882750948e+14\n"
     ]
    }
   ],
   "source": [
    "test_predictions_hw  = predict_output(simple_test_feature_matrix, simple_weights_high_penalty)\n",
    "tmp = test_predictions_hw - test_output\n",
    "print np.dot(tmp,tmp)"
   ]
  },
  {
   "cell_type": "markdown",
   "metadata": {
    "collapsed": false
   },
   "source": [
    "***QUIZ QUESTIONS***\n",
    "1. What is the value of the coefficient for `sqft_living` that you learned with no regularization, rounded to 1 decimal place?  What about the one with high regularization?\n",
    "\n",
    "262.91864486/ 119.92253814\n",
    "\n",
    "2. Comparing the lines you fit with the with no regularization versus high regularization, which one is steeper?\n",
    "\n",
    "no regularization\n",
    "\n",
    "3. What are the RSS on the test data for each of the set of weights above (initial, no regularization, high regularization)? \n",
    "1.78427328252e+15/  2.75733825001e+14/   6.64882750948e+14\n"
   ]
  },
  {
   "cell_type": "markdown",
   "metadata": {},
   "source": [
    "# Running a multiple regression with L2 penalty"
   ]
  },
  {
   "cell_type": "markdown",
   "metadata": {},
   "source": [
    "Let us now consider a model with 2 features: `['sqft_living', 'sqft_living15']`."
   ]
  },
  {
   "cell_type": "markdown",
   "metadata": {},
   "source": [
    "First, create Numpy versions of your training and test data with these two features. "
   ]
  },
  {
   "cell_type": "code",
   "execution_count": 19,
   "metadata": {
    "collapsed": true
   },
   "outputs": [],
   "source": [
    "model_features = ['sqft_living', 'sqft_living15'] # sqft_living15 is the average squarefeet for the nearest 15 neighbors. \n",
    "my_output = 'price'\n",
    "(feature_matrix, output) = get_numpy_data(train_data, model_features, my_output)\n",
    "(test_feature_matrix, test_output) = get_numpy_data(test_data, model_features, my_output)"
   ]
  },
  {
   "cell_type": "markdown",
   "metadata": {},
   "source": [
    "We need to re-inialize the weights, since we have one extra parameter. Let us also set the step size and maximum number of iterations."
   ]
  },
  {
   "cell_type": "code",
   "execution_count": 20,
   "metadata": {
    "collapsed": true
   },
   "outputs": [],
   "source": [
    "initial_weights = np.array([0.0,0.0,0.0])\n",
    "step_size = 1e-12\n",
    "max_iterations = 1000"
   ]
  },
  {
   "cell_type": "markdown",
   "metadata": {},
   "source": [
    "First, let's consider no regularization.  Set the `l2_penalty` to `0.0` and run your ridge regression algorithm to learn the weights of your model.  Call your weights:\n",
    "\n",
    "`multiple_weights_0_penalty`"
   ]
  },
  {
   "cell_type": "code",
   "execution_count": 21,
   "metadata": {
    "collapsed": false
   },
   "outputs": [
    {
     "name": "stdout",
     "output_type": "stream",
     "text": [
      "Starting gradient descent with l2_penalty = 0.0\n",
      "Iteration = 1\n",
      "Cost function =  7.43305185103e+15\n",
      "Iteration = 2\n",
      "Cost function =  3.91822509218e+15\n",
      "Iteration = 3\n",
      "Cost function =  2.40193241938e+15\n",
      "Iteration = 4\n",
      "Cost function =  1.75087263425e+15\n",
      "Iteration = 5\n",
      "Cost function =  1.47336462717e+15\n",
      "Iteration = 6\n",
      "Cost function =  1.35644462031e+15\n",
      "Iteration = 7\n",
      "Cost function =  1.30810331017e+15\n",
      "Iteration = 8\n",
      "Cost function =  1.28874295738e+15\n",
      "Iteration = 9\n",
      "Cost function =  1.28142445517e+15\n",
      "Iteration = 10\n",
      "Cost function =  1.27896994266e+15\n",
      "Iteration = 20\n",
      "Cost function =  1.27952244036e+15\n",
      "Iteration = 30\n",
      "Cost function =  1.27958556298e+15\n",
      "Iteration = 40\n",
      "Cost function =  1.27958656195e+15\n",
      "Iteration = 50\n",
      "Cost function =  1.27958657755e+15\n",
      "Iteration = 60\n",
      "Cost function =  1.27958657779e+15\n",
      "Iteration = 70\n",
      "Cost function =  1.2795865778e+15\n",
      "Iteration = 80\n",
      "Cost function =  1.2795865778e+15\n",
      "Iteration = 90\n",
      "Cost function =  1.2795865778e+15\n",
      "Iteration = 100\n",
      "Cost function =  1.2795865778e+15\n",
      "Iteration = 200\n",
      "Cost function =  1.2795865778e+15\n",
      "Iteration = 300\n",
      "Cost function =  1.2795865778e+15\n",
      "Iteration = 400\n",
      "Cost function =  1.2795865778e+15\n",
      "Iteration = 500\n",
      "Cost function =  1.2795865778e+15\n",
      "Iteration = 600\n",
      "Cost function =  1.2795865778e+15\n",
      "Iteration = 700\n",
      "Cost function =  1.2795865778e+15\n",
      "Iteration = 800\n",
      "Cost function =  1.2795865778e+15\n",
      "Iteration = 900\n",
      "Cost function =  1.2795865778e+15\n",
      "Iteration = 1000\n",
      "Cost function =  1.2795865778e+15\n",
      "Done with gradient descent at iteration  1000\n",
      "Learned weights =  [ 139.09586923  139.09586923  139.09586923]\n"
     ]
    }
   ],
   "source": [
    "multiple_weights_0_penalty =  ridge_regression_gradient_descent(feature_matrix, output, initial_weights, step_size, 0.0, max_iterations)"
   ]
  },
  {
   "cell_type": "markdown",
   "metadata": {},
   "source": [
    "Next, let's consider high regularization.  Set the `l2_penalty` to `1e11` and run your ridge regression algorithm to learn the weights of your model.  Call your weights:\n",
    "\n",
    "`multiple_weights_high_penalty`"
   ]
  },
  {
   "cell_type": "code",
   "execution_count": 22,
   "metadata": {
    "collapsed": false
   },
   "outputs": [
    {
     "name": "stdout",
     "output_type": "stream",
     "text": [
      "Starting gradient descent with l2_penalty = 1e+11\n",
      "Iteration = 1\n",
      "Cost function =  7.43305185103e+15\n",
      "Iteration = 2\n",
      "Cost function =  4.36629846274e+15\n",
      "Iteration = 3\n",
      "Cost function =  3.74888232652e+15\n",
      "Iteration = 4\n",
      "Cost function =  3.63248318933e+15\n",
      "Iteration = 5\n",
      "Cost function =  3.6143124483e+15\n",
      "Iteration = 6\n",
      "Cost function =  3.61337854794e+15\n",
      "Iteration = 7\n",
      "Cost function =  3.61446735702e+15\n",
      "Iteration = 8\n",
      "Cost function =  3.61523868986e+15\n",
      "Iteration = 9\n",
      "Cost function =  3.61560041853e+15\n",
      "Iteration = 10\n",
      "Cost function =  3.61571811421e+15\n",
      "Iteration = 20\n",
      "Cost function =  3.61474993749e+15\n",
      "Iteration = 30\n",
      "Cost function =  3.61357508631e+15\n",
      "Iteration = 40\n",
      "Cost function =  3.61240094513e+15\n",
      "Iteration = 50\n",
      "Cost function =  3.61122760238e+15\n",
      "Iteration = 60\n",
      "Cost function =  3.61005505762e+15\n",
      "Iteration = 70\n",
      "Cost function =  3.60888331038e+15\n",
      "Iteration = 80\n",
      "Cost function =  3.6077123602e+15\n",
      "Iteration = 90\n",
      "Cost function =  3.60654220659e+15\n",
      "Iteration = 100\n",
      "Cost function =  3.60537284909e+15\n",
      "Iteration = 200\n",
      "Cost function =  3.59372295628e+15\n",
      "Iteration = 300\n",
      "Cost function =  3.58215215701e+15\n",
      "Iteration = 400\n",
      "Cost function =  3.57065998376e+15\n",
      "Iteration = 500\n",
      "Cost function =  3.55924597166e+15\n",
      "Iteration = 600\n",
      "Cost function =  3.54790965841e+15\n",
      "Iteration = 700\n",
      "Cost function =  3.53665058431e+15\n",
      "Iteration = 800\n",
      "Cost function =  3.52546829226e+15\n",
      "Iteration = 900\n",
      "Cost function =  3.5143623277e+15\n",
      "Iteration = 1000\n",
      "Cost function =  3.50333223859e+15\n",
      "Done with gradient descent at iteration  1000\n",
      "Learned weights =  [ 17343.59901525     85.30041459     85.30041459]\n"
     ]
    }
   ],
   "source": [
    "multiple_weights_high_penalty = ridge_regression_gradient_descent(feature_matrix, output, initial_weights, step_size, 1e11, max_iterations)"
   ]
  },
  {
   "cell_type": "markdown",
   "metadata": {},
   "source": [
    "Compute the RSS on the TEST data for the following three sets of weights:\n",
    "1. The initial weights (all zeros)\n",
    "2. The weights learned with no regularization\n",
    "3. The weights learned with high regularization\n",
    "\n",
    "Which weights perform best?"
   ]
  },
  {
   "cell_type": "code",
   "execution_count": 23,
   "metadata": {
    "collapsed": false
   },
   "outputs": [
    {
     "name": "stdout",
     "output_type": "stream",
     "text": [
      "1.78427328252e+15\n"
     ]
    }
   ],
   "source": [
    "test_predictions_0w  = predict_output(test_feature_matrix, initial_weights)\n",
    "tmp = test_predictions_0w - test_output\n",
    "print np.dot(tmp,tmp)"
   ]
  },
  {
   "cell_type": "code",
   "execution_count": 24,
   "metadata": {
    "collapsed": false
   },
   "outputs": [
    {
     "name": "stdout",
     "output_type": "stream",
     "text": [
      "2.86141782647e+14\n"
     ]
    }
   ],
   "source": [
    "test_predictions_lw  = predict_output(test_feature_matrix, multiple_weights_0_penalty)\n",
    "tmp = test_predictions_lw - test_output\n",
    "print np.dot(tmp,tmp)"
   ]
  },
  {
   "cell_type": "code",
   "execution_count": 25,
   "metadata": {
    "collapsed": false
   },
   "outputs": [
    {
     "name": "stdout",
     "output_type": "stream",
     "text": [
      "4.73868298091e+14\n"
     ]
    }
   ],
   "source": [
    "test_predictions_hw  = predict_output(test_feature_matrix, multiple_weights_high_penalty)\n",
    "tmp = test_predictions_hw - test_output\n",
    "print np.dot(tmp,tmp)"
   ]
  },
  {
   "cell_type": "markdown",
   "metadata": {},
   "source": [
    "Predict the house price for the 1st house in the test set using the no regularization and high regularization models. (Remember that python starts indexing from 0.) How far is the prediction from the actual price?  Which weights perform best for the 1st house?"
   ]
  },
  {
   "cell_type": "code",
   "execution_count": 29,
   "metadata": {
    "collapsed": false
   },
   "outputs": [
    {
     "name": "stdout",
     "output_type": "stream",
     "text": [
      "446636.836095\n"
     ]
    }
   ],
   "source": [
    "test_predictions_lw  = predict_output(test_feature_matrix, multiple_weights_0_penalty)[0]\n",
    "print test_predictions_lw"
   ]
  },
  {
   "cell_type": "code",
   "execution_count": 31,
   "metadata": {
    "collapsed": false
   },
   "outputs": [
    {
     "name": "stdout",
     "output_type": "stream",
     "text": [
      "291157.929857\n"
     ]
    }
   ],
   "source": [
    "test_predictions_hw  = predict_output(test_feature_matrix, multiple_weights_high_penalty)[0]\n",
    "print test_predictions_hw"
   ]
  },
  {
   "cell_type": "code",
   "execution_count": 33,
   "metadata": {
    "collapsed": false
   },
   "outputs": [
    {
     "name": "stdout",
     "output_type": "stream",
     "text": [
      "310000.0\n"
     ]
    }
   ],
   "source": [
    "print test_output[0]"
   ]
  },
  {
   "cell_type": "code",
   "execution_count": 35,
   "metadata": {
    "collapsed": false
   },
   "outputs": [
    {
     "data": {
      "text/plain": [
       "array([[  1.00000000e+00,   1.18000000e+03,   1.34000000e+03],\n",
       "       [  1.00000000e+00,   2.57000000e+03,   1.69000000e+03],\n",
       "       [  1.00000000e+00,   7.70000000e+02,   2.72000000e+03],\n",
       "       ..., \n",
       "       [  1.00000000e+00,   1.53000000e+03,   1.53000000e+03],\n",
       "       [  1.00000000e+00,   1.60000000e+03,   1.41000000e+03],\n",
       "       [  1.00000000e+00,   1.02000000e+03,   1.02000000e+03]])"
      ]
     },
     "execution_count": 35,
     "metadata": {},
     "output_type": "execute_result"
    }
   ],
   "source": [
    "feature_matrix"
   ]
  },
  {
   "cell_type": "markdown",
   "metadata": {
    "collapsed": true
   },
   "source": [
    "\n",
    "***QUIZ QUESTIONS***\n",
    "1. What is the value of the coefficient for `sqft_living` that you learned with no regularization, rounded to 1 decimal place?  What about the one with high regularization?\n",
    "2. What are the RSS on the test data for each of the set of weights above (initial, no regularization, high regularization)? \n",
    "3. We make prediction for the first house in the test set using two sets of weights (no regularization vs high regularization). Which weights make better prediction <u>for that particular house</u>?"
   ]
  },
  {
   "cell_type": "code",
   "execution_count": null,
   "metadata": {
    "collapsed": true
   },
   "outputs": [],
   "source": []
  }
 ],
 "metadata": {
  "kernelspec": {
   "display_name": "Python 2",
   "language": "python",
   "name": "python2"
  },
  "language_info": {
   "codemirror_mode": {
    "name": "ipython",
    "version": 2
   },
   "file_extension": ".py",
   "mimetype": "text/x-python",
   "name": "python",
   "nbconvert_exporter": "python",
   "pygments_lexer": "ipython2",
   "version": "2.7.11"
  }
 },
 "nbformat": 4,
 "nbformat_minor": 0
}
