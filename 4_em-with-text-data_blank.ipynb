{
 "cells": [
  {
   "cell_type": "markdown",
   "metadata": {},
   "source": [
    "## Fitting a diagonal covariance Gaussian mixture model to text data\n",
    "\n",
    "In a previous assignment, we explored k-means clustering for a high-dimensional Wikipedia dataset. We can also model this data with a mixture of Gaussians, though with increasing dimension we run into two important issues associated with using a full covariance matrix for each component.\n",
    " * Computational cost becomes prohibitive in high dimensions: score calculations have complexity cubic in the number of dimensions M if the Gaussian has a full covariance matrix.\n",
    " * A model with many parameters require more data: observe that a full covariance matrix for an M-dimensional Gaussian will have M(M+1)/2 parameters to fit. With the number of parameters growing roughly as the square of the dimension, it may quickly become impossible to find a sufficient amount of data to make good inferences.\n",
    "\n",
    "Both of these issues are avoided if we require the covariance matrix of each component to be diagonal, as then it has only M parameters to fit and the score computation decomposes into M univariate score calculations. Recall from the lecture that the M-step for the full covariance is:\n",
    "\n",
    "\\begin{align*}\n",
    "\\hat{\\Sigma}_k &= \\frac{1}{N_k^{soft}} \\sum_{i=1}^N r_{ik} (x_i-\\hat{\\mu}_k)(x_i - \\hat{\\mu}_k)^T\n",
    "\\end{align*}\n",
    "\n",
    "Note that this is a square matrix with M rows and M columns, and the above equation implies that the (v, w) element is computed by\n",
    "\n",
    "\\begin{align*}\n",
    "\\hat{\\Sigma}_{k, v, w} &= \\frac{1}{N_k^{soft}} \\sum_{i=1}^N r_{ik} (x_{iv}-\\hat{\\mu}_{kv})(x_{iw} - \\hat{\\mu}_{kw})\n",
    "\\end{align*}\n",
    "\n",
    "When we assume that this is a diagonal matrix, then non-diagonal elements are assumed to be zero and we only need to compute each of the M elements along the diagonal independently using the following equation. \n",
    "\n",
    "\\begin{align*}\n",
    "\\hat{\\sigma}^2_{k, v} &= \\hat{\\Sigma}_{k, v, v}  \\\\\n",
    "&= \\frac{1}{N_k^{soft}} \\sum_{i=1}^N r_{ik} (x_{iv}-\\hat{\\mu}_{kv})^2\n",
    "\\end{align*}\n",
    "\n",
    "In this section, we will use an EM implementation to fit a Gaussian mixture model with **diagonal** covariances to a subset of the Wikipedia dataset. The implementation uses the above equation to compute each variance term. \n",
    "\n",
    "We'll begin by importing the dataset and coming up with a useful representation for each article. After running our algorithm on the data, we will explore the output to see whether we can give a meaningful interpretation to the fitted parameters in our model."
   ]
  },
  {
   "cell_type": "markdown",
   "metadata": {},
   "source": [
    "**Note to Amazon EC2 users**: To conserve memory, make sure to stop all the other notebooks before running this notebook."
   ]
  },
  {
   "cell_type": "markdown",
   "metadata": {},
   "source": [
    "## Import necessary packages"
   ]
  },
  {
   "cell_type": "markdown",
   "metadata": {},
   "source": [
    "The following code block will check if you have the correct version of GraphLab Create. Any version later than 1.8.5 will do. To upgrade, read [this page](https://turi.com/download/upgrade-graphlab-create.html)."
   ]
  },
  {
   "cell_type": "code",
   "execution_count": 1,
   "metadata": {
    "collapsed": false
   },
   "outputs": [],
   "source": [
    "import graphlab\n",
    "\n",
    "'''Check GraphLab Create version'''\n",
    "from distutils.version import StrictVersion\n",
    "assert (StrictVersion(graphlab.version) >= StrictVersion('1.8.5')), 'GraphLab Create must be version 1.8.5 or later.'"
   ]
  },
  {
   "cell_type": "markdown",
   "metadata": {},
   "source": [
    "We also have a Python file containing implementations for several functions that will be used during the course of this assignment."
   ]
  },
  {
   "cell_type": "code",
   "execution_count": 2,
   "metadata": {
    "collapsed": false
   },
   "outputs": [],
   "source": [
    "from em_utilities import *"
   ]
  },
  {
   "cell_type": "markdown",
   "metadata": {},
   "source": [
    "## Load Wikipedia data and extract TF-IDF features"
   ]
  },
  {
   "cell_type": "markdown",
   "metadata": {},
   "source": [
    "Load Wikipedia data and transform each of the first 5000 document into a TF-IDF representation."
   ]
  },
  {
   "cell_type": "code",
   "execution_count": 3,
   "metadata": {
    "collapsed": false
   },
   "outputs": [
    {
     "name": "stdout",
     "output_type": "stream",
     "text": [
      "This non-commercial license of GraphLab Create for academic use is assigned to yumupinglan@gmail.com and will expire on March 22, 2020.\n"
     ]
    },
    {
     "name": "stderr",
     "output_type": "stream",
     "text": [
      "[INFO] graphlab.cython.cy_server: GraphLab Create v2.1 started. Logging: /tmp/graphlab_server_1569501907.log\n"
     ]
    }
   ],
   "source": [
    "wiki = graphlab.SFrame('people_wiki.gl/').head(5000)\n",
    "wiki['tf_idf'] = graphlab.text_analytics.tf_idf(wiki['text'])"
   ]
  },
  {
   "cell_type": "markdown",
   "metadata": {},
   "source": [
    "Using a utility we provide, we will create a sparse matrix representation of the documents. This is the same utility function you used during the previous assignment on k-means with text data."
   ]
  },
  {
   "cell_type": "code",
   "execution_count": 4,
   "metadata": {
    "collapsed": false
   },
   "outputs": [],
   "source": [
    "tf_idf, map_index_to_word = sframe_to_scipy(wiki, 'tf_idf')"
   ]
  },
  {
   "cell_type": "markdown",
   "metadata": {},
   "source": [
    "As in the previous assignment, we will normalize each document's TF-IDF vector to be a unit vector. "
   ]
  },
  {
   "cell_type": "code",
   "execution_count": 5,
   "metadata": {
    "collapsed": false
   },
   "outputs": [],
   "source": [
    "tf_idf = normalize(tf_idf)"
   ]
  },
  {
   "cell_type": "markdown",
   "metadata": {},
   "source": [
    "We can check that the length (Euclidean norm) of each row is now 1.0, as expected."
   ]
  },
  {
   "cell_type": "code",
   "execution_count": 6,
   "metadata": {
    "collapsed": false,
    "scrolled": true
   },
   "outputs": [
    {
     "name": "stdout",
     "output_type": "stream",
     "text": [
      "1.0\n",
      "1.0\n",
      "1.0\n",
      "1.0\n",
      "1.0\n"
     ]
    }
   ],
   "source": [
    "for i in range(5):\n",
    "    doc = tf_idf[i]\n",
    "    print(np.linalg.norm(doc.todense()))"
   ]
  },
  {
   "cell_type": "markdown",
   "metadata": {},
   "source": [
    "## EM in high dimensions\n",
    "\n",
    "EM for high-dimensional data requires some special treatment:\n",
    " * E step and M step must be vectorized as much as possible, as explicit loops are dreadfully slow in Python.\n",
    " * All operations must be cast in terms of sparse matrix operations, to take advantage of computational savings enabled by sparsity of data.\n",
    " * Initially, some words may be entirely absent from a cluster, causing the M step to produce zero mean and variance for those words.  This means any data point with one of those words will have 0 probability of being assigned to that cluster since the cluster allows for no variability (0 variance) around that count being 0 (0 mean). Since there is a small chance for those words to later appear in the cluster, we instead assign a small positive variance (~1e-10). Doing so also prevents numerical overflow.\n",
    " \n",
    "We provide the complete implementation for you in the file `em_utilities.py`. For those who are interested, you can read through the code to see how the sparse matrix implementation differs from the previous assignment. \n",
    "\n",
    "You are expected to answer some quiz questions using the results of clustering."
   ]
  },
  {
   "cell_type": "markdown",
   "metadata": {},
   "source": [
    "**Initializing mean parameters using k-means**\n",
    "\n",
    "Recall from the lectures that EM for Gaussian mixtures is very sensitive to the choice of initial means. With a bad initial set of means, EM may produce clusters that span a large area and are mostly overlapping. To eliminate such bad outcomes, we first produce a suitable set of initial means by using the cluster centers from running k-means.  That is, we first run k-means and then take the final set of means from the converged solution as the initial means in our EM algorithm."
   ]
  },
  {
   "cell_type": "code",
   "execution_count": 7,
   "metadata": {
    "collapsed": false
   },
   "outputs": [],
   "source": [
    "from sklearn.cluster import KMeans\n",
    "\n",
    "np.random.seed(5)\n",
    "num_clusters = 25\n",
    "\n",
    "# Use scikit-learn's k-means to simplify workflow\n",
    "#kmeans_model = KMeans(n_clusters=num_clusters, n_init=5, max_iter=400, random_state=1, n_jobs=-1) # uncomment to use parallelism -- may break on your installation\n",
    "kmeans_model = KMeans(n_clusters=num_clusters, n_init=5, max_iter=400, random_state=1, n_jobs=1)\n",
    "kmeans_model.fit(tf_idf)\n",
    "centroids, cluster_assignment = kmeans_model.cluster_centers_, kmeans_model.labels_\n",
    "\n",
    "means = [centroid for centroid in centroids]"
   ]
  },
  {
   "cell_type": "markdown",
   "metadata": {},
   "source": [
    "**Initializing cluster weights**\n",
    "\n",
    "We will initialize each cluster weight to be the proportion of documents assigned to that cluster by k-means above."
   ]
  },
  {
   "cell_type": "code",
   "execution_count": 9,
   "metadata": {
    "collapsed": false
   },
   "outputs": [],
   "source": [
    "num_docs = tf_idf.shape[0]\n",
    "weights = []\n",
    "for i in xrange(num_clusters):\n",
    "    # Compute the number of data points assigned to cluster i:\n",
    "    num_assigned = cluster_assignment[i]\n",
    "    w = float(num_assigned) / num_docs\n",
    "    weights.append(w)"
   ]
  },
  {
   "cell_type": "markdown",
   "metadata": {},
   "source": [
    "**Initializing covariances**\n",
    "\n",
    "To initialize our covariance parameters, we compute $\\hat{\\sigma}_{k, j}^2 = \\sum_{i=1}^{N}(x_{i,j} - \\hat{\\mu}_{k, j})^2$ for each feature $j$.  For features with really tiny variances, we assign 1e-8 instead to prevent numerical instability. We do this computation in a vectorized fashion in the following code block."
   ]
  },
  {
   "cell_type": "code",
   "execution_count": 10,
   "metadata": {
    "collapsed": false
   },
   "outputs": [],
   "source": [
    "covs = []\n",
    "for i in xrange(num_clusters):\n",
    "    member_rows = tf_idf[cluster_assignment==i]\n",
    "    cov = (member_rows.multiply(member_rows) - 2*member_rows.dot(diag(means[i]))).sum(axis=0).A1 / member_rows.shape[0] \\\n",
    "          + means[i]**2\n",
    "    cov[cov < 1e-8] = 1e-8\n",
    "    covs.append(cov)"
   ]
  },
  {
   "cell_type": "markdown",
   "metadata": {},
   "source": [
    "**Running EM**\n",
    "\n",
    "Now that we have initialized all of our parameters, run EM."
   ]
  },
  {
   "cell_type": "code",
   "execution_count": 11,
   "metadata": {
    "collapsed": false,
    "scrolled": true
   },
   "outputs": [],
   "source": [
    "out = EM_for_high_dimension(tf_idf, means, covs, weights, cov_smoothing=1e-10)"
   ]
  },
  {
   "cell_type": "code",
   "execution_count": 12,
   "metadata": {
    "collapsed": false
   },
   "outputs": [
    {
     "data": {
      "text/plain": [
       "[3879279565.4821482, 4883345753.5331306, 4883345753.5331306]"
      ]
     },
     "execution_count": 12,
     "metadata": {},
     "output_type": "execute_result"
    }
   ],
   "source": [
    "out['loglik']"
   ]
  },
  {
   "cell_type": "markdown",
   "metadata": {},
   "source": [
    "## Interpret clustering results"
   ]
  },
  {
   "cell_type": "markdown",
   "metadata": {},
   "source": [
    "In contrast to k-means, EM is able to explicitly model clusters of varying sizes and proportions. The relative magnitude of variances in the word dimensions tell us much about the nature of the clusters.\n",
    "\n",
    "Write yourself a cluster visualizer as follows.  Examining each cluster's mean vector, list the 5 words with the largest mean values (5 most common words in the cluster). For each word, also include the associated variance parameter (diagonal element of the covariance matrix). \n",
    "\n",
    "A sample output may be:\n",
    "```\n",
    "==========================================================\n",
    "Cluster 0: Largest mean parameters in cluster \n",
    "\n",
    "Word        Mean        Variance    \n",
    "football    1.08e-01    8.64e-03\n",
    "season      5.80e-02    2.93e-03\n",
    "club        4.48e-02    1.99e-03\n",
    "league      3.94e-02    1.08e-03\n",
    "played      3.83e-02    8.45e-04\n",
    "...\n",
    "```"
   ]
  },
  {
   "cell_type": "code",
   "execution_count": 59,
   "metadata": {
    "collapsed": false
   },
   "outputs": [],
   "source": [
    "# Fill in the blanks\n",
    "def visualize_EM_clusters(tf_idf, means, covs, map_index_to_word):\n",
    "    print('')\n",
    "    print('==========================================================')\n",
    "\n",
    "    num_clusters = len(means)\n",
    "    for c in xrange(num_clusters):\n",
    "        print('Cluster {0:d}: Largest mean parameters in cluster '.format(c))\n",
    "        print('\\n{0: <12}{1: <12}{2: <12}'.format('Word', 'Mean', 'Variance'))\n",
    "        \n",
    "        # The k'th element of sorted_word_ids should be the index of the word \n",
    "        # that has the k'th-largest value in the cluster mean. Hint: Use np.argsort().\n",
    "        sorted_word_ids = np.argsort(tf_idf.toarray()[c])[::-1]\n",
    "        for i in sorted_word_ids[:5]:\n",
    "            print '{0: <12}{1:<10.2e}{2:10.2e}'.format(map_index_to_word['category'][i], \n",
    "                                                       means[c][i],\n",
    "                                                       covs[c][i])\n",
    "        print '\\n=========================================================='"
   ]
  },
  {
   "cell_type": "code",
   "execution_count": 60,
   "metadata": {
    "collapsed": false
   },
   "outputs": [
    {
     "name": "stdout",
     "output_type": "stream",
     "text": [
      "\n",
      "==========================================================\n",
      "Cluster 0: Largest mean parameters in cluster \n",
      "\n",
      "Word        Mean        Variance    \n",
      "morrell     0.00e+00    1.00e-10\n",
      "football    0.00e+00    1.00e-10\n",
      "kangaroos   0.00e+00    1.00e-10\n",
      "club        1.03e-03    2.64e-05\n",
      "carlton     0.00e+00    1.00e-10\n",
      "\n",
      "==========================================================\n",
      "Cluster 1: Largest mean parameters in cluster \n",
      "\n",
      "Word        Mean        Variance    \n",
      "melatonin   0.00e+00    1.00e-10\n",
      "lewy        0.00e+00    1.00e-10\n",
      "circadian   0.00e+00    1.00e-10\n",
      "disorders   0.00e+00    1.00e-10\n",
      "exposure    6.87e-04    4.74e-05\n",
      "\n",
      "==========================================================\n",
      "Cluster 2: Largest mean parameters in cluster \n",
      "\n",
      "Word        Mean        Variance    \n",
      "blues       5.91e-04    2.50e-05\n",
      "harpdog     0.00e+00    1.00e-10\n",
      "harmonica   0.00e+00    1.00e-10\n",
      "germanyover 0.00e+00    1.00e-10\n",
      "surveybrown 0.00e+00    1.00e-10\n",
      "\n",
      "==========================================================\n",
      "Cluster 3: Largest mean parameters in cluster \n",
      "\n",
      "Word        Mean        Variance    \n",
      "lem         0.00e+00    1.00e-10\n",
      "fiction     3.60e-04    2.16e-05\n",
      "rottensteiner0.00e+00    1.00e-10\n",
      "stanislaw   0.00e+00    1.00e-10\n",
      "science     5.46e-03    1.75e-04\n",
      "\n",
      "==========================================================\n",
      "Cluster 4: Largest mean parameters in cluster \n",
      "\n",
      "Word        Mean        Variance    \n",
      "genka       0.00e+00    1.00e-10\n",
      "toe         0.00e+00    1.00e-10\n",
      "legendaarne 0.00e+00    1.00e-10\n",
      "arhm        0.00e+00    1.00e-10\n",
      "tag         0.00e+00    1.00e-10\n",
      "\n",
      "==========================================================\n",
      "Cluster 5: Largest mean parameters in cluster \n",
      "\n",
      "Word        Mean        Variance    \n",
      "whistle     0.00e+00    1.00e-10\n",
      "5009        0.00e+00    1.00e-10\n",
      "hendersons  0.00e+00    1.00e-10\n",
      "comic       0.00e+00    1.00e-10\n",
      "henderson   0.00e+00    1.00e-10\n",
      "\n",
      "==========================================================\n",
      "Cluster 6: Largest mean parameters in cluster \n",
      "\n",
      "Word        Mean        Variance    \n",
      "lacrate     0.00e+00    1.00e-10\n",
      "milkcrate   0.00e+00    1.00e-10\n",
      "baltimore   1.81e-04    6.69e-06\n",
      "dizzee      0.00e+00    1.00e-10\n",
      "rakim       0.00e+00    1.00e-10\n",
      "\n",
      "==========================================================\n",
      "Cluster 7: Largest mean parameters in cluster \n",
      "\n",
      "Word        Mean        Variance    \n",
      "farrow      0.00e+00    1.00e-10\n",
      "infinitheatre0.00e+00    1.00e-10\n",
      "montreal    1.59e-03    8.16e-05\n",
      "novel       5.25e-03    3.87e-04\n",
      "trevor      0.00e+00    1.00e-10\n",
      "\n",
      "==========================================================\n",
      "Cluster 8: Largest mean parameters in cluster \n",
      "\n",
      "Word        Mean        Variance    \n",
      "wishdokta   0.00e+00    1.00e-10\n",
      "nelson      1.63e-03    7.19e-05\n",
      "bump        0.00e+00    1.00e-10\n",
      "ripe        0.00e+00    1.00e-10\n",
      "flex        0.00e+00    1.00e-10\n",
      "\n",
      "==========================================================\n",
      "Cluster 9: Largest mean parameters in cluster \n",
      "\n",
      "Word        Mean        Variance    \n",
      "trauma      1.69e-04    9.38e-06\n",
      "hopkins     5.02e-04    3.52e-05\n",
      "johns       7.58e-04    4.37e-05\n",
      "literature  2.89e-04    1.41e-05\n",
      "comparative 0.00e+00    1.00e-10\n",
      "\n",
      "==========================================================\n",
      "Cluster 10: Largest mean parameters in cluster \n",
      "\n",
      "Word        Mean        Variance    \n",
      "crumb       0.00e+00    1.00e-10\n",
      "sophie      0.00e+00    1.00e-10\n",
      "zwigoff     0.00e+00    1.00e-10\n",
      "comics      2.74e-03    4.22e-04\n",
      "her         1.26e-02    8.65e-04\n",
      "\n",
      "==========================================================\n",
      "Cluster 11: Largest mean parameters in cluster \n",
      "\n",
      "Word        Mean        Variance    \n",
      "novel       7.60e-04    3.22e-05\n",
      "writing     3.46e-03    2.00e-04\n",
      "ashworth    0.00e+00    1.00e-10\n",
      "jenn        0.00e+00    1.00e-10\n",
      "creative    7.13e-04    4.50e-05\n",
      "\n",
      "==========================================================\n",
      "Cluster 12: Largest mean parameters in cluster \n",
      "\n",
      "Word        Mean        Variance    \n",
      "hoefler     0.00e+00    1.00e-10\n",
      "frerejones  0.00e+00    1.00e-10\n",
      "type        4.60e-04    2.77e-05\n",
      "typefaces   0.00e+00    1.00e-10\n",
      "foundry     0.00e+00    1.00e-10\n",
      "\n",
      "==========================================================\n",
      "Cluster 13: Largest mean parameters in cluster \n",
      "\n",
      "Word        Mean        Variance    \n",
      "berkeley    5.70e-04    4.12e-05\n",
      "gueterbock  0.00e+00    1.00e-10\n",
      "baron       0.00e+00    1.00e-10\n",
      "freight     0.00e+00    1.00e-10\n",
      "rail        0.00e+00    1.00e-10\n",
      "\n",
      "==========================================================\n",
      "Cluster 14: Largest mean parameters in cluster \n",
      "\n",
      "Word        Mean        Variance    \n",
      "chernushenko0.00e+00    1.00e-10\n",
      "ottawa      1.78e-03    1.61e-04\n",
      "green       1.72e-03    2.70e-04\n",
      "sustainable 0.00e+00    1.00e-10\n",
      "nrtee       0.00e+00    1.00e-10\n",
      "\n",
      "==========================================================\n",
      "Cluster 15: Largest mean parameters in cluster \n",
      "\n",
      "Word        Mean        Variance    \n",
      "steineck    0.00e+00    1.00e-10\n",
      "truckfighters0.00e+00    1.00e-10\n",
      "desert      0.00e+00    1.00e-10\n",
      "attracted   0.00e+00    1.00e-10\n",
      "tell        1.04e-03    1.15e-04\n",
      "\n",
      "==========================================================\n",
      "Cluster 16: Largest mean parameters in cluster \n",
      "\n",
      "Word        Mean        Variance    \n",
      "pinsent     0.00e+00    1.00e-10\n",
      "secondperson0.00e+00    1.00e-10\n",
      "physics     5.82e-04    2.37e-05\n",
      "catholic    4.03e-02    7.35e-03\n",
      "theology    2.93e-02    2.80e-03\n",
      "\n",
      "==========================================================\n",
      "Cluster 17: Largest mean parameters in cluster \n",
      "\n",
      "Word        Mean        Variance    \n",
      "laois       0.00e+00    1.00e-10\n",
      "leinster    0.00e+00    1.00e-10\n",
      "football    2.00e-03    1.71e-04\n",
      "dunne       0.00e+00    1.00e-10\n",
      "paddy       0.00e+00    1.00e-10\n",
      "\n",
      "==========================================================\n",
      "Cluster 18: Largest mean parameters in cluster \n",
      "\n",
      "Word        Mean        Variance    \n",
      "greek       3.45e-03    9.14e-04\n",
      "music       1.12e-01    5.23e-03\n",
      "orchestral  1.35e-02    8.73e-04\n",
      "athens      9.27e-04    1.32e-04\n",
      "anax        8.68e-04    1.15e-04\n",
      "\n",
      "==========================================================\n",
      "Cluster 19: Largest mean parameters in cluster \n",
      "\n",
      "Word        Mean        Variance    \n",
      "campbell    0.00e+00    1.00e-10\n",
      "darwinism   0.00e+00    1.00e-10\n",
      "rhetoric    0.00e+00    1.00e-10\n",
      "intelligent 0.00e+00    1.00e-10\n",
      "design      8.87e-04    3.43e-05\n",
      "\n",
      "==========================================================\n",
      "Cluster 20: Largest mean parameters in cluster \n",
      "\n",
      "Word        Mean        Variance    \n",
      "band        0.00e+00    1.00e-10\n",
      "suburban    0.00e+00    1.00e-10\n",
      "legends     0.00e+00    1.00e-10\n",
      "batstone    0.00e+00    1.00e-10\n",
      "tim         2.00e-03    2.37e-04\n",
      "\n",
      "==========================================================\n",
      "Cluster 21: Largest mean parameters in cluster \n",
      "\n",
      "Word        Mean        Variance    \n",
      "scarlets    0.00e+00    1.00e-10\n",
      "flyhalf     0.00e+00    1.00e-10\n",
      "magners     0.00e+00    1.00e-10\n",
      "thomas      1.14e-03    6.57e-05\n",
      "priestland  0.00e+00    1.00e-10\n",
      "\n",
      "==========================================================\n",
      "Cluster 22: Largest mean parameters in cluster \n",
      "\n",
      "Word        Mean        Variance    \n",
      "sellimi     0.00e+00    1.00e-10\n",
      "nantes      0.00e+00    1.00e-10\n",
      "cup         1.81e-04    6.74e-06\n",
      "tunisia     0.00e+00    1.00e-10\n",
      "tunisian    0.00e+00    1.00e-10\n",
      "\n",
      "==========================================================\n",
      "Cluster 23: Largest mean parameters in cluster \n",
      "\n",
      "Word        Mean        Variance    \n",
      "soloway     0.00e+00    1.00e-10\n",
      "soloways    0.00e+00    1.00e-10\n",
      "aizley      0.00e+00    1.00e-10\n",
      "mommies     0.00e+00    1.00e-10\n",
      "folk        0.00e+00    1.00e-10\n",
      "\n",
      "==========================================================\n",
      "Cluster 24: Largest mean parameters in cluster \n",
      "\n",
      "Word        Mean        Variance    \n",
      "queercore   0.00e+00    1.00e-10\n",
      "jennings    2.23e-04    1.77e-05\n",
      "homocore    0.00e+00    1.00e-10\n",
      "deke        0.00e+00    1.00e-10\n",
      "fidonet     0.00e+00    1.00e-10\n",
      "\n",
      "==========================================================\n"
     ]
    }
   ],
   "source": [
    "'''By EM'''\n",
    "visualize_EM_clusters(tf_idf, out['means'], out['covs'], map_index_to_word)"
   ]
  },
  {
   "cell_type": "markdown",
   "metadata": {},
   "source": [
    "**Quiz Question**. Select all the topics that have a cluster in the model created above. [multiple choice]"
   ]
  },
  {
   "cell_type": "markdown",
   "metadata": {},
   "source": [
    "## Comparing to random initialization"
   ]
  },
  {
   "cell_type": "markdown",
   "metadata": {
    "collapsed": false
   },
   "source": [
    "Create variables for randomly initializing the EM algorithm. Complete the following code block."
   ]
  },
  {
   "cell_type": "code",
   "execution_count": 68,
   "metadata": {
    "collapsed": false
   },
   "outputs": [],
   "source": [
    "np.random.seed(5) # See the note below to see why we set seed=5.\n",
    "num_clusters = len(means)\n",
    "num_docs, num_words = tf_idf.shape\n",
    "\n",
    "random_means = []\n",
    "random_covs = []\n",
    "random_weights = []\n",
    "\n",
    "for k in range(num_clusters):\n",
    "    \n",
    "    # Create a numpy array of length num_words with random normally distributed values.\n",
    "    # Use the standard univariate normal distribution (mean 0, variance 1).\n",
    "    # YOUR CODE HERE\n",
    "    mean = np.random.normal(0,1,size=num_words)\n",
    "    \n",
    "    # Create a numpy array of length num_words with random values uniformly distributed between 1 and 5.\n",
    "    # YOUR CODE HERE\n",
    "    cov =  np.random.uniform(1, 5, num_words)\n",
    "\n",
    "    # Initially give each cluster equal weight.\n",
    "    # YOUR CODE HERE\n",
    "    weight = 1/float(num_clusters)\n",
    "    \n",
    "    random_means.append(mean)\n",
    "    random_covs.append(cov)\n",
    "    random_weights.append(weight)"
   ]
  },
  {
   "cell_type": "markdown",
   "metadata": {},
   "source": [
    "**Quiz Question**: Try fitting EM with the random initial parameters you created above. (Use `cov_smoothing=1e-5`.) Store the result to `out_random_init`. What is the final loglikelihood that the algorithm converges to? "
   ]
  },
  {
   "cell_type": "code",
   "execution_count": 70,
   "metadata": {
    "collapsed": false
   },
   "outputs": [],
   "source": [
    "out_random_init = EM_for_high_dimension(tf_idf, random_means, random_covs, random_weights, cov_smoothing=1e-5)"
   ]
  },
  {
   "cell_type": "code",
   "execution_count": 76,
   "metadata": {
    "collapsed": false,
    "scrolled": true
   },
   "outputs": [
    {
     "data": {
      "text/plain": [
       "[-764085987.57300639,\n",
       " 2282866699.1732855,\n",
       " 2362585588.3564939,\n",
       " 2362875609.1670547,\n",
       " 2362875609.1670547]"
      ]
     },
     "execution_count": 76,
     "metadata": {},
     "output_type": "execute_result"
    }
   ],
   "source": [
    "out_random_init['loglik']"
   ]
  },
  {
   "cell_type": "code",
   "execution_count": 77,
   "metadata": {
    "collapsed": false,
    "scrolled": true
   },
   "outputs": [
    {
     "data": {
      "text/plain": [
       "{'covs': [array([  1.00000000e-05,   1.00000000e-05,   1.00000000e-05, ...,\n",
       "           1.00062865e-05,   1.00027555e-05,   1.00009243e-05]),\n",
       "  array([  1.00000000e-05,   1.00000000e-05,   1.00000000e-05, ...,\n",
       "           1.00073803e-05,   1.00034352e-05,   1.00011170e-05]),\n",
       "  array([  1.00000000e-05,   1.00000000e-05,   1.00000000e-05, ...,\n",
       "           1.00083432e-05,   1.00023343e-05,   1.00009767e-05]),\n",
       "  array([  1.00000000e-05,   1.00000000e-05,   1.00000000e-05, ...,\n",
       "           1.00077976e-05,   1.00030080e-05,   1.00008818e-05]),\n",
       "  array([  1.00000000e-05,   1.00000000e-05,   1.00000000e-05, ...,\n",
       "           1.00093712e-05,   1.00035705e-05,   1.00009599e-05]),\n",
       "  array([  1.00000000e-05,   1.00000000e-05,   1.00000000e-05, ...,\n",
       "           1.00088397e-05,   1.00026165e-05,   1.00010384e-05]),\n",
       "  array([  1.00000000e-05,   1.00000000e-05,   1.00000000e-05, ...,\n",
       "           1.00079954e-05,   1.00024835e-05,   1.00009018e-05]),\n",
       "  array([  1.00000000e-05,   1.00000000e-05,   1.00000000e-05, ...,\n",
       "           1.00080257e-05,   1.00025606e-05,   1.00008748e-05]),\n",
       "  array([  1.00000000e-05,   1.00000000e-05,   1.00000000e-05, ...,\n",
       "           1.00096031e-05,   1.00025493e-05,   1.00009009e-05]),\n",
       "  array([  1.00000000e-05,   1.00000000e-05,   1.00000000e-05, ...,\n",
       "           1.00091320e-05,   1.00027613e-05,   1.00011760e-05]),\n",
       "  array([  1.00000000e-05,   1.00000000e-05,   1.00000000e-05, ...,\n",
       "           1.00086563e-05,   1.00037718e-05,   1.00009641e-05]),\n",
       "  array([  1.00000000e-05,   1.00000000e-05,   1.00000000e-05, ...,\n",
       "           1.00080796e-05,   1.00026198e-05,   1.00010029e-05]),\n",
       "  array([  1.00000000e-05,   1.00000000e-05,   1.00000000e-05, ...,\n",
       "           1.00081703e-05,   1.00026950e-05,   1.00010679e-05]),\n",
       "  array([  1.00000000e-05,   1.00000000e-05,   1.00000000e-05, ...,\n",
       "           1.00089056e-05,   1.00023925e-05,   1.00010857e-05]),\n",
       "  array([  1.00000000e-05,   1.00000000e-05,   1.00000000e-05, ...,\n",
       "           1.00057940e-05,   1.00025685e-05,   1.00012410e-05]),\n",
       "  array([  1.00000000e-05,   1.00000000e-05,   1.00000000e-05, ...,\n",
       "           1.00086832e-05,   1.00036625e-05,   1.00009508e-05]),\n",
       "  array([  1.00000000e-05,   1.00000000e-05,   1.00000000e-05, ...,\n",
       "           1.00061564e-05,   1.00029588e-05,   1.00010569e-05]),\n",
       "  array([  1.00000000e-05,   1.00000000e-05,   1.00000000e-05, ...,\n",
       "           1.00104203e-05,   1.00028792e-05,   1.00009406e-05]),\n",
       "  array([  1.00000000e-05,   1.00000000e-05,   8.76576387e-05, ...,\n",
       "           1.00087135e-05,   1.00026684e-05,   1.00011367e-05]),\n",
       "  array([  1.00000000e-05,   1.00000000e-05,   1.00000000e-05, ...,\n",
       "           1.00084759e-05,   1.00029425e-05,   1.00009777e-05]),\n",
       "  array([  1.00000000e-05,   1.00000000e-05,   1.00000000e-05, ...,\n",
       "           1.00059865e-05,   1.00024462e-05,   1.00009530e-05]),\n",
       "  array([  1.03370094e-04,   1.00000000e-05,   1.00000000e-05, ...,\n",
       "           1.00083895e-05,   1.00023599e-05,   1.00010167e-05]),\n",
       "  array([  1.00000000e-05,   1.00000000e-05,   1.00000000e-05, ...,\n",
       "           1.00081493e-05,   1.00028748e-05,   1.00010389e-05]),\n",
       "  array([  1.00000000e-05,   6.33189732e-05,   1.00000000e-05, ...,\n",
       "           1.00082042e-05,   1.00034010e-05,   1.00008116e-05]),\n",
       "  array([  1.00000000e-05,   1.00000000e-05,   1.00000000e-05, ...,\n",
       "           1.00069671e-05,   1.00024800e-05,   1.00009044e-05])],\n",
       " 'loglik': [-764085987.57300639,\n",
       "  2282866699.1732855,\n",
       "  2362585588.3564939,\n",
       "  2362875609.1670547,\n",
       "  2362875609.1670547],\n",
       " 'means': [array([  0.00000000e+00,   0.00000000e+00,   0.00000000e+00, ...,\n",
       "           1.97392895e-04,   1.16226309e-04,   8.31342337e-05]),\n",
       "  array([  0.00000000e+00,   0.00000000e+00,   0.00000000e+00, ...,\n",
       "           1.99028315e-04,   1.23615958e-04,   9.28240691e-05]),\n",
       "  array([  0.00000000e+00,   0.00000000e+00,   0.00000000e+00, ...,\n",
       "           2.13832508e-04,   1.23988291e-04,   8.88685389e-05]),\n",
       "  array([  0.00000000e+00,   0.00000000e+00,   0.00000000e+00, ...,\n",
       "           1.88480337e-04,   1.29568309e-04,   8.46248827e-05]),\n",
       "  array([  0.00000000e+00,   0.00000000e+00,   0.00000000e+00, ...,\n",
       "           2.07719908e-04,   1.23184444e-04,   8.58564369e-05]),\n",
       "  array([  0.00000000e+00,   0.00000000e+00,   0.00000000e+00, ...,\n",
       "           2.14685362e-04,   1.13886525e-04,   8.74676202e-05]),\n",
       "  array([  0.00000000e+00,   0.00000000e+00,   0.00000000e+00, ...,\n",
       "           2.20485484e-04,   1.21434079e-04,   8.51596216e-05]),\n",
       "  array([  0.00000000e+00,   0.00000000e+00,   0.00000000e+00, ...,\n",
       "           2.01909945e-04,   1.19960711e-04,   8.50120721e-05]),\n",
       "  array([  0.00000000e+00,   0.00000000e+00,   0.00000000e+00, ...,\n",
       "           2.14788904e-04,   1.10140276e-04,   9.23820556e-05]),\n",
       "  array([  0.00000000e+00,   0.00000000e+00,   0.00000000e+00, ...,\n",
       "           2.07595332e-04,   1.19042185e-04,   8.99303368e-05]),\n",
       "  array([  0.00000000e+00,   0.00000000e+00,   0.00000000e+00, ...,\n",
       "           1.99688804e-04,   1.29980491e-04,   8.95716210e-05]),\n",
       "  array([  0.00000000e+00,   0.00000000e+00,   0.00000000e+00, ...,\n",
       "           2.04892489e-04,   1.22572601e-04,   8.79241446e-05]),\n",
       "  array([  0.00000000e+00,   0.00000000e+00,   0.00000000e+00, ...,\n",
       "           2.07703185e-04,   1.25378674e-04,   8.64551877e-05]),\n",
       "  array([  0.00000000e+00,   0.00000000e+00,   0.00000000e+00, ...,\n",
       "           2.08533194e-04,   1.18431640e-04,   8.32664969e-05]),\n",
       "  array([  0.00000000e+00,   0.00000000e+00,   0.00000000e+00, ...,\n",
       "           1.94757973e-04,   1.16132205e-04,   8.74699448e-05]),\n",
       "  array([  0.00000000e+00,   0.00000000e+00,   0.00000000e+00, ...,\n",
       "           2.01732493e-04,   1.26804480e-04,   8.60727173e-05]),\n",
       "  array([  0.00000000e+00,   0.00000000e+00,   0.00000000e+00, ...,\n",
       "           1.82807047e-04,   1.31256053e-04,   8.50813555e-05]),\n",
       "  array([  0.00000000e+00,   0.00000000e+00,   0.00000000e+00, ...,\n",
       "           2.14111855e-04,   1.29965724e-04,   8.85104969e-05]),\n",
       "  array([  0.00000000e+00,   0.00000000e+00,   7.69939220e-04, ...,\n",
       "           2.03950420e-04,   1.22439129e-04,   8.75673508e-05]),\n",
       "  array([  0.00000000e+00,   0.00000000e+00,   0.00000000e+00, ...,\n",
       "           2.04918117e-04,   1.17290444e-04,   8.85941158e-05]),\n",
       "  array([  0.00000000e+00,   0.00000000e+00,   0.00000000e+00, ...,\n",
       "           1.88330157e-04,   1.22631545e-04,   8.68546958e-05]),\n",
       "  array([  6.42761240e-04,   0.00000000e+00,   0.00000000e+00, ...,\n",
       "           2.07634083e-04,   1.22123734e-04,   8.65131968e-05]),\n",
       "  array([  0.00000000e+00,   0.00000000e+00,   0.00000000e+00, ...,\n",
       "           2.06750569e-04,   1.12752307e-04,   8.89733769e-05]),\n",
       "  array([  0.00000000e+00,   5.55159578e-04,   0.00000000e+00, ...,\n",
       "           2.06923134e-04,   1.26863779e-04,   8.80370697e-05]),\n",
       "  array([  0.00000000e+00,   0.00000000e+00,   0.00000000e+00, ...,\n",
       "           2.03520600e-04,   1.14957747e-04,   8.41644763e-05])],\n",
       " 'resp': array([[ 0.,  0.,  0., ...,  0.,  0.,  0.],\n",
       "        [ 0.,  0.,  0., ...,  0.,  0.,  0.],\n",
       "        [ 0.,  0.,  0., ...,  0.,  0.,  0.],\n",
       "        ..., \n",
       "        [ 0.,  0.,  0., ...,  0.,  0.,  0.],\n",
       "        [ 1.,  0.,  0., ...,  0.,  0.,  0.],\n",
       "        [ 0.,  0.,  1., ...,  0.,  0.,  0.]]),\n",
       " 'weights': array([ 0.0198,  0.0772,  0.0322,  0.0212,  0.0492,  0.0374,  0.0444,\n",
       "         0.059 ,  0.0608,  0.0342,  0.0464,  0.0482,  0.0504,  0.023 ,\n",
       "         0.0336,  0.0432,  0.0284,  0.0294,  0.0264,  0.0368,  0.0332,\n",
       "         0.0454,  0.0324,  0.0348,  0.053 ])}"
      ]
     },
     "execution_count": 77,
     "metadata": {},
     "output_type": "execute_result"
    }
   ],
   "source": [
    "out_random_init"
   ]
  },
  {
   "cell_type": "markdown",
   "metadata": {},
   "source": [
    "**Quiz Question:** Is the final loglikelihood larger or smaller than the final loglikelihood we obtained above when initializing EM with the results from running k-means?"
   ]
  },
  {
   "cell_type": "code",
   "execution_count": 78,
   "metadata": {
    "collapsed": false,
    "scrolled": true
   },
   "outputs": [
    {
     "data": {
      "text/plain": [
       "[3879279565.4821482, 4883345753.5331306, 4883345753.5331306]"
      ]
     },
     "execution_count": 78,
     "metadata": {},
     "output_type": "execute_result"
    }
   ],
   "source": [
    "out['loglik']"
   ]
  },
  {
   "cell_type": "code",
   "execution_count": 79,
   "metadata": {
    "collapsed": false,
    "scrolled": true
   },
   "outputs": [
    {
     "data": {
      "text/plain": [
       "{'covs': [array([  1.00000000e-10,   1.00000000e-10,   1.00000000e-10, ...,\n",
       "           6.51877866e-09,   3.35273163e-09,   1.39388715e-09]),\n",
       "  array([  1.00000000e-10,   1.00000000e-10,   1.00000000e-10, ...,\n",
       "           9.03175914e-09,   2.98528202e-09,   1.02418143e-09]),\n",
       "  array([  1.00000000e-10,   1.00000000e-10,   1.00000000e-10, ...,\n",
       "           8.11103040e-09,   1.40877532e-09,   9.29567270e-10]),\n",
       "  array([  1.00000000e-10,   1.00000000e-10,   1.00000000e-10, ...,\n",
       "           6.40751196e-09,   2.59161887e-09,   8.83380254e-10]),\n",
       "  array([  1.00000000e-10,   1.00000000e-10,   1.00000000e-10, ...,\n",
       "           8.04873735e-09,   2.39484591e-09,   1.19487932e-09]),\n",
       "  array([  1.00000000e-10,   1.00000000e-10,   1.00000000e-10, ...,\n",
       "           7.78973227e-09,   1.78311757e-09,   1.18406753e-09]),\n",
       "  array([  1.00000000e-10,   1.00000000e-10,   1.00000000e-10, ...,\n",
       "           7.76283763e-09,   1.44231712e-09,   1.04035900e-09]),\n",
       "  array([  1.00000000e-10,   1.00000000e-10,   1.00000000e-10, ...,\n",
       "           9.33954538e-09,   2.59919024e-09,   1.13289555e-09]),\n",
       "  array([  1.00000000e-10,   1.00000000e-10,   1.00000000e-10, ...,\n",
       "           9.85042809e-09,   3.39051765e-09,   6.78321255e-10]),\n",
       "  array([  1.00000000e-10,   1.00000000e-10,   1.00000000e-10, ...,\n",
       "           6.24485996e-09,   2.87929958e-09,   1.08120493e-09]),\n",
       "  array([  1.00000000e-10,   1.00000000e-10,   1.00000000e-10, ...,\n",
       "           8.94942536e-09,   2.86328189e-09,   9.24960665e-10]),\n",
       "  array([  1.00000000e-10,   1.00000000e-10,   1.00000000e-10, ...,\n",
       "           8.17405306e-09,   3.56157974e-09,   1.16412334e-09]),\n",
       "  array([  1.00000000e-10,   1.00000000e-10,   7.76577387e-05, ...,\n",
       "           6.88620064e-09,   3.43609243e-09,   1.45977425e-09]),\n",
       "  array([  1.00000000e-10,   1.00000000e-10,   1.00000000e-10, ...,\n",
       "           7.77031268e-09,   1.31533903e-09,   1.08287930e-09]),\n",
       "  array([  1.00000000e-10,   1.00000000e-10,   1.00000000e-10, ...,\n",
       "           7.20227237e-09,   1.70141415e-09,   9.10968065e-10]),\n",
       "  array([  1.00000000e-10,   1.00000000e-10,   1.00000000e-10, ...,\n",
       "           5.88306287e-09,   1.55549588e-09,   7.38351767e-10]),\n",
       "  array([  1.00000000e-10,   1.00000000e-10,   1.00000000e-10, ...,\n",
       "           8.40515384e-09,   2.54659933e-09,   1.14038937e-09]),\n",
       "  array([  3.48996693e-05,   1.00000000e-10,   1.00000000e-10, ...,\n",
       "           6.10124132e-09,   1.90977348e-09,   8.58486201e-10]),\n",
       "  array([  1.00000000e-10,   1.00000000e-10,   1.00000000e-10, ...,\n",
       "           8.31941434e-09,   3.40905999e-09,   1.10737253e-09]),\n",
       "  array([  1.00000000e-10,   1.00000000e-10,   1.00000000e-10, ...,\n",
       "           7.98132650e-09,   1.48648704e-09,   8.27827454e-10]),\n",
       "  array([  1.00000000e-10,   1.00000000e-10,   1.00000000e-10, ...,\n",
       "           6.32281457e-09,   1.96004129e-09,   8.91974444e-10]),\n",
       "  array([  1.00000000e-10,   1.00000000e-10,   1.00000000e-10, ...,\n",
       "           6.77003723e-09,   3.08522435e-09,   1.11139793e-09]),\n",
       "  array([  1.00000000e-10,   1.00000000e-10,   1.00000000e-10, ...,\n",
       "           1.06200039e-08,   2.48762127e-09,   1.05453936e-09]),\n",
       "  array([  1.00000000e-10,   1.00000000e-10,   1.00000000e-10, ...,\n",
       "           6.98751004e-09,   2.21618136e-09,   1.03778108e-09]),\n",
       "  array([  1.00000000e-10,   2.59918986e-05,   1.00000000e-10, ...,\n",
       "           5.55163776e-09,   2.47025469e-09,   9.61968829e-10])],\n",
       " 'loglik': [3879279565.4821482, 4883345753.5331306, 4883345753.5331306],\n",
       " 'means': [array([  0.00000000e+00,   0.00000000e+00,   0.00000000e+00, ...,\n",
       "           1.79942936e-04,   1.38140667e-04,   7.52519518e-05]),\n",
       "  array([  0.00000000e+00,   0.00000000e+00,   0.00000000e+00, ...,\n",
       "           2.23579792e-04,   1.31387094e-04,   8.53687044e-05]),\n",
       "  array([  0.00000000e+00,   0.00000000e+00,   0.00000000e+00, ...,\n",
       "           2.57794488e-04,   9.10226593e-05,   8.63707823e-05]),\n",
       "  array([  0.00000000e+00,   0.00000000e+00,   0.00000000e+00, ...,\n",
       "           2.15889678e-04,   1.00662936e-04,   9.09111720e-05]),\n",
       "  array([  0.00000000e+00,   0.00000000e+00,   0.00000000e+00, ...,\n",
       "           1.90336708e-04,   1.39094073e-04,   8.35359900e-05]),\n",
       "  array([  0.00000000e+00,   0.00000000e+00,   0.00000000e+00, ...,\n",
       "           2.34408669e-04,   8.79722226e-05,   9.68849648e-05]),\n",
       "  array([  0.00000000e+00,   0.00000000e+00,   0.00000000e+00, ...,\n",
       "           2.43089838e-04,   8.02849784e-05,   8.49266981e-05]),\n",
       "  array([  0.00000000e+00,   0.00000000e+00,   0.00000000e+00, ...,\n",
       "           2.07034151e-04,   1.40097040e-04,   9.10716403e-05]),\n",
       "  array([  0.00000000e+00,   0.00000000e+00,   0.00000000e+00, ...,\n",
       "           2.05112230e-04,   1.39280540e-04,   7.45475368e-05]),\n",
       "  array([  0.00000000e+00,   0.00000000e+00,   0.00000000e+00, ...,\n",
       "           1.76996360e-04,   1.30430940e-04,   8.16364264e-05]),\n",
       "  array([  0.00000000e+00,   0.00000000e+00,   0.00000000e+00, ...,\n",
       "           2.21846594e-04,   1.47403392e-04,   8.45760373e-05]),\n",
       "  array([  0.00000000e+00,   0.00000000e+00,   0.00000000e+00, ...,\n",
       "           2.06149890e-04,   1.55238693e-04,   9.35933016e-05]),\n",
       "  array([  0.00000000e+00,   0.00000000e+00,   7.69939220e-04, ...,\n",
       "           2.02029547e-04,   1.25717072e-04,   9.33672496e-05]),\n",
       "  array([  0.00000000e+00,   0.00000000e+00,   0.00000000e+00, ...,\n",
       "           2.07547516e-04,   8.31657974e-05,   1.07994050e-04]),\n",
       "  array([ 0.        ,  0.        ,  0.        , ...,  0.00025411,\n",
       "          0.00010377,  0.00010457]),\n",
       "  array([  0.00000000e+00,   0.00000000e+00,   0.00000000e+00, ...,\n",
       "           2.07576195e-04,   1.03214956e-04,   9.27617511e-05]),\n",
       "  array([  0.00000000e+00,   0.00000000e+00,   0.00000000e+00, ...,\n",
       "           2.22518434e-04,   1.11184683e-04,   9.47769141e-05]),\n",
       "  array([  2.39584239e-04,   0.00000000e+00,   0.00000000e+00, ...,\n",
       "           1.66383200e-04,   1.02229585e-04,   7.45341124e-05]),\n",
       "  array([  0.00000000e+00,   0.00000000e+00,   0.00000000e+00, ...,\n",
       "           1.91815412e-04,   1.56645470e-04,   9.46711655e-05]),\n",
       "  array([  0.00000000e+00,   0.00000000e+00,   0.00000000e+00, ...,\n",
       "           2.68211934e-04,   8.74442072e-05,   9.76059782e-05]),\n",
       "  array([  0.00000000e+00,   0.00000000e+00,   0.00000000e+00, ...,\n",
       "           2.03583915e-04,   1.13154052e-04,   9.46074606e-05]),\n",
       "  array([  0.00000000e+00,   0.00000000e+00,   0.00000000e+00, ...,\n",
       "           1.81351373e-04,   1.37846017e-04,   8.12510991e-05]),\n",
       "  array([  0.00000000e+00,   0.00000000e+00,   0.00000000e+00, ...,\n",
       "           2.27670892e-04,   1.43313323e-04,   9.40545820e-05]),\n",
       "  array([ 0.        ,  0.        ,  0.        , ...,  0.00020392,\n",
       "          0.00010381,  0.00010233]),\n",
       "  array([  0.00000000e+00,   2.69826164e-04,   0.00000000e+00, ...,\n",
       "           1.63292080e-04,   1.35964683e-04,   7.72546921e-05])],\n",
       " 'resp': array([[ 0.,  0.,  1., ...,  0.,  0.,  0.],\n",
       "        [ 0.,  0.,  0., ...,  0.,  0.,  0.],\n",
       "        [ 0.,  0.,  0., ...,  0.,  0.,  1.],\n",
       "        ..., \n",
       "        [ 0.,  0.,  0., ...,  0.,  0.,  0.],\n",
       "        [ 0.,  0.,  0., ...,  0.,  0.,  0.],\n",
       "        [ 0.,  0.,  0., ...,  0.,  0.,  0.]]),\n",
       " 'weights': array([ 0.009 ,  0.081 ,  0.0536,  0.0336,  0.036 ,  0.014 ,  0.0412,\n",
       "         0.0256,  0.0104,  0.066 ,  0.0282,  0.0912,  0.0264,  0.0256,\n",
       "         0.035 ,  0.0214,  0.0142,  0.1218,  0.0308,  0.0178,  0.0272,\n",
       "         0.038 ,  0.0412,  0.0392,  0.0716])}"
      ]
     },
     "execution_count": 79,
     "metadata": {},
     "output_type": "execute_result"
    }
   ],
   "source": [
    "out"
   ]
  },
  {
   "cell_type": "markdown",
   "metadata": {},
   "source": [
    "**Quiz Question**: For the above model, `out_random_init`, use the `visualize_EM_clusters` method you created above. Are the clusters more or less interpretable than the ones found after initializing using k-means?"
   ]
  },
  {
   "cell_type": "code",
   "execution_count": 80,
   "metadata": {
    "collapsed": false
   },
   "outputs": [
    {
     "name": "stdout",
     "output_type": "stream",
     "text": [
      "\n",
      "==========================================================\n",
      "Cluster 0: Largest mean parameters in cluster \n",
      "\n",
      "Word        Mean        Variance    \n",
      "morrell     0.00e+00    1.00e-05\n",
      "football    2.78e-03    2.43e-04\n",
      "kangaroos   0.00e+00    1.00e-05\n",
      "club        1.92e-03    1.47e-04\n",
      "carlton     0.00e+00    1.00e-05\n",
      "\n",
      "==========================================================\n",
      "Cluster 1: Largest mean parameters in cluster \n",
      "\n",
      "Word        Mean        Variance    \n",
      "melatonin   0.00e+00    1.00e-05\n",
      "lewy        0.00e+00    1.00e-05\n",
      "circadian   0.00e+00    1.00e-05\n",
      "disorders   2.21e-04    2.88e-05\n",
      "exposure    0.00e+00    1.00e-05\n",
      "\n",
      "==========================================================\n",
      "Cluster 2: Largest mean parameters in cluster \n",
      "\n",
      "Word        Mean        Variance    \n",
      "blues       5.87e-04    3.75e-05\n",
      "harpdog     0.00e+00    1.00e-05\n",
      "harmonica   8.44e-04    6.68e-05\n",
      "germanyover 0.00e+00    1.00e-05\n",
      "surveybrown 0.00e+00    1.00e-05\n",
      "\n",
      "==========================================================\n",
      "Cluster 3: Largest mean parameters in cluster \n",
      "\n",
      "Word        Mean        Variance    \n",
      "lem         0.00e+00    1.00e-05\n",
      "fiction     4.50e-03    6.73e-04\n",
      "rottensteiner0.00e+00    1.00e-05\n",
      "stanislaw   0.00e+00    1.00e-05\n",
      "science     4.13e-03    2.00e-04\n",
      "\n",
      "==========================================================\n",
      "Cluster 4: Largest mean parameters in cluster \n",
      "\n",
      "Word        Mean        Variance    \n",
      "genka       0.00e+00    1.00e-05\n",
      "toe         2.47e-04    2.49e-05\n",
      "legendaarne 0.00e+00    1.00e-05\n",
      "arhm        0.00e+00    1.00e-05\n",
      "tag         3.22e-04    3.54e-05\n",
      "\n",
      "==========================================================\n",
      "Cluster 5: Largest mean parameters in cluster \n",
      "\n",
      "Word        Mean        Variance    \n",
      "whistle     1.62e-03    5.01e-04\n",
      "5009        1.61e-03    4.93e-04\n",
      "hendersons  1.48e-03    4.18e-04\n",
      "comic       1.74e-03    4.02e-04\n",
      "henderson   2.07e-03    3.40e-04\n",
      "\n",
      "==========================================================\n",
      "Cluster 6: Largest mean parameters in cluster \n",
      "\n",
      "Word        Mean        Variance    \n",
      "lacrate     0.00e+00    1.00e-05\n",
      "milkcrate   0.00e+00    1.00e-05\n",
      "baltimore   4.04e-04    2.91e-05\n",
      "dizzee      0.00e+00    1.00e-05\n",
      "rakim       0.00e+00    1.00e-05\n",
      "\n",
      "==========================================================\n",
      "Cluster 7: Largest mean parameters in cluster \n",
      "\n",
      "Word        Mean        Variance    \n",
      "farrow      0.00e+00    1.00e-05\n",
      "infinitheatre0.00e+00    1.00e-05\n",
      "montreal    1.08e-03    8.84e-05\n",
      "novel       3.18e-03    4.57e-04\n",
      "trevor      0.00e+00    1.00e-05\n",
      "\n",
      "==========================================================\n",
      "Cluster 8: Largest mean parameters in cluster \n",
      "\n",
      "Word        Mean        Variance    \n",
      "wishdokta   0.00e+00    1.00e-05\n",
      "nelson      1.73e-04    1.91e-05\n",
      "bump        0.00e+00    1.00e-05\n",
      "ripe        0.00e+00    1.00e-05\n",
      "flex        0.00e+00    1.00e-05\n",
      "\n",
      "==========================================================\n",
      "Cluster 9: Largest mean parameters in cluster \n",
      "\n",
      "Word        Mean        Variance    \n",
      "trauma      0.00e+00    1.00e-05\n",
      "hopkins     3.91e-04    3.60e-05\n",
      "johns       1.31e-03    8.30e-05\n",
      "literature  1.89e-03    1.12e-04\n",
      "comparative 3.32e-04    2.87e-05\n",
      "\n",
      "==========================================================\n",
      "Cluster 10: Largest mean parameters in cluster \n",
      "\n",
      "Word        Mean        Variance    \n",
      "crumb       0.00e+00    1.00e-05\n",
      "sophie      3.25e-04    3.45e-05\n",
      "zwigoff     0.00e+00    1.00e-05\n",
      "comics      0.00e+00    1.00e-05\n",
      "her         2.11e-02    1.96e-03\n",
      "\n",
      "==========================================================\n",
      "Cluster 11: Largest mean parameters in cluster \n",
      "\n",
      "Word        Mean        Variance    \n",
      "novel       3.95e-03    6.33e-04\n",
      "writing     3.03e-03    1.71e-04\n",
      "ashworth    0.00e+00    1.00e-05\n",
      "jenn        0.00e+00    1.00e-05\n",
      "creative    1.47e-03    1.50e-04\n",
      "\n",
      "==========================================================\n",
      "Cluster 12: Largest mean parameters in cluster \n",
      "\n",
      "Word        Mean        Variance    \n",
      "hoefler     0.00e+00    1.00e-05\n",
      "frerejones  0.00e+00    1.00e-05\n",
      "type        1.03e-03    1.54e-04\n",
      "typefaces   9.50e-04    1.38e-04\n",
      "foundry     0.00e+00    1.00e-05\n",
      "\n",
      "==========================================================\n",
      "Cluster 13: Largest mean parameters in cluster \n",
      "\n",
      "Word        Mean        Variance    \n",
      "berkeley    1.89e-03    1.62e-04\n",
      "gueterbock  0.00e+00    1.00e-05\n",
      "baron       1.09e-03    1.45e-04\n",
      "freight     0.00e+00    1.00e-05\n",
      "rail        0.00e+00    1.00e-05\n",
      "\n",
      "==========================================================\n",
      "Cluster 14: Largest mean parameters in cluster \n",
      "\n",
      "Word        Mean        Variance    \n",
      "chernushenko0.00e+00    1.00e-05\n",
      "ottawa      3.02e-04    2.53e-05\n",
      "green       6.84e-04    4.88e-05\n",
      "sustainable 0.00e+00    1.00e-05\n",
      "nrtee       0.00e+00    1.00e-05\n",
      "\n",
      "==========================================================\n",
      "Cluster 15: Largest mean parameters in cluster \n",
      "\n",
      "Word        Mean        Variance    \n",
      "steineck    0.00e+00    1.00e-05\n",
      "truckfighters0.00e+00    1.00e-05\n",
      "desert      7.56e-04    7.33e-05\n",
      "attracted   2.15e-04    1.99e-05\n",
      "tell        8.03e-04    5.64e-05\n",
      "\n",
      "==========================================================\n",
      "Cluster 16: Largest mean parameters in cluster \n",
      "\n",
      "Word        Mean        Variance    \n",
      "pinsent     0.00e+00    1.00e-05\n",
      "secondperson0.00e+00    1.00e-05\n",
      "physics     2.04e-03    2.23e-04\n",
      "catholic    7.91e-04    4.01e-05\n",
      "theology    8.44e-04    6.40e-05\n",
      "\n",
      "==========================================================\n",
      "Cluster 17: Largest mean parameters in cluster \n",
      "\n",
      "Word        Mean        Variance    \n",
      "laois       0.00e+00    1.00e-05\n",
      "leinster    0.00e+00    1.00e-05\n",
      "football    1.19e-02    1.92e-03\n",
      "dunne       0.00e+00    1.00e-05\n",
      "paddy       0.00e+00    1.00e-05\n",
      "\n",
      "==========================================================\n",
      "Cluster 18: Largest mean parameters in cluster \n",
      "\n",
      "Word        Mean        Variance    \n",
      "greek       0.00e+00    1.00e-05\n",
      "music       2.05e-02    2.45e-03\n",
      "orchestral  9.09e-04    6.38e-05\n",
      "athens      0.00e+00    1.00e-05\n",
      "anax        0.00e+00    1.00e-05\n",
      "\n",
      "==========================================================\n",
      "Cluster 19: Largest mean parameters in cluster \n",
      "\n",
      "Word        Mean        Variance    \n",
      "campbell    0.00e+00    1.00e-05\n",
      "darwinism   0.00e+00    1.00e-05\n",
      "rhetoric    0.00e+00    1.00e-05\n",
      "intelligent 6.22e-04    4.65e-05\n",
      "design      1.91e-03    9.58e-05\n",
      "\n",
      "==========================================================\n",
      "Cluster 20: Largest mean parameters in cluster \n",
      "\n",
      "Word        Mean        Variance    \n",
      "band        3.54e-03    2.57e-04\n",
      "suburban    2.75e-04    2.25e-05\n",
      "legends     5.06e-04    5.23e-05\n",
      "batstone    0.00e+00    1.00e-05\n",
      "tim         1.28e-03    6.57e-05\n",
      "\n",
      "==========================================================\n",
      "Cluster 21: Largest mean parameters in cluster \n",
      "\n",
      "Word        Mean        Variance    \n",
      "scarlets    0.00e+00    1.00e-05\n",
      "flyhalf     0.00e+00    1.00e-05\n",
      "magners     0.00e+00    1.00e-05\n",
      "thomas      4.07e-03    4.47e-04\n",
      "priestland  0.00e+00    1.00e-05\n",
      "\n",
      "==========================================================\n",
      "Cluster 22: Largest mean parameters in cluster \n",
      "\n",
      "Word        Mean        Variance    \n",
      "sellimi     0.00e+00    1.00e-05\n",
      "nantes      0.00e+00    1.00e-05\n",
      "cup         3.22e-03    3.12e-04\n",
      "tunisia     0.00e+00    1.00e-05\n",
      "tunisian    0.00e+00    1.00e-05\n",
      "\n",
      "==========================================================\n",
      "Cluster 23: Largest mean parameters in cluster \n",
      "\n",
      "Word        Mean        Variance    \n",
      "soloway     0.00e+00    1.00e-05\n",
      "soloways    0.00e+00    1.00e-05\n",
      "aizley      0.00e+00    1.00e-05\n",
      "mommies     0.00e+00    1.00e-05\n",
      "folk        4.04e-03    8.39e-04\n",
      "\n",
      "==========================================================\n",
      "Cluster 24: Largest mean parameters in cluster \n",
      "\n",
      "Word        Mean        Variance    \n",
      "queercore   0.00e+00    1.00e-05\n",
      "jennings    5.95e-04    5.75e-05\n",
      "homocore    0.00e+00    1.00e-05\n",
      "deke        0.00e+00    1.00e-05\n",
      "fidonet     0.00e+00    1.00e-05\n",
      "\n",
      "==========================================================\n"
     ]
    }
   ],
   "source": [
    "# YOUR CODE HERE. Use visualize_EM_clusters, which will require you to pass in tf_idf and map_index_to_word.\n",
    "visualize_EM_clusters(tf_idf, out_random_init['means'], out_random_init['covs'], map_index_to_word)"
   ]
  },
  {
   "cell_type": "markdown",
   "metadata": {
    "collapsed": true
   },
   "source": [
    "**Note**: Random initialization may sometimes produce a superior fit than k-means initialization. We do not claim that random initialization is always worse. However, this section does illustrate that random initialization often produces much worse clustering than k-means counterpart. This is the reason why we provide the particular random seed (`np.random.seed(5)`)."
   ]
  },
  {
   "cell_type": "markdown",
   "metadata": {
    "collapsed": true
   },
   "source": [
    "## Takeaway\n",
    "\n",
    "In this assignment we were able to apply the EM algorithm to a mixture of Gaussians model of text data. This was made possible by modifying the model to assume a diagonal covariance for each cluster, and by modifying the implementation to use a sparse matrix representation. In the second part you explored the role of k-means initialization on the convergence of the model as well as the interpretability of the clusters."
   ]
  },
  {
   "cell_type": "code",
   "execution_count": null,
   "metadata": {
    "collapsed": true
   },
   "outputs": [],
   "source": []
  }
 ],
 "metadata": {
  "anaconda-cloud": {},
  "kernelspec": {
   "display_name": "Python 2",
   "language": "python",
   "name": "python2"
  },
  "language_info": {
   "codemirror_mode": {
    "name": "ipython",
    "version": 2
   },
   "file_extension": ".py",
   "mimetype": "text/x-python",
   "name": "python",
   "nbconvert_exporter": "python",
   "pygments_lexer": "ipython2",
   "version": "2.7.11"
  }
 },
 "nbformat": 4,
 "nbformat_minor": 0
}
